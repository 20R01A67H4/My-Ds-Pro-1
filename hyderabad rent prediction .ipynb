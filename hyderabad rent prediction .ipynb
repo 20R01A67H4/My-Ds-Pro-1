{
 "cells": [
  {
   "cell_type": "code",
   "execution_count": 450,
   "id": "28093e58",
   "metadata": {},
   "outputs": [],
   "source": [
    "import numpy as np\n",
    "import pandas as pd\n",
    "import matplotlib.pyplot as plt\n",
    "import seaborn as sns\n",
    "import warnings\n",
    "warnings.filterwarnings('ignore')"
   ]
  },
  {
   "cell_type": "code",
   "execution_count": null,
   "id": "51640d29",
   "metadata": {},
   "outputs": [],
   "source": []
  },
  {
   "cell_type": "code",
   "execution_count": 451,
   "id": "e5487d8c",
   "metadata": {},
   "outputs": [],
   "source": [
    "df= pd.read_csv(\"hyd_v.csv\")"
   ]
  },
  {
   "cell_type": "code",
   "execution_count": 452,
   "id": "9f709342",
   "metadata": {},
   "outputs": [
    {
     "data": {
      "text/html": [
       "<div>\n",
       "<style scoped>\n",
       "    .dataframe tbody tr th:only-of-type {\n",
       "        vertical-align: middle;\n",
       "    }\n",
       "\n",
       "    .dataframe tbody tr th {\n",
       "        vertical-align: top;\n",
       "    }\n",
       "\n",
       "    .dataframe thead th {\n",
       "        text-align: right;\n",
       "    }\n",
       "</style>\n",
       "<table border=\"1\" class=\"dataframe\">\n",
       "  <thead>\n",
       "    <tr style=\"text-align: right;\">\n",
       "      <th></th>\n",
       "      <th>active</th>\n",
       "      <th>amenities</th>\n",
       "      <th>balconies</th>\n",
       "      <th>bathroom</th>\n",
       "      <th>combineDescription</th>\n",
       "      <th>completeStreetName</th>\n",
       "      <th>deposit</th>\n",
       "      <th>facing</th>\n",
       "      <th>facingDesc</th>\n",
       "      <th>floor</th>\n",
       "      <th>...</th>\n",
       "      <th>property_size</th>\n",
       "      <th>reactivationSource</th>\n",
       "      <th>rent_amount</th>\n",
       "      <th>sharedAccomodation</th>\n",
       "      <th>shortUrl</th>\n",
       "      <th>swimmingPool</th>\n",
       "      <th>totalFloor</th>\n",
       "      <th>type_bhk</th>\n",
       "      <th>waterSupply</th>\n",
       "      <th>weight</th>\n",
       "    </tr>\n",
       "  </thead>\n",
       "  <tbody>\n",
       "    <tr>\n",
       "      <th>0</th>\n",
       "      <td>True</td>\n",
       "      <td>{\"LIFT\":true,\"GYM\":false,\"INTERNET\":false,\"AC\"...</td>\n",
       "      <td>3</td>\n",
       "      <td>3</td>\n",
       "      <td>NaN</td>\n",
       "      <td>Shreya carnation, Block I, NCB Enclave, Gachib...</td>\n",
       "      <td>90000</td>\n",
       "      <td>W</td>\n",
       "      <td>West</td>\n",
       "      <td>3</td>\n",
       "      <td>...</td>\n",
       "      <td>2200</td>\n",
       "      <td>USER_DASHBOARD</td>\n",
       "      <td>28000</td>\n",
       "      <td>False</td>\n",
       "      <td>http://nobr.kr/sv/9Kvqj</td>\n",
       "      <td>False</td>\n",
       "      <td>5</td>\n",
       "      <td>BHK3</td>\n",
       "      <td>CORP_BORE</td>\n",
       "      <td>NaN</td>\n",
       "    </tr>\n",
       "    <tr>\n",
       "      <th>1</th>\n",
       "      <td>True</td>\n",
       "      <td>{\"LIFT\":false,\"GYM\":false,\"INTERNET\":false,\"AC...</td>\n",
       "      <td>1</td>\n",
       "      <td>2</td>\n",
       "      <td>NaN</td>\n",
       "      <td>Inner Ring Rd,  near RTO Bandlaguda South Zone</td>\n",
       "      <td>45000</td>\n",
       "      <td>E</td>\n",
       "      <td>East</td>\n",
       "      <td>2</td>\n",
       "      <td>...</td>\n",
       "      <td>1200</td>\n",
       "      <td>USER_DASHBOARD</td>\n",
       "      <td>15000</td>\n",
       "      <td>False</td>\n",
       "      <td>http://nobr.kr/sv/j2pD6</td>\n",
       "      <td>False</td>\n",
       "      <td>2</td>\n",
       "      <td>BHK3</td>\n",
       "      <td>BOREWELL</td>\n",
       "      <td>NaN</td>\n",
       "    </tr>\n",
       "    <tr>\n",
       "      <th>2</th>\n",
       "      <td>True</td>\n",
       "      <td>{\"LIFT\":true,\"GYM\":true,\"INTERNET\":false,\"AC\":...</td>\n",
       "      <td>3</td>\n",
       "      <td>3</td>\n",
       "      <td>NaN</td>\n",
       "      <td>Rd Number 2, Shirdi Sai Nagar, Manikonda, Hyde...</td>\n",
       "      <td>80000</td>\n",
       "      <td>E</td>\n",
       "      <td>East</td>\n",
       "      <td>0</td>\n",
       "      <td>...</td>\n",
       "      <td>1800</td>\n",
       "      <td>MISSED_CALL</td>\n",
       "      <td>16000</td>\n",
       "      <td>False</td>\n",
       "      <td>http://nobr.kr/sv/TXJmj</td>\n",
       "      <td>False</td>\n",
       "      <td>3</td>\n",
       "      <td>BHK3</td>\n",
       "      <td>CORP_BORE</td>\n",
       "      <td>NaN</td>\n",
       "    </tr>\n",
       "    <tr>\n",
       "      <th>3</th>\n",
       "      <td>True</td>\n",
       "      <td>{\"LIFT\":false,\"GYM\":false,\"INTERNET\":false,\"AC...</td>\n",
       "      <td>1</td>\n",
       "      <td>2</td>\n",
       "      <td>NaN</td>\n",
       "      <td>Plot No. 44, Road No. 1/A, kakatiya colony, LB...</td>\n",
       "      <td>18000</td>\n",
       "      <td>W</td>\n",
       "      <td>West</td>\n",
       "      <td>2</td>\n",
       "      <td>...</td>\n",
       "      <td>750</td>\n",
       "      <td>MISSED_CALL</td>\n",
       "      <td>9000</td>\n",
       "      <td>False</td>\n",
       "      <td>http://nobr.kr/sv/FnCsf</td>\n",
       "      <td>False</td>\n",
       "      <td>2</td>\n",
       "      <td>BHK2</td>\n",
       "      <td>CORP_BORE</td>\n",
       "      <td>NaN</td>\n",
       "    </tr>\n",
       "    <tr>\n",
       "      <th>4</th>\n",
       "      <td>True</td>\n",
       "      <td>{\"LIFT\":true,\"GYM\":false,\"INTERNET\":false,\"AC\"...</td>\n",
       "      <td>2</td>\n",
       "      <td>2</td>\n",
       "      <td>NaN</td>\n",
       "      <td>Madhapur HUDA Techno Enclave,  Near MaxCure Su...</td>\n",
       "      <td>80000</td>\n",
       "      <td>E</td>\n",
       "      <td>East</td>\n",
       "      <td>2</td>\n",
       "      <td>...</td>\n",
       "      <td>1250</td>\n",
       "      <td>None</td>\n",
       "      <td>32500</td>\n",
       "      <td>False</td>\n",
       "      <td>http://nobr.kr/sv/BQFRb</td>\n",
       "      <td>False</td>\n",
       "      <td>5</td>\n",
       "      <td>BHK2</td>\n",
       "      <td>CORP_BORE</td>\n",
       "      <td>NaN</td>\n",
       "    </tr>\n",
       "    <tr>\n",
       "      <th>...</th>\n",
       "      <td>...</td>\n",
       "      <td>...</td>\n",
       "      <td>...</td>\n",
       "      <td>...</td>\n",
       "      <td>...</td>\n",
       "      <td>...</td>\n",
       "      <td>...</td>\n",
       "      <td>...</td>\n",
       "      <td>...</td>\n",
       "      <td>...</td>\n",
       "      <td>...</td>\n",
       "      <td>...</td>\n",
       "      <td>...</td>\n",
       "      <td>...</td>\n",
       "      <td>...</td>\n",
       "      <td>...</td>\n",
       "      <td>...</td>\n",
       "      <td>...</td>\n",
       "      <td>...</td>\n",
       "      <td>...</td>\n",
       "      <td>...</td>\n",
       "    </tr>\n",
       "    <tr>\n",
       "      <th>19105</th>\n",
       "      <td>True</td>\n",
       "      <td>{\"LIFT\":true,\"GYM\":false,\"INTERNET\":false,\"AC\"...</td>\n",
       "      <td>None</td>\n",
       "      <td>1</td>\n",
       "      <td>NaN</td>\n",
       "      <td>Dargah Road LIG Chitrapuri Colony,  Nagar nea...</td>\n",
       "      <td>17000</td>\n",
       "      <td>None</td>\n",
       "      <td>NaN</td>\n",
       "      <td>0</td>\n",
       "      <td>...</td>\n",
       "      <td>500</td>\n",
       "      <td>None</td>\n",
       "      <td>8500</td>\n",
       "      <td>False</td>\n",
       "      <td>http://nobr.kr/sv/LYsBc</td>\n",
       "      <td>False</td>\n",
       "      <td>5</td>\n",
       "      <td>BHK1</td>\n",
       "      <td>None</td>\n",
       "      <td>NaN</td>\n",
       "    </tr>\n",
       "    <tr>\n",
       "      <th>19106</th>\n",
       "      <td>True</td>\n",
       "      <td>{\"LIFT\":false,\"GYM\":false,\"INTERNET\":false,\"AC...</td>\n",
       "      <td>2</td>\n",
       "      <td>2</td>\n",
       "      <td>NaN</td>\n",
       "      <td>East Gayathri Nagar Near More Super Market</td>\n",
       "      <td>8500</td>\n",
       "      <td>S</td>\n",
       "      <td>South</td>\n",
       "      <td>2</td>\n",
       "      <td>...</td>\n",
       "      <td>900</td>\n",
       "      <td>None</td>\n",
       "      <td>8500</td>\n",
       "      <td>False</td>\n",
       "      <td>http://nobr.kr/sv/45R5g</td>\n",
       "      <td>False</td>\n",
       "      <td>4</td>\n",
       "      <td>BHK2</td>\n",
       "      <td>BOREWELL</td>\n",
       "      <td>NaN</td>\n",
       "    </tr>\n",
       "    <tr>\n",
       "      <th>19107</th>\n",
       "      <td>True</td>\n",
       "      <td>{\"LIFT\":false,\"GYM\":false,\"INTERNET\":false,\"AC...</td>\n",
       "      <td>None</td>\n",
       "      <td>3</td>\n",
       "      <td>NaN</td>\n",
       "      <td>Pragathi Nagar near Vasundhara Hospital</td>\n",
       "      <td>30000</td>\n",
       "      <td>None</td>\n",
       "      <td>NaN</td>\n",
       "      <td>3</td>\n",
       "      <td>...</td>\n",
       "      <td>1150</td>\n",
       "      <td>PROPERTY_DASHBOARD</td>\n",
       "      <td>15000</td>\n",
       "      <td>False</td>\n",
       "      <td>http://nobr.kr/sv/B2R5g</td>\n",
       "      <td>False</td>\n",
       "      <td>3</td>\n",
       "      <td>BHK2</td>\n",
       "      <td>None</td>\n",
       "      <td>NaN</td>\n",
       "    </tr>\n",
       "    <tr>\n",
       "      <th>19108</th>\n",
       "      <td>True</td>\n",
       "      <td>{\"LIFT\":false,\"GYM\":false,\"INTERNET\":false,\"AC...</td>\n",
       "      <td>None</td>\n",
       "      <td>1</td>\n",
       "      <td>NaN</td>\n",
       "      <td>Road no 2 ,Near Ramalayam Temple</td>\n",
       "      <td>13000</td>\n",
       "      <td>None</td>\n",
       "      <td>NaN</td>\n",
       "      <td>3</td>\n",
       "      <td>...</td>\n",
       "      <td>500</td>\n",
       "      <td>PROPERTY_DASHBOARD</td>\n",
       "      <td>7000</td>\n",
       "      <td>False</td>\n",
       "      <td>http://nobr.kr/sv/PyQ5g</td>\n",
       "      <td>False</td>\n",
       "      <td>3</td>\n",
       "      <td>BHK1</td>\n",
       "      <td>None</td>\n",
       "      <td>NaN</td>\n",
       "    </tr>\n",
       "    <tr>\n",
       "      <th>19109</th>\n",
       "      <td>True</td>\n",
       "      <td>{\"LIFT\":false,\"GYM\":false,\"INTERNET\":false,\"AC...</td>\n",
       "      <td>None</td>\n",
       "      <td>1</td>\n",
       "      <td>NaN</td>\n",
       "      <td>ce colony near Sri Srinivasa Hospital</td>\n",
       "      <td>11000</td>\n",
       "      <td>None</td>\n",
       "      <td>NaN</td>\n",
       "      <td>1</td>\n",
       "      <td>...</td>\n",
       "      <td>400</td>\n",
       "      <td>PROPERTY_DASHBOARD</td>\n",
       "      <td>5500</td>\n",
       "      <td>False</td>\n",
       "      <td>http://nobr.kr/sv/JZWBb</td>\n",
       "      <td>False</td>\n",
       "      <td>1</td>\n",
       "      <td>BHK1</td>\n",
       "      <td>None</td>\n",
       "      <td>NaN</td>\n",
       "    </tr>\n",
       "  </tbody>\n",
       "</table>\n",
       "<p>19110 rows × 36 columns</p>\n",
       "</div>"
      ],
      "text/plain": [
       "       active                                          amenities balconies  \\\n",
       "0        True  {\"LIFT\":true,\"GYM\":false,\"INTERNET\":false,\"AC\"...         3   \n",
       "1        True  {\"LIFT\":false,\"GYM\":false,\"INTERNET\":false,\"AC...         1   \n",
       "2        True  {\"LIFT\":true,\"GYM\":true,\"INTERNET\":false,\"AC\":...         3   \n",
       "3        True  {\"LIFT\":false,\"GYM\":false,\"INTERNET\":false,\"AC...         1   \n",
       "4        True  {\"LIFT\":true,\"GYM\":false,\"INTERNET\":false,\"AC\"...         2   \n",
       "...       ...                                                ...       ...   \n",
       "19105    True  {\"LIFT\":true,\"GYM\":false,\"INTERNET\":false,\"AC\"...      None   \n",
       "19106    True  {\"LIFT\":false,\"GYM\":false,\"INTERNET\":false,\"AC...         2   \n",
       "19107    True  {\"LIFT\":false,\"GYM\":false,\"INTERNET\":false,\"AC...      None   \n",
       "19108    True  {\"LIFT\":false,\"GYM\":false,\"INTERNET\":false,\"AC...      None   \n",
       "19109    True  {\"LIFT\":false,\"GYM\":false,\"INTERNET\":false,\"AC...      None   \n",
       "\n",
       "       bathroom  combineDescription  \\\n",
       "0             3                 NaN   \n",
       "1             2                 NaN   \n",
       "2             3                 NaN   \n",
       "3             2                 NaN   \n",
       "4             2                 NaN   \n",
       "...         ...                 ...   \n",
       "19105         1                 NaN   \n",
       "19106         2                 NaN   \n",
       "19107         3                 NaN   \n",
       "19108         1                 NaN   \n",
       "19109         1                 NaN   \n",
       "\n",
       "                                      completeStreetName  deposit facing  \\\n",
       "0      Shreya carnation, Block I, NCB Enclave, Gachib...    90000      W   \n",
       "1         Inner Ring Rd,  near RTO Bandlaguda South Zone    45000      E   \n",
       "2      Rd Number 2, Shirdi Sai Nagar, Manikonda, Hyde...    80000      E   \n",
       "3      Plot No. 44, Road No. 1/A, kakatiya colony, LB...    18000      W   \n",
       "4      Madhapur HUDA Techno Enclave,  Near MaxCure Su...    80000      E   \n",
       "...                                                  ...      ...    ...   \n",
       "19105   Dargah Road LIG Chitrapuri Colony,  Nagar nea...    17000   None   \n",
       "19106         East Gayathri Nagar Near More Super Market     8500      S   \n",
       "19107          Pragathi Nagar near Vasundhara Hospital      30000   None   \n",
       "19108                   Road no 2 ,Near Ramalayam Temple    13000   None   \n",
       "19109              ce colony near Sri Srinivasa Hospital    11000   None   \n",
       "\n",
       "      facingDesc  floor  ... property_size  reactivationSource rent_amount  \\\n",
       "0           West      3  ...          2200      USER_DASHBOARD       28000   \n",
       "1           East      2  ...          1200      USER_DASHBOARD       15000   \n",
       "2           East      0  ...          1800         MISSED_CALL       16000   \n",
       "3           West      2  ...           750         MISSED_CALL        9000   \n",
       "4           East      2  ...          1250                None       32500   \n",
       "...          ...    ...  ...           ...                 ...         ...   \n",
       "19105        NaN      0  ...           500                None        8500   \n",
       "19106      South      2  ...           900                None        8500   \n",
       "19107        NaN      3  ...          1150  PROPERTY_DASHBOARD       15000   \n",
       "19108        NaN      3  ...           500  PROPERTY_DASHBOARD        7000   \n",
       "19109        NaN      1  ...           400  PROPERTY_DASHBOARD        5500   \n",
       "\n",
       "       sharedAccomodation                 shortUrl  swimmingPool totalFloor  \\\n",
       "0                   False  http://nobr.kr/sv/9Kvqj         False          5   \n",
       "1                   False  http://nobr.kr/sv/j2pD6         False          2   \n",
       "2                   False  http://nobr.kr/sv/TXJmj         False          3   \n",
       "3                   False  http://nobr.kr/sv/FnCsf         False          2   \n",
       "4                   False  http://nobr.kr/sv/BQFRb         False          5   \n",
       "...                   ...                      ...           ...        ...   \n",
       "19105               False  http://nobr.kr/sv/LYsBc         False          5   \n",
       "19106               False  http://nobr.kr/sv/45R5g         False          4   \n",
       "19107               False  http://nobr.kr/sv/B2R5g         False          3   \n",
       "19108               False  http://nobr.kr/sv/PyQ5g         False          3   \n",
       "19109               False  http://nobr.kr/sv/JZWBb         False          1   \n",
       "\n",
       "      type_bhk waterSupply weight  \n",
       "0         BHK3   CORP_BORE    NaN  \n",
       "1         BHK3    BOREWELL    NaN  \n",
       "2         BHK3   CORP_BORE    NaN  \n",
       "3         BHK2   CORP_BORE    NaN  \n",
       "4         BHK2   CORP_BORE    NaN  \n",
       "...        ...         ...    ...  \n",
       "19105     BHK1        None    NaN  \n",
       "19106     BHK2    BOREWELL    NaN  \n",
       "19107     BHK2        None    NaN  \n",
       "19108     BHK1        None    NaN  \n",
       "19109     BHK1        None    NaN  \n",
       "\n",
       "[19110 rows x 36 columns]"
      ]
     },
     "execution_count": 452,
     "metadata": {},
     "output_type": "execute_result"
    }
   ],
   "source": [
    "df"
   ]
  },
  {
   "cell_type": "markdown",
   "id": "200dfb6a",
   "metadata": {},
   "source": [
    "\n",
    "##EDA\n"
   ]
  },
  {
   "cell_type": "code",
   "execution_count": 453,
   "id": "206139eb",
   "metadata": {},
   "outputs": [],
   "source": [
    "df.drop(['totalFloor','property_age','propertyType','parkingDesc','ownerName','localityId','loanAvailable'],axis=1,inplace=True)"
   ]
  },
  {
   "cell_type": "code",
   "execution_count": 454,
   "id": "dacfaa0c",
   "metadata": {},
   "outputs": [
    {
     "data": {
      "text/html": [
       "<div>\n",
       "<style scoped>\n",
       "    .dataframe tbody tr th:only-of-type {\n",
       "        vertical-align: middle;\n",
       "    }\n",
       "\n",
       "    .dataframe tbody tr th {\n",
       "        vertical-align: top;\n",
       "    }\n",
       "\n",
       "    .dataframe thead th {\n",
       "        text-align: right;\n",
       "    }\n",
       "</style>\n",
       "<table border=\"1\" class=\"dataframe\">\n",
       "  <thead>\n",
       "    <tr style=\"text-align: right;\">\n",
       "      <th></th>\n",
       "      <th>active</th>\n",
       "      <th>amenities</th>\n",
       "      <th>balconies</th>\n",
       "      <th>bathroom</th>\n",
       "      <th>combineDescription</th>\n",
       "      <th>completeStreetName</th>\n",
       "      <th>deposit</th>\n",
       "      <th>facing</th>\n",
       "      <th>facingDesc</th>\n",
       "      <th>floor</th>\n",
       "      <th>...</th>\n",
       "      <th>propertyTitle</th>\n",
       "      <th>property_size</th>\n",
       "      <th>reactivationSource</th>\n",
       "      <th>rent_amount</th>\n",
       "      <th>sharedAccomodation</th>\n",
       "      <th>shortUrl</th>\n",
       "      <th>swimmingPool</th>\n",
       "      <th>type_bhk</th>\n",
       "      <th>waterSupply</th>\n",
       "      <th>weight</th>\n",
       "    </tr>\n",
       "  </thead>\n",
       "  <tbody>\n",
       "    <tr>\n",
       "      <th>0</th>\n",
       "      <td>True</td>\n",
       "      <td>{\"LIFT\":true,\"GYM\":false,\"INTERNET\":false,\"AC\"...</td>\n",
       "      <td>3</td>\n",
       "      <td>3</td>\n",
       "      <td>NaN</td>\n",
       "      <td>Shreya carnation, Block I, NCB Enclave, Gachib...</td>\n",
       "      <td>90000</td>\n",
       "      <td>W</td>\n",
       "      <td>West</td>\n",
       "      <td>3</td>\n",
       "      <td>...</td>\n",
       "      <td>3 BHK For Rent in Shreya Carnation, Gachibowli</td>\n",
       "      <td>2200</td>\n",
       "      <td>USER_DASHBOARD</td>\n",
       "      <td>28000</td>\n",
       "      <td>False</td>\n",
       "      <td>http://nobr.kr/sv/9Kvqj</td>\n",
       "      <td>False</td>\n",
       "      <td>BHK3</td>\n",
       "      <td>CORP_BORE</td>\n",
       "      <td>NaN</td>\n",
       "    </tr>\n",
       "    <tr>\n",
       "      <th>1</th>\n",
       "      <td>True</td>\n",
       "      <td>{\"LIFT\":false,\"GYM\":false,\"INTERNET\":false,\"AC...</td>\n",
       "      <td>1</td>\n",
       "      <td>2</td>\n",
       "      <td>NaN</td>\n",
       "      <td>Inner Ring Rd,  near RTO Bandlaguda South Zone</td>\n",
       "      <td>45000</td>\n",
       "      <td>E</td>\n",
       "      <td>East</td>\n",
       "      <td>2</td>\n",
       "      <td>...</td>\n",
       "      <td>3 BHK For Rent in Chandrayangutta</td>\n",
       "      <td>1200</td>\n",
       "      <td>USER_DASHBOARD</td>\n",
       "      <td>15000</td>\n",
       "      <td>False</td>\n",
       "      <td>http://nobr.kr/sv/j2pD6</td>\n",
       "      <td>False</td>\n",
       "      <td>BHK3</td>\n",
       "      <td>BOREWELL</td>\n",
       "      <td>NaN</td>\n",
       "    </tr>\n",
       "    <tr>\n",
       "      <th>2</th>\n",
       "      <td>True</td>\n",
       "      <td>{\"LIFT\":true,\"GYM\":true,\"INTERNET\":false,\"AC\":...</td>\n",
       "      <td>3</td>\n",
       "      <td>3</td>\n",
       "      <td>NaN</td>\n",
       "      <td>Rd Number 2, Shirdi Sai Nagar, Manikonda, Hyde...</td>\n",
       "      <td>80000</td>\n",
       "      <td>E</td>\n",
       "      <td>East</td>\n",
       "      <td>0</td>\n",
       "      <td>...</td>\n",
       "      <td>3 BHK For Rent in Amrutha Avenue, Manikonda</td>\n",
       "      <td>1800</td>\n",
       "      <td>MISSED_CALL</td>\n",
       "      <td>16000</td>\n",
       "      <td>False</td>\n",
       "      <td>http://nobr.kr/sv/TXJmj</td>\n",
       "      <td>False</td>\n",
       "      <td>BHK3</td>\n",
       "      <td>CORP_BORE</td>\n",
       "      <td>NaN</td>\n",
       "    </tr>\n",
       "    <tr>\n",
       "      <th>3</th>\n",
       "      <td>True</td>\n",
       "      <td>{\"LIFT\":false,\"GYM\":false,\"INTERNET\":false,\"AC...</td>\n",
       "      <td>1</td>\n",
       "      <td>2</td>\n",
       "      <td>NaN</td>\n",
       "      <td>Plot No. 44, Road No. 1/A, kakatiya colony, LB...</td>\n",
       "      <td>18000</td>\n",
       "      <td>W</td>\n",
       "      <td>West</td>\n",
       "      <td>2</td>\n",
       "      <td>...</td>\n",
       "      <td>2 BHK For Rent in Standalone , Lb Nagar</td>\n",
       "      <td>750</td>\n",
       "      <td>MISSED_CALL</td>\n",
       "      <td>9000</td>\n",
       "      <td>False</td>\n",
       "      <td>http://nobr.kr/sv/FnCsf</td>\n",
       "      <td>False</td>\n",
       "      <td>BHK2</td>\n",
       "      <td>CORP_BORE</td>\n",
       "      <td>NaN</td>\n",
       "    </tr>\n",
       "    <tr>\n",
       "      <th>4</th>\n",
       "      <td>True</td>\n",
       "      <td>{\"LIFT\":true,\"GYM\":false,\"INTERNET\":false,\"AC\"...</td>\n",
       "      <td>2</td>\n",
       "      <td>2</td>\n",
       "      <td>NaN</td>\n",
       "      <td>Madhapur HUDA Techno Enclave,  Near MaxCure Su...</td>\n",
       "      <td>80000</td>\n",
       "      <td>E</td>\n",
       "      <td>East</td>\n",
       "      <td>2</td>\n",
       "      <td>...</td>\n",
       "      <td>2 BHK For Rent in Vibrant Residency, Hitec City</td>\n",
       "      <td>1250</td>\n",
       "      <td>None</td>\n",
       "      <td>32500</td>\n",
       "      <td>False</td>\n",
       "      <td>http://nobr.kr/sv/BQFRb</td>\n",
       "      <td>False</td>\n",
       "      <td>BHK2</td>\n",
       "      <td>CORP_BORE</td>\n",
       "      <td>NaN</td>\n",
       "    </tr>\n",
       "    <tr>\n",
       "      <th>...</th>\n",
       "      <td>...</td>\n",
       "      <td>...</td>\n",
       "      <td>...</td>\n",
       "      <td>...</td>\n",
       "      <td>...</td>\n",
       "      <td>...</td>\n",
       "      <td>...</td>\n",
       "      <td>...</td>\n",
       "      <td>...</td>\n",
       "      <td>...</td>\n",
       "      <td>...</td>\n",
       "      <td>...</td>\n",
       "      <td>...</td>\n",
       "      <td>...</td>\n",
       "      <td>...</td>\n",
       "      <td>...</td>\n",
       "      <td>...</td>\n",
       "      <td>...</td>\n",
       "      <td>...</td>\n",
       "      <td>...</td>\n",
       "      <td>...</td>\n",
       "    </tr>\n",
       "    <tr>\n",
       "      <th>19105</th>\n",
       "      <td>True</td>\n",
       "      <td>{\"LIFT\":true,\"GYM\":false,\"INTERNET\":false,\"AC\"...</td>\n",
       "      <td>None</td>\n",
       "      <td>1</td>\n",
       "      <td>NaN</td>\n",
       "      <td>Dargah Road LIG Chitrapuri Colony,  Nagar nea...</td>\n",
       "      <td>17000</td>\n",
       "      <td>None</td>\n",
       "      <td>NaN</td>\n",
       "      <td>0</td>\n",
       "      <td>...</td>\n",
       "      <td>1 BHK For Rent in Chitrapuri Colony , Gachibowli</td>\n",
       "      <td>500</td>\n",
       "      <td>None</td>\n",
       "      <td>8500</td>\n",
       "      <td>False</td>\n",
       "      <td>http://nobr.kr/sv/LYsBc</td>\n",
       "      <td>False</td>\n",
       "      <td>BHK1</td>\n",
       "      <td>None</td>\n",
       "      <td>NaN</td>\n",
       "    </tr>\n",
       "    <tr>\n",
       "      <th>19106</th>\n",
       "      <td>True</td>\n",
       "      <td>{\"LIFT\":false,\"GYM\":false,\"INTERNET\":false,\"AC...</td>\n",
       "      <td>2</td>\n",
       "      <td>2</td>\n",
       "      <td>NaN</td>\n",
       "      <td>East Gayathri Nagar Near More Super Market</td>\n",
       "      <td>8500</td>\n",
       "      <td>S</td>\n",
       "      <td>South</td>\n",
       "      <td>2</td>\n",
       "      <td>...</td>\n",
       "      <td>2 BHK For Rent in Jillalguda</td>\n",
       "      <td>900</td>\n",
       "      <td>None</td>\n",
       "      <td>8500</td>\n",
       "      <td>False</td>\n",
       "      <td>http://nobr.kr/sv/45R5g</td>\n",
       "      <td>False</td>\n",
       "      <td>BHK2</td>\n",
       "      <td>BOREWELL</td>\n",
       "      <td>NaN</td>\n",
       "    </tr>\n",
       "    <tr>\n",
       "      <th>19107</th>\n",
       "      <td>True</td>\n",
       "      <td>{\"LIFT\":false,\"GYM\":false,\"INTERNET\":false,\"AC...</td>\n",
       "      <td>None</td>\n",
       "      <td>3</td>\n",
       "      <td>NaN</td>\n",
       "      <td>Pragathi Nagar near Vasundhara Hospital</td>\n",
       "      <td>30000</td>\n",
       "      <td>None</td>\n",
       "      <td>NaN</td>\n",
       "      <td>3</td>\n",
       "      <td>...</td>\n",
       "      <td>2 BHK For Rent in  Moosapet</td>\n",
       "      <td>1150</td>\n",
       "      <td>PROPERTY_DASHBOARD</td>\n",
       "      <td>15000</td>\n",
       "      <td>False</td>\n",
       "      <td>http://nobr.kr/sv/B2R5g</td>\n",
       "      <td>False</td>\n",
       "      <td>BHK2</td>\n",
       "      <td>None</td>\n",
       "      <td>NaN</td>\n",
       "    </tr>\n",
       "    <tr>\n",
       "      <th>19108</th>\n",
       "      <td>True</td>\n",
       "      <td>{\"LIFT\":false,\"GYM\":false,\"INTERNET\":false,\"AC...</td>\n",
       "      <td>None</td>\n",
       "      <td>1</td>\n",
       "      <td>NaN</td>\n",
       "      <td>Road no 2 ,Near Ramalayam Temple</td>\n",
       "      <td>13000</td>\n",
       "      <td>None</td>\n",
       "      <td>NaN</td>\n",
       "      <td>3</td>\n",
       "      <td>...</td>\n",
       "      <td>1 BHK For Rent in Kukatpally</td>\n",
       "      <td>500</td>\n",
       "      <td>PROPERTY_DASHBOARD</td>\n",
       "      <td>7000</td>\n",
       "      <td>False</td>\n",
       "      <td>http://nobr.kr/sv/PyQ5g</td>\n",
       "      <td>False</td>\n",
       "      <td>BHK1</td>\n",
       "      <td>None</td>\n",
       "      <td>NaN</td>\n",
       "    </tr>\n",
       "    <tr>\n",
       "      <th>19109</th>\n",
       "      <td>True</td>\n",
       "      <td>{\"LIFT\":false,\"GYM\":false,\"INTERNET\":false,\"AC...</td>\n",
       "      <td>None</td>\n",
       "      <td>1</td>\n",
       "      <td>NaN</td>\n",
       "      <td>ce colony near Sri Srinivasa Hospital</td>\n",
       "      <td>11000</td>\n",
       "      <td>None</td>\n",
       "      <td>NaN</td>\n",
       "      <td>1</td>\n",
       "      <td>...</td>\n",
       "      <td>1 BHK For Rent in Santosh Nagar</td>\n",
       "      <td>400</td>\n",
       "      <td>PROPERTY_DASHBOARD</td>\n",
       "      <td>5500</td>\n",
       "      <td>False</td>\n",
       "      <td>http://nobr.kr/sv/JZWBb</td>\n",
       "      <td>False</td>\n",
       "      <td>BHK1</td>\n",
       "      <td>None</td>\n",
       "      <td>NaN</td>\n",
       "    </tr>\n",
       "  </tbody>\n",
       "</table>\n",
       "<p>19110 rows × 29 columns</p>\n",
       "</div>"
      ],
      "text/plain": [
       "       active                                          amenities balconies  \\\n",
       "0        True  {\"LIFT\":true,\"GYM\":false,\"INTERNET\":false,\"AC\"...         3   \n",
       "1        True  {\"LIFT\":false,\"GYM\":false,\"INTERNET\":false,\"AC...         1   \n",
       "2        True  {\"LIFT\":true,\"GYM\":true,\"INTERNET\":false,\"AC\":...         3   \n",
       "3        True  {\"LIFT\":false,\"GYM\":false,\"INTERNET\":false,\"AC...         1   \n",
       "4        True  {\"LIFT\":true,\"GYM\":false,\"INTERNET\":false,\"AC\"...         2   \n",
       "...       ...                                                ...       ...   \n",
       "19105    True  {\"LIFT\":true,\"GYM\":false,\"INTERNET\":false,\"AC\"...      None   \n",
       "19106    True  {\"LIFT\":false,\"GYM\":false,\"INTERNET\":false,\"AC...         2   \n",
       "19107    True  {\"LIFT\":false,\"GYM\":false,\"INTERNET\":false,\"AC...      None   \n",
       "19108    True  {\"LIFT\":false,\"GYM\":false,\"INTERNET\":false,\"AC...      None   \n",
       "19109    True  {\"LIFT\":false,\"GYM\":false,\"INTERNET\":false,\"AC...      None   \n",
       "\n",
       "       bathroom  combineDescription  \\\n",
       "0             3                 NaN   \n",
       "1             2                 NaN   \n",
       "2             3                 NaN   \n",
       "3             2                 NaN   \n",
       "4             2                 NaN   \n",
       "...         ...                 ...   \n",
       "19105         1                 NaN   \n",
       "19106         2                 NaN   \n",
       "19107         3                 NaN   \n",
       "19108         1                 NaN   \n",
       "19109         1                 NaN   \n",
       "\n",
       "                                      completeStreetName  deposit facing  \\\n",
       "0      Shreya carnation, Block I, NCB Enclave, Gachib...    90000      W   \n",
       "1         Inner Ring Rd,  near RTO Bandlaguda South Zone    45000      E   \n",
       "2      Rd Number 2, Shirdi Sai Nagar, Manikonda, Hyde...    80000      E   \n",
       "3      Plot No. 44, Road No. 1/A, kakatiya colony, LB...    18000      W   \n",
       "4      Madhapur HUDA Techno Enclave,  Near MaxCure Su...    80000      E   \n",
       "...                                                  ...      ...    ...   \n",
       "19105   Dargah Road LIG Chitrapuri Colony,  Nagar nea...    17000   None   \n",
       "19106         East Gayathri Nagar Near More Super Market     8500      S   \n",
       "19107          Pragathi Nagar near Vasundhara Hospital      30000   None   \n",
       "19108                   Road no 2 ,Near Ramalayam Temple    13000   None   \n",
       "19109              ce colony near Sri Srinivasa Hospital    11000   None   \n",
       "\n",
       "      facingDesc  floor  ...  \\\n",
       "0           West      3  ...   \n",
       "1           East      2  ...   \n",
       "2           East      0  ...   \n",
       "3           West      2  ...   \n",
       "4           East      2  ...   \n",
       "...          ...    ...  ...   \n",
       "19105        NaN      0  ...   \n",
       "19106      South      2  ...   \n",
       "19107        NaN      3  ...   \n",
       "19108        NaN      3  ...   \n",
       "19109        NaN      1  ...   \n",
       "\n",
       "                                          propertyTitle  property_size  \\\n",
       "0        3 BHK For Rent in Shreya Carnation, Gachibowli           2200   \n",
       "1                     3 BHK For Rent in Chandrayangutta           1200   \n",
       "2           3 BHK For Rent in Amrutha Avenue, Manikonda           1800   \n",
       "3               2 BHK For Rent in Standalone , Lb Nagar            750   \n",
       "4       2 BHK For Rent in Vibrant Residency, Hitec City           1250   \n",
       "...                                                 ...            ...   \n",
       "19105  1 BHK For Rent in Chitrapuri Colony , Gachibowli            500   \n",
       "19106                      2 BHK For Rent in Jillalguda            900   \n",
       "19107                       2 BHK For Rent in  Moosapet           1150   \n",
       "19108                      1 BHK For Rent in Kukatpally            500   \n",
       "19109                   1 BHK For Rent in Santosh Nagar            400   \n",
       "\n",
       "       reactivationSource  rent_amount  sharedAccomodation  \\\n",
       "0          USER_DASHBOARD        28000               False   \n",
       "1          USER_DASHBOARD        15000               False   \n",
       "2             MISSED_CALL        16000               False   \n",
       "3             MISSED_CALL         9000               False   \n",
       "4                    None        32500               False   \n",
       "...                   ...          ...                 ...   \n",
       "19105                None         8500               False   \n",
       "19106                None         8500               False   \n",
       "19107  PROPERTY_DASHBOARD        15000               False   \n",
       "19108  PROPERTY_DASHBOARD         7000               False   \n",
       "19109  PROPERTY_DASHBOARD         5500               False   \n",
       "\n",
       "                      shortUrl swimmingPool type_bhk waterSupply weight  \n",
       "0      http://nobr.kr/sv/9Kvqj        False     BHK3   CORP_BORE    NaN  \n",
       "1      http://nobr.kr/sv/j2pD6        False     BHK3    BOREWELL    NaN  \n",
       "2      http://nobr.kr/sv/TXJmj        False     BHK3   CORP_BORE    NaN  \n",
       "3      http://nobr.kr/sv/FnCsf        False     BHK2   CORP_BORE    NaN  \n",
       "4      http://nobr.kr/sv/BQFRb        False     BHK2   CORP_BORE    NaN  \n",
       "...                        ...          ...      ...         ...    ...  \n",
       "19105  http://nobr.kr/sv/LYsBc        False     BHK1        None    NaN  \n",
       "19106  http://nobr.kr/sv/45R5g        False     BHK2    BOREWELL    NaN  \n",
       "19107  http://nobr.kr/sv/B2R5g        False     BHK2        None    NaN  \n",
       "19108  http://nobr.kr/sv/PyQ5g        False     BHK1        None    NaN  \n",
       "19109  http://nobr.kr/sv/JZWBb        False     BHK1        None    NaN  \n",
       "\n",
       "[19110 rows x 29 columns]"
      ]
     },
     "execution_count": 454,
     "metadata": {},
     "output_type": "execute_result"
    }
   ],
   "source": [
    "df"
   ]
  },
  {
   "cell_type": "code",
   "execution_count": 455,
   "id": "27855163",
   "metadata": {},
   "outputs": [],
   "source": [
    "df.drop(['active','combineDescription','facingDesc','location','reactivationSource','sharedAccomodation','shortUrl'],axis=1,inplace=True)"
   ]
  },
  {
   "cell_type": "code",
   "execution_count": 456,
   "id": "72b616cc",
   "metadata": {
    "scrolled": false
   },
   "outputs": [
    {
     "data": {
      "text/plain": [
       "Index(['amenities', 'balconies', 'bathroom', 'completeStreetName', 'deposit',\n",
       "       'facing', 'floor', 'furnishingDesc', 'gym', 'id', 'isMaintenance',\n",
       "       'lift', 'locality', 'maintenanceAmount', 'parking', 'propertyTitle',\n",
       "       'property_size', 'rent_amount', 'swimmingPool', 'type_bhk',\n",
       "       'waterSupply', 'weight'],\n",
       "      dtype='object')"
      ]
     },
     "execution_count": 456,
     "metadata": {},
     "output_type": "execute_result"
    }
   ],
   "source": [
    "df.columns\n"
   ]
  },
  {
   "cell_type": "code",
   "execution_count": 457,
   "id": "9de09d43",
   "metadata": {},
   "outputs": [],
   "source": [
    "df.drop(['lift','gym','swimmingPool','completeStreetName','propertyTitle'],axis=1,inplace=True)"
   ]
  },
  {
   "cell_type": "code",
   "execution_count": 458,
   "id": "eb0121b4",
   "metadata": {},
   "outputs": [
    {
     "data": {
      "text/plain": [
       "Index(['amenities', 'balconies', 'bathroom', 'deposit', 'facing', 'floor',\n",
       "       'furnishingDesc', 'id', 'isMaintenance', 'locality',\n",
       "       'maintenanceAmount', 'parking', 'property_size', 'rent_amount',\n",
       "       'type_bhk', 'waterSupply', 'weight'],\n",
       "      dtype='object')"
      ]
     },
     "execution_count": 458,
     "metadata": {},
     "output_type": "execute_result"
    }
   ],
   "source": [
    "df.columns"
   ]
  },
  {
   "cell_type": "code",
   "execution_count": 459,
   "id": "9fd55867",
   "metadata": {
    "scrolled": true
   },
   "outputs": [
    {
     "data": {
      "text/plain": [
       "array(['{\"LIFT\":true,\"GYM\":false,\"INTERNET\":false,\"AC\":false,\"CLUB\":false,\"INTERCOM\":false,\"POOL\":false,\"CPA\":true,\"FS\":false,\"SERVANT\":false,\"SECURITY\":true,\"SC\":false,\"GP\":false,\"PARK\":false,\"RWH\":true,\"STP\":false,\"HK\":false,\"PB\":true,\"VP\":true}',\n",
       "       '{\"LIFT\":false,\"GYM\":false,\"INTERNET\":false,\"AC\":false,\"CLUB\":false,\"INTERCOM\":false,\"POOL\":false,\"CPA\":false,\"FS\":false,\"SERVANT\":false,\"SECURITY\":false,\"SC\":false,\"GP\":false,\"PARK\":false,\"RWH\":false,\"STP\":true,\"HK\":false,\"PB\":false,\"VP\":false}',\n",
       "       '{\"LIFT\":true,\"GYM\":true,\"INTERNET\":false,\"AC\":false,\"CLUB\":false,\"INTERCOM\":false,\"POOL\":false,\"CPA\":false,\"FS\":false,\"SERVANT\":true,\"SECURITY\":true,\"SC\":false,\"GP\":false,\"PARK\":false,\"RWH\":true,\"STP\":false,\"HK\":false,\"PB\":true,\"VP\":true}',\n",
       "       ...,\n",
       "       '{\"POOL\":false,\"LIFT\":false,\"SECURITY\":true,\"HK\":false,\"FS\":false,\"AC\":false,\"PB\":false,\"GYM\":false,\"PARK\":false,\"INTERNET\":false,\"SC\":false,\"INTERCOM\":false}',\n",
       "       '{\"INTERCOM\":false,\"AC\":false,\"RWH\":true,\"HK\":false,\"INTERNET\":false,\"LIFT\":true,\"CLUB\":false,\"GP\":true,\"FS\":false,\"STP\":false,\"PARK\":false,\"SC\":false,\"PB\":false,\"CPA\":false,\"SECURITY\":false,\"POOL\":false,\"GYM\":true,\"VP\":false,\"SERVANT\":false}',\n",
       "       '{\"LIFT\":true,\"GYM\":false,\"INTERNET\":false,\"AC\":false,\"CLUB\":false,\"INTERCOM\":false,\"POOL\":false,\"CPA\":false,\"FS\":false,\"SERVANT\":false,\"SECURITY\":false,\"SC\":false,\"GP\":false,\"PARK\":true,\"RWH\":true,\"STP\":false,\"HK\":false,\"PB\":false,\"VP\":false}'],\n",
       "      dtype=object)"
      ]
     },
     "execution_count": 459,
     "metadata": {},
     "output_type": "execute_result"
    }
   ],
   "source": [
    "df['amenities'].unique()"
   ]
  },
  {
   "cell_type": "code",
   "execution_count": 460,
   "id": "282fbc7e",
   "metadata": {},
   "outputs": [],
   "source": [
    "df=df.drop('weight',axis=1)"
   ]
  },
  {
   "cell_type": "markdown",
   "id": "3802061d",
   "metadata": {},
   "source": [
    "##Handling Missing Values"
   ]
  },
  {
   "cell_type": "code",
   "execution_count": 461,
   "id": "f6ca52d2",
   "metadata": {
    "scrolled": true
   },
   "outputs": [
    {
     "data": {
      "text/plain": [
       "amenities            0\n",
       "balconies            0\n",
       "bathroom             0\n",
       "deposit              0\n",
       "facing               0\n",
       "floor                0\n",
       "furnishingDesc       0\n",
       "id                   0\n",
       "isMaintenance        0\n",
       "locality             6\n",
       "maintenanceAmount    0\n",
       "parking              0\n",
       "property_size        0\n",
       "rent_amount          0\n",
       "type_bhk             0\n",
       "waterSupply          0\n",
       "dtype: int64"
      ]
     },
     "execution_count": 461,
     "metadata": {},
     "output_type": "execute_result"
    }
   ],
   "source": [
    "\n",
    "df.isna().sum()"
   ]
  },
  {
   "cell_type": "markdown",
   "id": "9026f3fa",
   "metadata": {},
   "source": []
  },
  {
   "cell_type": "code",
   "execution_count": 462,
   "id": "829d3b3f",
   "metadata": {},
   "outputs": [],
   "source": [
    "# df['completeStreetName'].count()"
   ]
  },
  {
   "cell_type": "code",
   "execution_count": 463,
   "id": "d21ac8d8",
   "metadata": {},
   "outputs": [
    {
     "data": {
      "text/plain": [
       "Kukatpally        1525\n",
       "Kondapur          1233\n",
       "Gachibowli         716\n",
       "Miyapur            604\n",
       "Hafeezpet          469\n",
       "                  ... \n",
       "Namalagundu          1\n",
       "Medipattanam         1\n",
       "Himayathnagar        1\n",
       "Shilpa Park          1\n",
       "Sikh Village,        1\n",
       "Name: locality, Length: 2638, dtype: int64"
      ]
     },
     "execution_count": 463,
     "metadata": {},
     "output_type": "execute_result"
    }
   ],
   "source": [
    "df['locality'].value_counts()"
   ]
  },
  {
   "cell_type": "code",
   "execution_count": 464,
   "id": "91f90684",
   "metadata": {},
   "outputs": [],
   "source": [
    "df['locality'].fillna(df['locality'].value_counts().index[0],inplace=True)"
   ]
  },
  {
   "cell_type": "code",
   "execution_count": 465,
   "id": "fc8b5130",
   "metadata": {},
   "outputs": [
    {
     "data": {
      "text/plain": [
       "amenities            0\n",
       "balconies            0\n",
       "bathroom             0\n",
       "deposit              0\n",
       "facing               0\n",
       "floor                0\n",
       "furnishingDesc       0\n",
       "id                   0\n",
       "isMaintenance        0\n",
       "locality             0\n",
       "maintenanceAmount    0\n",
       "parking              0\n",
       "property_size        0\n",
       "rent_amount          0\n",
       "type_bhk             0\n",
       "waterSupply          0\n",
       "dtype: int64"
      ]
     },
     "execution_count": 465,
     "metadata": {},
     "output_type": "execute_result"
    }
   ],
   "source": [
    "df.isna().sum()"
   ]
  },
  {
   "cell_type": "markdown",
   "id": "69598be0",
   "metadata": {},
   "source": [
    "## Handling Categorical features"
   ]
  },
  {
   "cell_type": "code",
   "execution_count": 466,
   "id": "1e2ce6c0",
   "metadata": {},
   "outputs": [
    {
     "name": "stdout",
     "output_type": "stream",
     "text": [
      "<class 'pandas.core.frame.DataFrame'>\n",
      "RangeIndex: 19110 entries, 0 to 19109\n",
      "Data columns (total 16 columns):\n",
      " #   Column             Non-Null Count  Dtype \n",
      "---  ------             --------------  ----- \n",
      " 0   amenities          19110 non-null  object\n",
      " 1   balconies          19110 non-null  object\n",
      " 2   bathroom           19110 non-null  int64 \n",
      " 3   deposit            19110 non-null  int64 \n",
      " 4   facing             19110 non-null  object\n",
      " 5   floor              19110 non-null  int64 \n",
      " 6   furnishingDesc     19110 non-null  object\n",
      " 7   id                 19110 non-null  object\n",
      " 8   isMaintenance      19110 non-null  bool  \n",
      " 9   locality           19110 non-null  object\n",
      " 10  maintenanceAmount  19110 non-null  object\n",
      " 11  parking            19110 non-null  object\n",
      " 12  property_size      19110 non-null  int64 \n",
      " 13  rent_amount        19110 non-null  int64 \n",
      " 14  type_bhk           19110 non-null  object\n",
      " 15  waterSupply        19110 non-null  object\n",
      "dtypes: bool(1), int64(5), object(10)\n",
      "memory usage: 2.2+ MB\n"
     ]
    }
   ],
   "source": [
    "df.info()"
   ]
  },
  {
   "cell_type": "code",
   "execution_count": 467,
   "id": "3ccc0c9e",
   "metadata": {},
   "outputs": [
    {
     "data": {
      "text/plain": [
       "{\"LIFT\":false,\"GYM\":false,\"INTERNET\":false,\"AC\":false,\"CLUB\":false,\"INTERCOM\":false,\"POOL\":false,\"CPA\":false,\"FS\":false,\"SERVANT\":false,\"SECURITY\":false,\"SC\":false,\"GP\":false,\"PARK\":false,\"RWH\":false,\"STP\":false,\"HK\":false,\"PB\":false,\"VP\":false}    6464\n",
       "{\"LIFT\":false,\"GYM\":false,\"INTERNET\":false,\"AC\":false,\"CLUB\":false,\"INTERCOM\":false,\"POOL\":false,\"CPA\":false,\"FS\":false,\"SERVANT\":false,\"SECURITY\":true,\"SC\":false,\"GP\":false,\"PARK\":false,\"RWH\":false,\"STP\":false,\"HK\":false,\"PB\":false,\"VP\":false}     2577\n",
       "{\"LIFT\":true,\"GYM\":false,\"INTERNET\":false,\"AC\":false,\"CLUB\":false,\"INTERCOM\":false,\"POOL\":false,\"CPA\":false,\"FS\":false,\"SERVANT\":false,\"SECURITY\":true,\"SC\":false,\"GP\":false,\"PARK\":false,\"RWH\":false,\"STP\":false,\"HK\":false,\"PB\":false,\"VP\":false}      1507\n",
       "{\"INTERCOM\":false,\"AC\":false,\"RWH\":false,\"HK\":false,\"INTERNET\":false,\"LIFT\":false,\"CLUB\":false,\"GP\":false,\"FS\":false,\"STP\":false,\"PARK\":false,\"SC\":false,\"PB\":false,\"CPA\":false,\"SECURITY\":false,\"POOL\":false,\"GYM\":false,\"VP\":false,\"SERVANT\":false}     674\n",
       "{\"LIFT\":true,\"GYM\":false,\"INTERNET\":false,\"AC\":false,\"CLUB\":false,\"INTERCOM\":false,\"POOL\":false,\"CPA\":false,\"FS\":false,\"SERVANT\":false,\"SECURITY\":false,\"SC\":false,\"GP\":false,\"PARK\":false,\"RWH\":false,\"STP\":false,\"HK\":false,\"PB\":false,\"VP\":false}      318\n",
       "                                                                                                                                                                                                                                                         ... \n",
       "{\"LIFT\":true,\"GYM\":true,\"INTERNET\":false,\"AC\":false,\"CLUB\":false,\"INTERCOM\":false,\"POOL\":false,\"CPA\":true,\"FS\":false,\"SERVANT\":false,\"SECURITY\":true,\"SC\":false,\"GP\":false,\"PARK\":false,\"RWH\":false,\"STP\":false,\"HK\":false,\"PB\":false,\"VP\":true}            1\n",
       "{\"LIFT\":true,\"GYM\":false,\"INTERNET\":false,\"AC\":false,\"CLUB\":false,\"INTERCOM\":true,\"POOL\":false,\"CPA\":true,\"FS\":true,\"SERVANT\":false,\"SECURITY\":true,\"SC\":false,\"GP\":false,\"PARK\":false,\"RWH\":true,\"STP\":false,\"HK\":false,\"PB\":true,\"VP\":true}               1\n",
       "{\"INTERCOM\":false,\"AC\":false,\"RWH\":false,\"HK\":false,\"INTERNET\":false,\"LIFT\":false,\"CLUB\":true,\"GP\":false,\"FS\":false,\"STP\":false,\"PARK\":true,\"SC\":false,\"PB\":true,\"CPA\":true,\"SECURITY\":true,\"POOL\":true,\"GYM\":true,\"VP\":false,\"SERVANT\":false}              1\n",
       "{\"LIFT\":false,\"GYM\":false,\"INTERNET\":false,\"AC\":false,\"CLUB\":true,\"INTERCOM\":false,\"POOL\":false,\"CPA\":true,\"FS\":false,\"SERVANT\":false,\"SECURITY\":true,\"SC\":false,\"GP\":false,\"PARK\":false,\"RWH\":true,\"STP\":false,\"HK\":false,\"PB\":false,\"VP\":false}           1\n",
       "{\"LIFT\":true,\"GYM\":false,\"INTERNET\":false,\"AC\":false,\"CLUB\":false,\"INTERCOM\":false,\"POOL\":false,\"CPA\":false,\"FS\":false,\"SERVANT\":false,\"SECURITY\":false,\"SC\":false,\"GP\":false,\"PARK\":true,\"RWH\":true,\"STP\":false,\"HK\":false,\"PB\":false,\"VP\":false}          1\n",
       "Name: amenities, Length: 3384, dtype: int64"
      ]
     },
     "execution_count": 467,
     "metadata": {},
     "output_type": "execute_result"
    }
   ],
   "source": [
    "df['amenities'].value_counts()"
   ]
  },
  {
   "cell_type": "code",
   "execution_count": 468,
   "id": "0ec11a8d",
   "metadata": {},
   "outputs": [],
   "source": [
    "df['lift']=df['amenities'].str.split(\",\").str[0]"
   ]
  },
  {
   "cell_type": "code",
   "execution_count": 469,
   "id": "dbc8d528",
   "metadata": {},
   "outputs": [
    {
     "data": {
      "text/plain": [
       "0         {\"LIFT\":true\n",
       "1        {\"LIFT\":false\n",
       "2         {\"LIFT\":true\n",
       "3        {\"LIFT\":false\n",
       "4         {\"LIFT\":true\n",
       "             ...      \n",
       "19105     {\"LIFT\":true\n",
       "19106    {\"LIFT\":false\n",
       "19107    {\"LIFT\":false\n",
       "19108    {\"LIFT\":false\n",
       "19109    {\"LIFT\":false\n",
       "Name: lift, Length: 19110, dtype: object"
      ]
     },
     "execution_count": 469,
     "metadata": {},
     "output_type": "execute_result"
    }
   ],
   "source": [
    "df['lift']"
   ]
  },
  {
   "cell_type": "code",
   "execution_count": 470,
   "id": "142386be",
   "metadata": {},
   "outputs": [],
   "source": [
    "df['Lift']=df['lift'].str.split(\":\").str[1]"
   ]
  },
  {
   "cell_type": "code",
   "execution_count": 471,
   "id": "c1e0f731",
   "metadata": {},
   "outputs": [
    {
     "data": {
      "text/plain": [
       "0         true\n",
       "1        false\n",
       "2         true\n",
       "3        false\n",
       "4         true\n",
       "         ...  \n",
       "19105     true\n",
       "19106    false\n",
       "19107    false\n",
       "19108    false\n",
       "19109    false\n",
       "Name: Lift, Length: 19110, dtype: object"
      ]
     },
     "execution_count": 471,
     "metadata": {},
     "output_type": "execute_result"
    }
   ],
   "source": [
    "df['Lift']"
   ]
  },
  {
   "cell_type": "code",
   "execution_count": 472,
   "id": "202f0a71",
   "metadata": {},
   "outputs": [
    {
     "data": {
      "text/plain": [
       "0        false\n",
       "1        false\n",
       "2        false\n",
       "3        false\n",
       "4         true\n",
       "         ...  \n",
       "19105    false\n",
       "19106    false\n",
       "19107    false\n",
       "19108    false\n",
       "19109    false\n",
       "Name: Ac, Length: 19110, dtype: object"
      ]
     },
     "execution_count": 472,
     "metadata": {},
     "output_type": "execute_result"
    }
   ],
   "source": [
    "df['AC']=df['amenities'].str.split(\",\").str[3]\n",
    "df['Ac']=df['AC'].str.split(\":\").str[1]\n",
    "df['Ac']"
   ]
  },
  {
   "cell_type": "code",
   "execution_count": 473,
   "id": "e7b3bf37",
   "metadata": {},
   "outputs": [
    {
     "data": {
      "text/plain": [
       "0         true\n",
       "1        false\n",
       "2         true\n",
       "3         true\n",
       "4         true\n",
       "         ...  \n",
       "19105     true\n",
       "19106    false\n",
       "19107    false\n",
       "19108    false\n",
       "19109    false\n",
       "Name: Security, Length: 19110, dtype: object"
      ]
     },
     "execution_count": 473,
     "metadata": {},
     "output_type": "execute_result"
    }
   ],
   "source": [
    "df['security']=df['amenities'].str.split(\",\").str[10]\n",
    "df['Security']=df['security'].str.split(\":\").str[1]\n",
    "df['Security']"
   ]
  },
  {
   "cell_type": "code",
   "execution_count": 474,
   "id": "e5c51b94",
   "metadata": {},
   "outputs": [
    {
     "data": {
      "text/plain": [
       "0        false\n",
       "1        false\n",
       "2         true\n",
       "3        false\n",
       "4        false\n",
       "         ...  \n",
       "19105    false\n",
       "19106    false\n",
       "19107    false\n",
       "19108    false\n",
       "19109    false\n",
       "Name: Servent, Length: 19110, dtype: object"
      ]
     },
     "execution_count": 474,
     "metadata": {},
     "output_type": "execute_result"
    }
   ],
   "source": [
    "df['servent']=df['amenities'].str.split(\",\").str[9]\n",
    "df['Servent']=df['servent'].str.split(\":\").str[1]\n",
    "df['Servent']"
   ]
  },
  {
   "cell_type": "code",
   "execution_count": 475,
   "id": "850bef03",
   "metadata": {},
   "outputs": [
    {
     "data": {
      "text/plain": [
       "0        false\n",
       "1        false\n",
       "2        false\n",
       "3        false\n",
       "4        false\n",
       "         ...  \n",
       "19105    false\n",
       "19106    false\n",
       "19107    false\n",
       "19108    false\n",
       "19109    false\n",
       "Name: Internet, Length: 19110, dtype: object"
      ]
     },
     "execution_count": 475,
     "metadata": {},
     "output_type": "execute_result"
    }
   ],
   "source": [
    "df['internet']=df['amenities'].str.split(\",\").str[2]\n",
    "df['Internet']=df['internet'].str.split(\":\").str[1]\n",
    "df['Internet']"
   ]
  },
  {
   "cell_type": "code",
   "execution_count": 476,
   "id": "f503eacd",
   "metadata": {},
   "outputs": [],
   "source": [
    "df.drop('amenities',inplace=True,axis=1)"
   ]
  },
  {
   "cell_type": "code",
   "execution_count": 477,
   "id": "8485ee48",
   "metadata": {},
   "outputs": [
    {
     "data": {
      "text/html": [
       "<div>\n",
       "<style scoped>\n",
       "    .dataframe tbody tr th:only-of-type {\n",
       "        vertical-align: middle;\n",
       "    }\n",
       "\n",
       "    .dataframe tbody tr th {\n",
       "        vertical-align: top;\n",
       "    }\n",
       "\n",
       "    .dataframe thead th {\n",
       "        text-align: right;\n",
       "    }\n",
       "</style>\n",
       "<table border=\"1\" class=\"dataframe\">\n",
       "  <thead>\n",
       "    <tr style=\"text-align: right;\">\n",
       "      <th></th>\n",
       "      <th>balconies</th>\n",
       "      <th>bathroom</th>\n",
       "      <th>deposit</th>\n",
       "      <th>facing</th>\n",
       "      <th>floor</th>\n",
       "      <th>furnishingDesc</th>\n",
       "      <th>id</th>\n",
       "      <th>isMaintenance</th>\n",
       "      <th>locality</th>\n",
       "      <th>maintenanceAmount</th>\n",
       "      <th>...</th>\n",
       "      <th>lift</th>\n",
       "      <th>Lift</th>\n",
       "      <th>AC</th>\n",
       "      <th>Ac</th>\n",
       "      <th>security</th>\n",
       "      <th>Security</th>\n",
       "      <th>servent</th>\n",
       "      <th>Servent</th>\n",
       "      <th>internet</th>\n",
       "      <th>Internet</th>\n",
       "    </tr>\n",
       "  </thead>\n",
       "  <tbody>\n",
       "    <tr>\n",
       "      <th>0</th>\n",
       "      <td>3</td>\n",
       "      <td>3</td>\n",
       "      <td>90000</td>\n",
       "      <td>W</td>\n",
       "      <td>3</td>\n",
       "      <td>Semi</td>\n",
       "      <td>8a9fa082775d477e0177610b187423b9</td>\n",
       "      <td>True</td>\n",
       "      <td>Gachibowli</td>\n",
       "      <td>2000</td>\n",
       "      <td>...</td>\n",
       "      <td>{\"LIFT\":true</td>\n",
       "      <td>true</td>\n",
       "      <td>\"AC\":false</td>\n",
       "      <td>false</td>\n",
       "      <td>\"SECURITY\":true</td>\n",
       "      <td>true</td>\n",
       "      <td>\"SERVANT\":false</td>\n",
       "      <td>false</td>\n",
       "      <td>\"INTERNET\":false</td>\n",
       "      <td>false</td>\n",
       "    </tr>\n",
       "    <tr>\n",
       "      <th>1</th>\n",
       "      <td>1</td>\n",
       "      <td>2</td>\n",
       "      <td>45000</td>\n",
       "      <td>E</td>\n",
       "      <td>2</td>\n",
       "      <td>Unfurnished</td>\n",
       "      <td>ff8081816ba1baad016ba23a96591bb5</td>\n",
       "      <td>False</td>\n",
       "      <td>Chandrayangutta</td>\n",
       "      <td>None</td>\n",
       "      <td>...</td>\n",
       "      <td>{\"LIFT\":false</td>\n",
       "      <td>false</td>\n",
       "      <td>\"AC\":false</td>\n",
       "      <td>false</td>\n",
       "      <td>\"SECURITY\":false</td>\n",
       "      <td>false</td>\n",
       "      <td>\"SERVANT\":false</td>\n",
       "      <td>false</td>\n",
       "      <td>\"INTERNET\":false</td>\n",
       "      <td>false</td>\n",
       "    </tr>\n",
       "    <tr>\n",
       "      <th>2</th>\n",
       "      <td>3</td>\n",
       "      <td>3</td>\n",
       "      <td>80000</td>\n",
       "      <td>E</td>\n",
       "      <td>0</td>\n",
       "      <td>Semi</td>\n",
       "      <td>8a9f80f170de62150170e23c1db35ae0</td>\n",
       "      <td>True</td>\n",
       "      <td>Manikonda</td>\n",
       "      <td>1000</td>\n",
       "      <td>...</td>\n",
       "      <td>{\"LIFT\":true</td>\n",
       "      <td>true</td>\n",
       "      <td>\"AC\":false</td>\n",
       "      <td>false</td>\n",
       "      <td>\"SECURITY\":true</td>\n",
       "      <td>true</td>\n",
       "      <td>\"SERVANT\":true</td>\n",
       "      <td>true</td>\n",
       "      <td>\"INTERNET\":false</td>\n",
       "      <td>false</td>\n",
       "    </tr>\n",
       "    <tr>\n",
       "      <th>3</th>\n",
       "      <td>1</td>\n",
       "      <td>2</td>\n",
       "      <td>18000</td>\n",
       "      <td>W</td>\n",
       "      <td>2</td>\n",
       "      <td>Unfurnished</td>\n",
       "      <td>8a9f9385765cd90101765cf6ad63060a</td>\n",
       "      <td>True</td>\n",
       "      <td>LB Nagar</td>\n",
       "      <td>500</td>\n",
       "      <td>...</td>\n",
       "      <td>{\"LIFT\":false</td>\n",
       "      <td>false</td>\n",
       "      <td>\"AC\":false</td>\n",
       "      <td>false</td>\n",
       "      <td>\"SECURITY\":true</td>\n",
       "      <td>true</td>\n",
       "      <td>\"SERVANT\":false</td>\n",
       "      <td>false</td>\n",
       "      <td>\"INTERNET\":false</td>\n",
       "      <td>false</td>\n",
       "    </tr>\n",
       "    <tr>\n",
       "      <th>4</th>\n",
       "      <td>2</td>\n",
       "      <td>2</td>\n",
       "      <td>80000</td>\n",
       "      <td>E</td>\n",
       "      <td>2</td>\n",
       "      <td>Semi</td>\n",
       "      <td>8a9f9251754a8e6a01754ae91d4d2bc5</td>\n",
       "      <td>True</td>\n",
       "      <td>HITEC City</td>\n",
       "      <td>2000</td>\n",
       "      <td>...</td>\n",
       "      <td>{\"LIFT\":true</td>\n",
       "      <td>true</td>\n",
       "      <td>\"AC\":true</td>\n",
       "      <td>true</td>\n",
       "      <td>\"SECURITY\":true</td>\n",
       "      <td>true</td>\n",
       "      <td>\"SERVANT\":false</td>\n",
       "      <td>false</td>\n",
       "      <td>\"INTERNET\":false</td>\n",
       "      <td>false</td>\n",
       "    </tr>\n",
       "    <tr>\n",
       "      <th>...</th>\n",
       "      <td>...</td>\n",
       "      <td>...</td>\n",
       "      <td>...</td>\n",
       "      <td>...</td>\n",
       "      <td>...</td>\n",
       "      <td>...</td>\n",
       "      <td>...</td>\n",
       "      <td>...</td>\n",
       "      <td>...</td>\n",
       "      <td>...</td>\n",
       "      <td>...</td>\n",
       "      <td>...</td>\n",
       "      <td>...</td>\n",
       "      <td>...</td>\n",
       "      <td>...</td>\n",
       "      <td>...</td>\n",
       "      <td>...</td>\n",
       "      <td>...</td>\n",
       "      <td>...</td>\n",
       "      <td>...</td>\n",
       "      <td>...</td>\n",
       "    </tr>\n",
       "    <tr>\n",
       "      <th>19105</th>\n",
       "      <td>None</td>\n",
       "      <td>1</td>\n",
       "      <td>17000</td>\n",
       "      <td>None</td>\n",
       "      <td>0</td>\n",
       "      <td>Unfurnished</td>\n",
       "      <td>8a9f91d9759dd91c0175a13c00a40cd1</td>\n",
       "      <td>True</td>\n",
       "      <td>Gachibowli</td>\n",
       "      <td>500</td>\n",
       "      <td>...</td>\n",
       "      <td>{\"LIFT\":true</td>\n",
       "      <td>true</td>\n",
       "      <td>\"AC\":false</td>\n",
       "      <td>false</td>\n",
       "      <td>\"SECURITY\":true</td>\n",
       "      <td>true</td>\n",
       "      <td>\"SERVANT\":false</td>\n",
       "      <td>false</td>\n",
       "      <td>\"INTERNET\":false</td>\n",
       "      <td>false</td>\n",
       "    </tr>\n",
       "    <tr>\n",
       "      <th>19106</th>\n",
       "      <td>2</td>\n",
       "      <td>2</td>\n",
       "      <td>8500</td>\n",
       "      <td>S</td>\n",
       "      <td>2</td>\n",
       "      <td>Unfurnished</td>\n",
       "      <td>8a9f92a376995d470176996380d50170</td>\n",
       "      <td>True</td>\n",
       "      <td>Jillalguda</td>\n",
       "      <td>500</td>\n",
       "      <td>...</td>\n",
       "      <td>{\"LIFT\":false</td>\n",
       "      <td>false</td>\n",
       "      <td>\"AC\":false</td>\n",
       "      <td>false</td>\n",
       "      <td>\"SECURITY\":false</td>\n",
       "      <td>false</td>\n",
       "      <td>\"SERVANT\":false</td>\n",
       "      <td>false</td>\n",
       "      <td>\"INTERNET\":false</td>\n",
       "      <td>false</td>\n",
       "    </tr>\n",
       "    <tr>\n",
       "      <th>19107</th>\n",
       "      <td>None</td>\n",
       "      <td>3</td>\n",
       "      <td>30000</td>\n",
       "      <td>None</td>\n",
       "      <td>3</td>\n",
       "      <td>Unfurnished</td>\n",
       "      <td>ff8081816b6ed7d3016b6ee6d68e065d</td>\n",
       "      <td>False</td>\n",
       "      <td>Moosapet</td>\n",
       "      <td>None</td>\n",
       "      <td>...</td>\n",
       "      <td>{\"LIFT\":false</td>\n",
       "      <td>false</td>\n",
       "      <td>\"AC\":false</td>\n",
       "      <td>false</td>\n",
       "      <td>\"SECURITY\":false</td>\n",
       "      <td>false</td>\n",
       "      <td>\"SERVANT\":false</td>\n",
       "      <td>false</td>\n",
       "      <td>\"INTERNET\":false</td>\n",
       "      <td>false</td>\n",
       "    </tr>\n",
       "    <tr>\n",
       "      <th>19108</th>\n",
       "      <td>None</td>\n",
       "      <td>1</td>\n",
       "      <td>13000</td>\n",
       "      <td>None</td>\n",
       "      <td>3</td>\n",
       "      <td>Unfurnished</td>\n",
       "      <td>8a9f936674348b79017438a3b5670b0c</td>\n",
       "      <td>False</td>\n",
       "      <td>Kukatpally</td>\n",
       "      <td>None</td>\n",
       "      <td>...</td>\n",
       "      <td>{\"LIFT\":false</td>\n",
       "      <td>false</td>\n",
       "      <td>\"AC\":false</td>\n",
       "      <td>false</td>\n",
       "      <td>\"SECURITY\":false</td>\n",
       "      <td>false</td>\n",
       "      <td>\"SERVANT\":false</td>\n",
       "      <td>false</td>\n",
       "      <td>\"INTERNET\":false</td>\n",
       "      <td>false</td>\n",
       "    </tr>\n",
       "    <tr>\n",
       "      <th>19109</th>\n",
       "      <td>None</td>\n",
       "      <td>1</td>\n",
       "      <td>11000</td>\n",
       "      <td>None</td>\n",
       "      <td>1</td>\n",
       "      <td>Unfurnished</td>\n",
       "      <td>8a9f9190752b12a401752b9a77a14583</td>\n",
       "      <td>False</td>\n",
       "      <td>Santosh Nagar</td>\n",
       "      <td>None</td>\n",
       "      <td>...</td>\n",
       "      <td>{\"LIFT\":false</td>\n",
       "      <td>false</td>\n",
       "      <td>\"AC\":false</td>\n",
       "      <td>false</td>\n",
       "      <td>\"SECURITY\":false</td>\n",
       "      <td>false</td>\n",
       "      <td>\"SERVANT\":false</td>\n",
       "      <td>false</td>\n",
       "      <td>\"INTERNET\":false</td>\n",
       "      <td>false</td>\n",
       "    </tr>\n",
       "  </tbody>\n",
       "</table>\n",
       "<p>19110 rows × 25 columns</p>\n",
       "</div>"
      ],
      "text/plain": [
       "      balconies  bathroom  deposit facing  floor furnishingDesc  \\\n",
       "0             3         3    90000      W      3           Semi   \n",
       "1             1         2    45000      E      2    Unfurnished   \n",
       "2             3         3    80000      E      0           Semi   \n",
       "3             1         2    18000      W      2    Unfurnished   \n",
       "4             2         2    80000      E      2           Semi   \n",
       "...         ...       ...      ...    ...    ...            ...   \n",
       "19105      None         1    17000   None      0    Unfurnished   \n",
       "19106         2         2     8500      S      2    Unfurnished   \n",
       "19107      None         3    30000   None      3    Unfurnished   \n",
       "19108      None         1    13000   None      3    Unfurnished   \n",
       "19109      None         1    11000   None      1    Unfurnished   \n",
       "\n",
       "                                     id  isMaintenance         locality  \\\n",
       "0      8a9fa082775d477e0177610b187423b9           True       Gachibowli   \n",
       "1      ff8081816ba1baad016ba23a96591bb5          False  Chandrayangutta   \n",
       "2      8a9f80f170de62150170e23c1db35ae0           True        Manikonda   \n",
       "3      8a9f9385765cd90101765cf6ad63060a           True         LB Nagar   \n",
       "4      8a9f9251754a8e6a01754ae91d4d2bc5           True       HITEC City   \n",
       "...                                 ...            ...              ...   \n",
       "19105  8a9f91d9759dd91c0175a13c00a40cd1           True       Gachibowli   \n",
       "19106  8a9f92a376995d470176996380d50170           True       Jillalguda   \n",
       "19107  ff8081816b6ed7d3016b6ee6d68e065d          False         Moosapet   \n",
       "19108  8a9f936674348b79017438a3b5670b0c          False       Kukatpally   \n",
       "19109  8a9f9190752b12a401752b9a77a14583          False    Santosh Nagar   \n",
       "\n",
       "      maintenanceAmount  ...           lift   Lift          AC     Ac  \\\n",
       "0                  2000  ...   {\"LIFT\":true   true  \"AC\":false  false   \n",
       "1                  None  ...  {\"LIFT\":false  false  \"AC\":false  false   \n",
       "2                  1000  ...   {\"LIFT\":true   true  \"AC\":false  false   \n",
       "3                   500  ...  {\"LIFT\":false  false  \"AC\":false  false   \n",
       "4                  2000  ...   {\"LIFT\":true   true   \"AC\":true   true   \n",
       "...                 ...  ...            ...    ...         ...    ...   \n",
       "19105               500  ...   {\"LIFT\":true   true  \"AC\":false  false   \n",
       "19106               500  ...  {\"LIFT\":false  false  \"AC\":false  false   \n",
       "19107              None  ...  {\"LIFT\":false  false  \"AC\":false  false   \n",
       "19108              None  ...  {\"LIFT\":false  false  \"AC\":false  false   \n",
       "19109              None  ...  {\"LIFT\":false  false  \"AC\":false  false   \n",
       "\n",
       "               security Security          servent Servent          internet  \\\n",
       "0       \"SECURITY\":true     true  \"SERVANT\":false   false  \"INTERNET\":false   \n",
       "1      \"SECURITY\":false    false  \"SERVANT\":false   false  \"INTERNET\":false   \n",
       "2       \"SECURITY\":true     true   \"SERVANT\":true    true  \"INTERNET\":false   \n",
       "3       \"SECURITY\":true     true  \"SERVANT\":false   false  \"INTERNET\":false   \n",
       "4       \"SECURITY\":true     true  \"SERVANT\":false   false  \"INTERNET\":false   \n",
       "...                 ...      ...              ...     ...               ...   \n",
       "19105   \"SECURITY\":true     true  \"SERVANT\":false   false  \"INTERNET\":false   \n",
       "19106  \"SECURITY\":false    false  \"SERVANT\":false   false  \"INTERNET\":false   \n",
       "19107  \"SECURITY\":false    false  \"SERVANT\":false   false  \"INTERNET\":false   \n",
       "19108  \"SECURITY\":false    false  \"SERVANT\":false   false  \"INTERNET\":false   \n",
       "19109  \"SECURITY\":false    false  \"SERVANT\":false   false  \"INTERNET\":false   \n",
       "\n",
       "      Internet  \n",
       "0        false  \n",
       "1        false  \n",
       "2        false  \n",
       "3        false  \n",
       "4        false  \n",
       "...        ...  \n",
       "19105    false  \n",
       "19106    false  \n",
       "19107    false  \n",
       "19108    false  \n",
       "19109    false  \n",
       "\n",
       "[19110 rows x 25 columns]"
      ]
     },
     "execution_count": 477,
     "metadata": {},
     "output_type": "execute_result"
    }
   ],
   "source": [
    "df"
   ]
  },
  {
   "cell_type": "code",
   "execution_count": 478,
   "id": "2e265ef7",
   "metadata": {},
   "outputs": [],
   "source": [
    "df.drop(['AC','security','servent','internet','id','lift'],inplace=True,axis=1)"
   ]
  },
  {
   "cell_type": "code",
   "execution_count": 479,
   "id": "5187175b",
   "metadata": {},
   "outputs": [
    {
     "name": "stdout",
     "output_type": "stream",
     "text": [
      "<class 'pandas.core.frame.DataFrame'>\n",
      "RangeIndex: 19110 entries, 0 to 19109\n",
      "Data columns (total 19 columns):\n",
      " #   Column             Non-Null Count  Dtype \n",
      "---  ------             --------------  ----- \n",
      " 0   balconies          19110 non-null  object\n",
      " 1   bathroom           19110 non-null  int64 \n",
      " 2   deposit            19110 non-null  int64 \n",
      " 3   facing             19110 non-null  object\n",
      " 4   floor              19110 non-null  int64 \n",
      " 5   furnishingDesc     19110 non-null  object\n",
      " 6   isMaintenance      19110 non-null  bool  \n",
      " 7   locality           19110 non-null  object\n",
      " 8   maintenanceAmount  19110 non-null  object\n",
      " 9   parking            19110 non-null  object\n",
      " 10  property_size      19110 non-null  int64 \n",
      " 11  rent_amount        19110 non-null  int64 \n",
      " 12  type_bhk           19110 non-null  object\n",
      " 13  waterSupply        19110 non-null  object\n",
      " 14  Lift               18938 non-null  object\n",
      " 15  Ac                 18938 non-null  object\n",
      " 16  Security           18938 non-null  object\n",
      " 17  Servent            18938 non-null  object\n",
      " 18  Internet           18938 non-null  object\n",
      "dtypes: bool(1), int64(5), object(13)\n",
      "memory usage: 2.6+ MB\n"
     ]
    }
   ],
   "source": [
    "df.info()"
   ]
  },
  {
   "cell_type": "code",
   "execution_count": 480,
   "id": "30cc7286",
   "metadata": {},
   "outputs": [
    {
     "data": {
      "text/plain": [
       "6"
      ]
     },
     "execution_count": 480,
     "metadata": {},
     "output_type": "execute_result"
    }
   ],
   "source": [
    "5+1\n"
   ]
  },
  {
   "cell_type": "code",
   "execution_count": 481,
   "id": "6fde102b",
   "metadata": {},
   "outputs": [],
   "source": [
    "df['Lift']=df['Lift'].map({'true':1,'false':0})"
   ]
  },
  {
   "cell_type": "code",
   "execution_count": 482,
   "id": "90881870",
   "metadata": {},
   "outputs": [
    {
     "data": {
      "text/html": [
       "<div>\n",
       "<style scoped>\n",
       "    .dataframe tbody tr th:only-of-type {\n",
       "        vertical-align: middle;\n",
       "    }\n",
       "\n",
       "    .dataframe tbody tr th {\n",
       "        vertical-align: top;\n",
       "    }\n",
       "\n",
       "    .dataframe thead th {\n",
       "        text-align: right;\n",
       "    }\n",
       "</style>\n",
       "<table border=\"1\" class=\"dataframe\">\n",
       "  <thead>\n",
       "    <tr style=\"text-align: right;\">\n",
       "      <th></th>\n",
       "      <th>balconies</th>\n",
       "      <th>bathroom</th>\n",
       "      <th>deposit</th>\n",
       "      <th>facing</th>\n",
       "      <th>floor</th>\n",
       "      <th>furnishingDesc</th>\n",
       "      <th>isMaintenance</th>\n",
       "      <th>locality</th>\n",
       "      <th>maintenanceAmount</th>\n",
       "      <th>parking</th>\n",
       "      <th>property_size</th>\n",
       "      <th>rent_amount</th>\n",
       "      <th>type_bhk</th>\n",
       "      <th>waterSupply</th>\n",
       "      <th>Lift</th>\n",
       "      <th>Ac</th>\n",
       "      <th>Security</th>\n",
       "      <th>Servent</th>\n",
       "      <th>Internet</th>\n",
       "    </tr>\n",
       "  </thead>\n",
       "  <tbody>\n",
       "    <tr>\n",
       "      <th>0</th>\n",
       "      <td>3</td>\n",
       "      <td>3</td>\n",
       "      <td>90000</td>\n",
       "      <td>W</td>\n",
       "      <td>3</td>\n",
       "      <td>Semi</td>\n",
       "      <td>True</td>\n",
       "      <td>Gachibowli</td>\n",
       "      <td>2000</td>\n",
       "      <td>BOTH</td>\n",
       "      <td>2200</td>\n",
       "      <td>28000</td>\n",
       "      <td>BHK3</td>\n",
       "      <td>CORP_BORE</td>\n",
       "      <td>1.0</td>\n",
       "      <td>false</td>\n",
       "      <td>true</td>\n",
       "      <td>false</td>\n",
       "      <td>false</td>\n",
       "    </tr>\n",
       "    <tr>\n",
       "      <th>1</th>\n",
       "      <td>1</td>\n",
       "      <td>2</td>\n",
       "      <td>45000</td>\n",
       "      <td>E</td>\n",
       "      <td>2</td>\n",
       "      <td>Unfurnished</td>\n",
       "      <td>False</td>\n",
       "      <td>Chandrayangutta</td>\n",
       "      <td>None</td>\n",
       "      <td>TWO_WHEELER</td>\n",
       "      <td>1200</td>\n",
       "      <td>15000</td>\n",
       "      <td>BHK3</td>\n",
       "      <td>BOREWELL</td>\n",
       "      <td>0.0</td>\n",
       "      <td>false</td>\n",
       "      <td>false</td>\n",
       "      <td>false</td>\n",
       "      <td>false</td>\n",
       "    </tr>\n",
       "    <tr>\n",
       "      <th>2</th>\n",
       "      <td>3</td>\n",
       "      <td>3</td>\n",
       "      <td>80000</td>\n",
       "      <td>E</td>\n",
       "      <td>0</td>\n",
       "      <td>Semi</td>\n",
       "      <td>True</td>\n",
       "      <td>Manikonda</td>\n",
       "      <td>1000</td>\n",
       "      <td>BOTH</td>\n",
       "      <td>1800</td>\n",
       "      <td>16000</td>\n",
       "      <td>BHK3</td>\n",
       "      <td>CORP_BORE</td>\n",
       "      <td>1.0</td>\n",
       "      <td>false</td>\n",
       "      <td>true</td>\n",
       "      <td>true</td>\n",
       "      <td>false</td>\n",
       "    </tr>\n",
       "    <tr>\n",
       "      <th>3</th>\n",
       "      <td>1</td>\n",
       "      <td>2</td>\n",
       "      <td>18000</td>\n",
       "      <td>W</td>\n",
       "      <td>2</td>\n",
       "      <td>Unfurnished</td>\n",
       "      <td>True</td>\n",
       "      <td>LB Nagar</td>\n",
       "      <td>500</td>\n",
       "      <td>BOTH</td>\n",
       "      <td>750</td>\n",
       "      <td>9000</td>\n",
       "      <td>BHK2</td>\n",
       "      <td>CORP_BORE</td>\n",
       "      <td>0.0</td>\n",
       "      <td>false</td>\n",
       "      <td>true</td>\n",
       "      <td>false</td>\n",
       "      <td>false</td>\n",
       "    </tr>\n",
       "    <tr>\n",
       "      <th>4</th>\n",
       "      <td>2</td>\n",
       "      <td>2</td>\n",
       "      <td>80000</td>\n",
       "      <td>E</td>\n",
       "      <td>2</td>\n",
       "      <td>Semi</td>\n",
       "      <td>True</td>\n",
       "      <td>HITEC City</td>\n",
       "      <td>2000</td>\n",
       "      <td>BOTH</td>\n",
       "      <td>1250</td>\n",
       "      <td>32500</td>\n",
       "      <td>BHK2</td>\n",
       "      <td>CORP_BORE</td>\n",
       "      <td>1.0</td>\n",
       "      <td>true</td>\n",
       "      <td>true</td>\n",
       "      <td>false</td>\n",
       "      <td>false</td>\n",
       "    </tr>\n",
       "    <tr>\n",
       "      <th>...</th>\n",
       "      <td>...</td>\n",
       "      <td>...</td>\n",
       "      <td>...</td>\n",
       "      <td>...</td>\n",
       "      <td>...</td>\n",
       "      <td>...</td>\n",
       "      <td>...</td>\n",
       "      <td>...</td>\n",
       "      <td>...</td>\n",
       "      <td>...</td>\n",
       "      <td>...</td>\n",
       "      <td>...</td>\n",
       "      <td>...</td>\n",
       "      <td>...</td>\n",
       "      <td>...</td>\n",
       "      <td>...</td>\n",
       "      <td>...</td>\n",
       "      <td>...</td>\n",
       "      <td>...</td>\n",
       "    </tr>\n",
       "    <tr>\n",
       "      <th>19105</th>\n",
       "      <td>None</td>\n",
       "      <td>1</td>\n",
       "      <td>17000</td>\n",
       "      <td>None</td>\n",
       "      <td>0</td>\n",
       "      <td>Unfurnished</td>\n",
       "      <td>True</td>\n",
       "      <td>Gachibowli</td>\n",
       "      <td>500</td>\n",
       "      <td>BOTH</td>\n",
       "      <td>500</td>\n",
       "      <td>8500</td>\n",
       "      <td>BHK1</td>\n",
       "      <td>None</td>\n",
       "      <td>1.0</td>\n",
       "      <td>false</td>\n",
       "      <td>true</td>\n",
       "      <td>false</td>\n",
       "      <td>false</td>\n",
       "    </tr>\n",
       "    <tr>\n",
       "      <th>19106</th>\n",
       "      <td>2</td>\n",
       "      <td>2</td>\n",
       "      <td>8500</td>\n",
       "      <td>S</td>\n",
       "      <td>2</td>\n",
       "      <td>Unfurnished</td>\n",
       "      <td>True</td>\n",
       "      <td>Jillalguda</td>\n",
       "      <td>500</td>\n",
       "      <td>BOTH</td>\n",
       "      <td>900</td>\n",
       "      <td>8500</td>\n",
       "      <td>BHK2</td>\n",
       "      <td>BOREWELL</td>\n",
       "      <td>0.0</td>\n",
       "      <td>false</td>\n",
       "      <td>false</td>\n",
       "      <td>false</td>\n",
       "      <td>false</td>\n",
       "    </tr>\n",
       "    <tr>\n",
       "      <th>19107</th>\n",
       "      <td>None</td>\n",
       "      <td>3</td>\n",
       "      <td>30000</td>\n",
       "      <td>None</td>\n",
       "      <td>3</td>\n",
       "      <td>Unfurnished</td>\n",
       "      <td>False</td>\n",
       "      <td>Moosapet</td>\n",
       "      <td>None</td>\n",
       "      <td>BOTH</td>\n",
       "      <td>1150</td>\n",
       "      <td>15000</td>\n",
       "      <td>BHK2</td>\n",
       "      <td>None</td>\n",
       "      <td>0.0</td>\n",
       "      <td>false</td>\n",
       "      <td>false</td>\n",
       "      <td>false</td>\n",
       "      <td>false</td>\n",
       "    </tr>\n",
       "    <tr>\n",
       "      <th>19108</th>\n",
       "      <td>None</td>\n",
       "      <td>1</td>\n",
       "      <td>13000</td>\n",
       "      <td>None</td>\n",
       "      <td>3</td>\n",
       "      <td>Unfurnished</td>\n",
       "      <td>False</td>\n",
       "      <td>Kukatpally</td>\n",
       "      <td>None</td>\n",
       "      <td>TWO_WHEELER</td>\n",
       "      <td>500</td>\n",
       "      <td>7000</td>\n",
       "      <td>BHK1</td>\n",
       "      <td>None</td>\n",
       "      <td>0.0</td>\n",
       "      <td>false</td>\n",
       "      <td>false</td>\n",
       "      <td>false</td>\n",
       "      <td>false</td>\n",
       "    </tr>\n",
       "    <tr>\n",
       "      <th>19109</th>\n",
       "      <td>None</td>\n",
       "      <td>1</td>\n",
       "      <td>11000</td>\n",
       "      <td>None</td>\n",
       "      <td>1</td>\n",
       "      <td>Unfurnished</td>\n",
       "      <td>False</td>\n",
       "      <td>Santosh Nagar</td>\n",
       "      <td>None</td>\n",
       "      <td>TWO_WHEELER</td>\n",
       "      <td>400</td>\n",
       "      <td>5500</td>\n",
       "      <td>BHK1</td>\n",
       "      <td>None</td>\n",
       "      <td>0.0</td>\n",
       "      <td>false</td>\n",
       "      <td>false</td>\n",
       "      <td>false</td>\n",
       "      <td>false</td>\n",
       "    </tr>\n",
       "  </tbody>\n",
       "</table>\n",
       "<p>19110 rows × 19 columns</p>\n",
       "</div>"
      ],
      "text/plain": [
       "      balconies  bathroom  deposit facing  floor furnishingDesc  \\\n",
       "0             3         3    90000      W      3           Semi   \n",
       "1             1         2    45000      E      2    Unfurnished   \n",
       "2             3         3    80000      E      0           Semi   \n",
       "3             1         2    18000      W      2    Unfurnished   \n",
       "4             2         2    80000      E      2           Semi   \n",
       "...         ...       ...      ...    ...    ...            ...   \n",
       "19105      None         1    17000   None      0    Unfurnished   \n",
       "19106         2         2     8500      S      2    Unfurnished   \n",
       "19107      None         3    30000   None      3    Unfurnished   \n",
       "19108      None         1    13000   None      3    Unfurnished   \n",
       "19109      None         1    11000   None      1    Unfurnished   \n",
       "\n",
       "       isMaintenance         locality maintenanceAmount      parking  \\\n",
       "0               True       Gachibowli              2000         BOTH   \n",
       "1              False  Chandrayangutta              None  TWO_WHEELER   \n",
       "2               True        Manikonda              1000         BOTH   \n",
       "3               True         LB Nagar               500         BOTH   \n",
       "4               True       HITEC City              2000         BOTH   \n",
       "...              ...              ...               ...          ...   \n",
       "19105           True       Gachibowli               500         BOTH   \n",
       "19106           True       Jillalguda               500         BOTH   \n",
       "19107          False         Moosapet              None         BOTH   \n",
       "19108          False       Kukatpally              None  TWO_WHEELER   \n",
       "19109          False    Santosh Nagar              None  TWO_WHEELER   \n",
       "\n",
       "       property_size  rent_amount type_bhk waterSupply  Lift     Ac Security  \\\n",
       "0               2200        28000     BHK3   CORP_BORE   1.0  false     true   \n",
       "1               1200        15000     BHK3    BOREWELL   0.0  false    false   \n",
       "2               1800        16000     BHK3   CORP_BORE   1.0  false     true   \n",
       "3                750         9000     BHK2   CORP_BORE   0.0  false     true   \n",
       "4               1250        32500     BHK2   CORP_BORE   1.0   true     true   \n",
       "...              ...          ...      ...         ...   ...    ...      ...   \n",
       "19105            500         8500     BHK1        None   1.0  false     true   \n",
       "19106            900         8500     BHK2    BOREWELL   0.0  false    false   \n",
       "19107           1150        15000     BHK2        None   0.0  false    false   \n",
       "19108            500         7000     BHK1        None   0.0  false    false   \n",
       "19109            400         5500     BHK1        None   0.0  false    false   \n",
       "\n",
       "      Servent Internet  \n",
       "0       false    false  \n",
       "1       false    false  \n",
       "2        true    false  \n",
       "3       false    false  \n",
       "4       false    false  \n",
       "...       ...      ...  \n",
       "19105   false    false  \n",
       "19106   false    false  \n",
       "19107   false    false  \n",
       "19108   false    false  \n",
       "19109   false    false  \n",
       "\n",
       "[19110 rows x 19 columns]"
      ]
     },
     "execution_count": 482,
     "metadata": {},
     "output_type": "execute_result"
    }
   ],
   "source": [
    "df"
   ]
  },
  {
   "cell_type": "code",
   "execution_count": 483,
   "id": "9c032158",
   "metadata": {},
   "outputs": [
    {
     "data": {
      "text/plain": [
       "None    9541\n",
       "E       4487\n",
       "W       1869\n",
       "N       1726\n",
       "NE       720\n",
       "S        318\n",
       "DK       237\n",
       "SE       102\n",
       "NW        78\n",
       "SW        32\n",
       "Name: facing, dtype: int64"
      ]
     },
     "execution_count": 483,
     "metadata": {},
     "output_type": "execute_result"
    }
   ],
   "source": [
    "df['facing'].value_counts()"
   ]
  },
  {
   "cell_type": "code",
   "execution_count": 484,
   "id": "d2920d8b",
   "metadata": {},
   "outputs": [
    {
     "data": {
      "text/plain": [
       "Kukatpally        1531\n",
       "Kondapur          1233\n",
       "Gachibowli         716\n",
       "Miyapur            604\n",
       "Hafeezpet          469\n",
       "                  ... \n",
       "Namalagundu          1\n",
       "Medipattanam         1\n",
       "Himayathnagar        1\n",
       "Shilpa Park          1\n",
       "Sikh Village,        1\n",
       "Name: locality, Length: 2638, dtype: int64"
      ]
     },
     "execution_count": 484,
     "metadata": {},
     "output_type": "execute_result"
    }
   ],
   "source": [
    "df['locality'].value_counts()"
   ]
  },
  {
   "cell_type": "code",
   "execution_count": 485,
   "id": "d4eab599",
   "metadata": {},
   "outputs": [
    {
     "data": {
      "text/plain": [
       "Index(['balconies', 'bathroom', 'deposit', 'facing', 'floor', 'furnishingDesc',\n",
       "       'isMaintenance', 'locality', 'maintenanceAmount', 'parking',\n",
       "       'property_size', 'rent_amount', 'type_bhk', 'waterSupply', 'Lift', 'Ac',\n",
       "       'Security', 'Servent', 'Internet'],\n",
       "      dtype='object')"
      ]
     },
     "execution_count": 485,
     "metadata": {},
     "output_type": "execute_result"
    }
   ],
   "source": [
    "df.columns"
   ]
  },
  {
   "cell_type": "code",
   "execution_count": 486,
   "id": "c7d1ba01",
   "metadata": {},
   "outputs": [],
   "source": [
    "# df['Security']=df['Security'].map({'true':1,'false':0})"
   ]
  },
  {
   "cell_type": "code",
   "execution_count": 487,
   "id": "7daa5429",
   "metadata": {},
   "outputs": [],
   "source": [
    "df['Ac']=df['Ac'].map({'true':1,'false':0})\n",
    "df['Security']=df['Security'].map({'true':1,'false':0})\n",
    "df['Servent']=df['Servent'].map({'true':1,'false':0})\n",
    "df['Internet']=df['Internet'].map({'true':1,'false':0})\n",
    "df['facing']=df['facing'].map({'E':0,'W':1,'N':2,'S':3,'NaN':4})\n",
    "df['furnishingDesc']=df['furnishingDesc'].map({'Full':0,'Semi':1,'Unfurnished':2})\n",
    "df['isMaintenance']=df['isMaintenance'].map({True:1,False:0})\n"
   ]
  },
  {
   "cell_type": "code",
   "execution_count": 488,
   "id": "ceab45ca",
   "metadata": {},
   "outputs": [
    {
     "data": {
      "text/html": [
       "<div>\n",
       "<style scoped>\n",
       "    .dataframe tbody tr th:only-of-type {\n",
       "        vertical-align: middle;\n",
       "    }\n",
       "\n",
       "    .dataframe tbody tr th {\n",
       "        vertical-align: top;\n",
       "    }\n",
       "\n",
       "    .dataframe thead th {\n",
       "        text-align: right;\n",
       "    }\n",
       "</style>\n",
       "<table border=\"1\" class=\"dataframe\">\n",
       "  <thead>\n",
       "    <tr style=\"text-align: right;\">\n",
       "      <th></th>\n",
       "      <th>balconies</th>\n",
       "      <th>bathroom</th>\n",
       "      <th>deposit</th>\n",
       "      <th>facing</th>\n",
       "      <th>floor</th>\n",
       "      <th>furnishingDesc</th>\n",
       "      <th>isMaintenance</th>\n",
       "      <th>locality</th>\n",
       "      <th>maintenanceAmount</th>\n",
       "      <th>parking</th>\n",
       "      <th>property_size</th>\n",
       "      <th>rent_amount</th>\n",
       "      <th>type_bhk</th>\n",
       "      <th>waterSupply</th>\n",
       "      <th>Lift</th>\n",
       "      <th>Ac</th>\n",
       "      <th>Security</th>\n",
       "      <th>Servent</th>\n",
       "      <th>Internet</th>\n",
       "    </tr>\n",
       "  </thead>\n",
       "  <tbody>\n",
       "    <tr>\n",
       "      <th>0</th>\n",
       "      <td>3</td>\n",
       "      <td>3</td>\n",
       "      <td>90000</td>\n",
       "      <td>1.0</td>\n",
       "      <td>3</td>\n",
       "      <td>1</td>\n",
       "      <td>1</td>\n",
       "      <td>Gachibowli</td>\n",
       "      <td>2000</td>\n",
       "      <td>BOTH</td>\n",
       "      <td>2200</td>\n",
       "      <td>28000</td>\n",
       "      <td>BHK3</td>\n",
       "      <td>CORP_BORE</td>\n",
       "      <td>1.0</td>\n",
       "      <td>0.0</td>\n",
       "      <td>1.0</td>\n",
       "      <td>0.0</td>\n",
       "      <td>0.0</td>\n",
       "    </tr>\n",
       "    <tr>\n",
       "      <th>1</th>\n",
       "      <td>1</td>\n",
       "      <td>2</td>\n",
       "      <td>45000</td>\n",
       "      <td>0.0</td>\n",
       "      <td>2</td>\n",
       "      <td>2</td>\n",
       "      <td>0</td>\n",
       "      <td>Chandrayangutta</td>\n",
       "      <td>None</td>\n",
       "      <td>TWO_WHEELER</td>\n",
       "      <td>1200</td>\n",
       "      <td>15000</td>\n",
       "      <td>BHK3</td>\n",
       "      <td>BOREWELL</td>\n",
       "      <td>0.0</td>\n",
       "      <td>0.0</td>\n",
       "      <td>0.0</td>\n",
       "      <td>0.0</td>\n",
       "      <td>0.0</td>\n",
       "    </tr>\n",
       "    <tr>\n",
       "      <th>2</th>\n",
       "      <td>3</td>\n",
       "      <td>3</td>\n",
       "      <td>80000</td>\n",
       "      <td>0.0</td>\n",
       "      <td>0</td>\n",
       "      <td>1</td>\n",
       "      <td>1</td>\n",
       "      <td>Manikonda</td>\n",
       "      <td>1000</td>\n",
       "      <td>BOTH</td>\n",
       "      <td>1800</td>\n",
       "      <td>16000</td>\n",
       "      <td>BHK3</td>\n",
       "      <td>CORP_BORE</td>\n",
       "      <td>1.0</td>\n",
       "      <td>0.0</td>\n",
       "      <td>1.0</td>\n",
       "      <td>1.0</td>\n",
       "      <td>0.0</td>\n",
       "    </tr>\n",
       "    <tr>\n",
       "      <th>3</th>\n",
       "      <td>1</td>\n",
       "      <td>2</td>\n",
       "      <td>18000</td>\n",
       "      <td>1.0</td>\n",
       "      <td>2</td>\n",
       "      <td>2</td>\n",
       "      <td>1</td>\n",
       "      <td>LB Nagar</td>\n",
       "      <td>500</td>\n",
       "      <td>BOTH</td>\n",
       "      <td>750</td>\n",
       "      <td>9000</td>\n",
       "      <td>BHK2</td>\n",
       "      <td>CORP_BORE</td>\n",
       "      <td>0.0</td>\n",
       "      <td>0.0</td>\n",
       "      <td>1.0</td>\n",
       "      <td>0.0</td>\n",
       "      <td>0.0</td>\n",
       "    </tr>\n",
       "    <tr>\n",
       "      <th>4</th>\n",
       "      <td>2</td>\n",
       "      <td>2</td>\n",
       "      <td>80000</td>\n",
       "      <td>0.0</td>\n",
       "      <td>2</td>\n",
       "      <td>1</td>\n",
       "      <td>1</td>\n",
       "      <td>HITEC City</td>\n",
       "      <td>2000</td>\n",
       "      <td>BOTH</td>\n",
       "      <td>1250</td>\n",
       "      <td>32500</td>\n",
       "      <td>BHK2</td>\n",
       "      <td>CORP_BORE</td>\n",
       "      <td>1.0</td>\n",
       "      <td>1.0</td>\n",
       "      <td>1.0</td>\n",
       "      <td>0.0</td>\n",
       "      <td>0.0</td>\n",
       "    </tr>\n",
       "    <tr>\n",
       "      <th>...</th>\n",
       "      <td>...</td>\n",
       "      <td>...</td>\n",
       "      <td>...</td>\n",
       "      <td>...</td>\n",
       "      <td>...</td>\n",
       "      <td>...</td>\n",
       "      <td>...</td>\n",
       "      <td>...</td>\n",
       "      <td>...</td>\n",
       "      <td>...</td>\n",
       "      <td>...</td>\n",
       "      <td>...</td>\n",
       "      <td>...</td>\n",
       "      <td>...</td>\n",
       "      <td>...</td>\n",
       "      <td>...</td>\n",
       "      <td>...</td>\n",
       "      <td>...</td>\n",
       "      <td>...</td>\n",
       "    </tr>\n",
       "    <tr>\n",
       "      <th>19105</th>\n",
       "      <td>None</td>\n",
       "      <td>1</td>\n",
       "      <td>17000</td>\n",
       "      <td>NaN</td>\n",
       "      <td>0</td>\n",
       "      <td>2</td>\n",
       "      <td>1</td>\n",
       "      <td>Gachibowli</td>\n",
       "      <td>500</td>\n",
       "      <td>BOTH</td>\n",
       "      <td>500</td>\n",
       "      <td>8500</td>\n",
       "      <td>BHK1</td>\n",
       "      <td>None</td>\n",
       "      <td>1.0</td>\n",
       "      <td>0.0</td>\n",
       "      <td>1.0</td>\n",
       "      <td>0.0</td>\n",
       "      <td>0.0</td>\n",
       "    </tr>\n",
       "    <tr>\n",
       "      <th>19106</th>\n",
       "      <td>2</td>\n",
       "      <td>2</td>\n",
       "      <td>8500</td>\n",
       "      <td>3.0</td>\n",
       "      <td>2</td>\n",
       "      <td>2</td>\n",
       "      <td>1</td>\n",
       "      <td>Jillalguda</td>\n",
       "      <td>500</td>\n",
       "      <td>BOTH</td>\n",
       "      <td>900</td>\n",
       "      <td>8500</td>\n",
       "      <td>BHK2</td>\n",
       "      <td>BOREWELL</td>\n",
       "      <td>0.0</td>\n",
       "      <td>0.0</td>\n",
       "      <td>0.0</td>\n",
       "      <td>0.0</td>\n",
       "      <td>0.0</td>\n",
       "    </tr>\n",
       "    <tr>\n",
       "      <th>19107</th>\n",
       "      <td>None</td>\n",
       "      <td>3</td>\n",
       "      <td>30000</td>\n",
       "      <td>NaN</td>\n",
       "      <td>3</td>\n",
       "      <td>2</td>\n",
       "      <td>0</td>\n",
       "      <td>Moosapet</td>\n",
       "      <td>None</td>\n",
       "      <td>BOTH</td>\n",
       "      <td>1150</td>\n",
       "      <td>15000</td>\n",
       "      <td>BHK2</td>\n",
       "      <td>None</td>\n",
       "      <td>0.0</td>\n",
       "      <td>0.0</td>\n",
       "      <td>0.0</td>\n",
       "      <td>0.0</td>\n",
       "      <td>0.0</td>\n",
       "    </tr>\n",
       "    <tr>\n",
       "      <th>19108</th>\n",
       "      <td>None</td>\n",
       "      <td>1</td>\n",
       "      <td>13000</td>\n",
       "      <td>NaN</td>\n",
       "      <td>3</td>\n",
       "      <td>2</td>\n",
       "      <td>0</td>\n",
       "      <td>Kukatpally</td>\n",
       "      <td>None</td>\n",
       "      <td>TWO_WHEELER</td>\n",
       "      <td>500</td>\n",
       "      <td>7000</td>\n",
       "      <td>BHK1</td>\n",
       "      <td>None</td>\n",
       "      <td>0.0</td>\n",
       "      <td>0.0</td>\n",
       "      <td>0.0</td>\n",
       "      <td>0.0</td>\n",
       "      <td>0.0</td>\n",
       "    </tr>\n",
       "    <tr>\n",
       "      <th>19109</th>\n",
       "      <td>None</td>\n",
       "      <td>1</td>\n",
       "      <td>11000</td>\n",
       "      <td>NaN</td>\n",
       "      <td>1</td>\n",
       "      <td>2</td>\n",
       "      <td>0</td>\n",
       "      <td>Santosh Nagar</td>\n",
       "      <td>None</td>\n",
       "      <td>TWO_WHEELER</td>\n",
       "      <td>400</td>\n",
       "      <td>5500</td>\n",
       "      <td>BHK1</td>\n",
       "      <td>None</td>\n",
       "      <td>0.0</td>\n",
       "      <td>0.0</td>\n",
       "      <td>0.0</td>\n",
       "      <td>0.0</td>\n",
       "      <td>0.0</td>\n",
       "    </tr>\n",
       "  </tbody>\n",
       "</table>\n",
       "<p>19110 rows × 19 columns</p>\n",
       "</div>"
      ],
      "text/plain": [
       "      balconies  bathroom  deposit  facing  floor  furnishingDesc  \\\n",
       "0             3         3    90000     1.0      3               1   \n",
       "1             1         2    45000     0.0      2               2   \n",
       "2             3         3    80000     0.0      0               1   \n",
       "3             1         2    18000     1.0      2               2   \n",
       "4             2         2    80000     0.0      2               1   \n",
       "...         ...       ...      ...     ...    ...             ...   \n",
       "19105      None         1    17000     NaN      0               2   \n",
       "19106         2         2     8500     3.0      2               2   \n",
       "19107      None         3    30000     NaN      3               2   \n",
       "19108      None         1    13000     NaN      3               2   \n",
       "19109      None         1    11000     NaN      1               2   \n",
       "\n",
       "       isMaintenance         locality maintenanceAmount      parking  \\\n",
       "0                  1       Gachibowli              2000         BOTH   \n",
       "1                  0  Chandrayangutta              None  TWO_WHEELER   \n",
       "2                  1        Manikonda              1000         BOTH   \n",
       "3                  1         LB Nagar               500         BOTH   \n",
       "4                  1       HITEC City              2000         BOTH   \n",
       "...              ...              ...               ...          ...   \n",
       "19105              1       Gachibowli               500         BOTH   \n",
       "19106              1       Jillalguda               500         BOTH   \n",
       "19107              0         Moosapet              None         BOTH   \n",
       "19108              0       Kukatpally              None  TWO_WHEELER   \n",
       "19109              0    Santosh Nagar              None  TWO_WHEELER   \n",
       "\n",
       "       property_size  rent_amount type_bhk waterSupply  Lift   Ac  Security  \\\n",
       "0               2200        28000     BHK3   CORP_BORE   1.0  0.0       1.0   \n",
       "1               1200        15000     BHK3    BOREWELL   0.0  0.0       0.0   \n",
       "2               1800        16000     BHK3   CORP_BORE   1.0  0.0       1.0   \n",
       "3                750         9000     BHK2   CORP_BORE   0.0  0.0       1.0   \n",
       "4               1250        32500     BHK2   CORP_BORE   1.0  1.0       1.0   \n",
       "...              ...          ...      ...         ...   ...  ...       ...   \n",
       "19105            500         8500     BHK1        None   1.0  0.0       1.0   \n",
       "19106            900         8500     BHK2    BOREWELL   0.0  0.0       0.0   \n",
       "19107           1150        15000     BHK2        None   0.0  0.0       0.0   \n",
       "19108            500         7000     BHK1        None   0.0  0.0       0.0   \n",
       "19109            400         5500     BHK1        None   0.0  0.0       0.0   \n",
       "\n",
       "       Servent  Internet  \n",
       "0          0.0       0.0  \n",
       "1          0.0       0.0  \n",
       "2          1.0       0.0  \n",
       "3          0.0       0.0  \n",
       "4          0.0       0.0  \n",
       "...        ...       ...  \n",
       "19105      0.0       0.0  \n",
       "19106      0.0       0.0  \n",
       "19107      0.0       0.0  \n",
       "19108      0.0       0.0  \n",
       "19109      0.0       0.0  \n",
       "\n",
       "[19110 rows x 19 columns]"
      ]
     },
     "execution_count": 488,
     "metadata": {},
     "output_type": "execute_result"
    }
   ],
   "source": [
    "df"
   ]
  },
  {
   "cell_type": "code",
   "execution_count": 489,
   "id": "0ffff44b",
   "metadata": {},
   "outputs": [
    {
     "name": "stdout",
     "output_type": "stream",
     "text": [
      "<class 'pandas.core.frame.DataFrame'>\n",
      "RangeIndex: 19110 entries, 0 to 19109\n",
      "Data columns (total 19 columns):\n",
      " #   Column             Non-Null Count  Dtype  \n",
      "---  ------             --------------  -----  \n",
      " 0   balconies          19110 non-null  object \n",
      " 1   bathroom           19110 non-null  int64  \n",
      " 2   deposit            19110 non-null  int64  \n",
      " 3   facing             8400 non-null   float64\n",
      " 4   floor              19110 non-null  int64  \n",
      " 5   furnishingDesc     19110 non-null  int64  \n",
      " 6   isMaintenance      19110 non-null  int64  \n",
      " 7   locality           19110 non-null  object \n",
      " 8   maintenanceAmount  19110 non-null  object \n",
      " 9   parking            19110 non-null  object \n",
      " 10  property_size      19110 non-null  int64  \n",
      " 11  rent_amount        19110 non-null  int64  \n",
      " 12  type_bhk           19110 non-null  object \n",
      " 13  waterSupply        19110 non-null  object \n",
      " 14  Lift               18938 non-null  float64\n",
      " 15  Ac                 18938 non-null  float64\n",
      " 16  Security           18938 non-null  float64\n",
      " 17  Servent            18938 non-null  float64\n",
      " 18  Internet           18938 non-null  float64\n",
      "dtypes: float64(6), int64(7), object(6)\n",
      "memory usage: 2.8+ MB\n"
     ]
    }
   ],
   "source": [
    "df.info()"
   ]
  },
  {
   "cell_type": "code",
   "execution_count": 490,
   "id": "1924b2fb",
   "metadata": {},
   "outputs": [
    {
     "data": {
      "text/plain": [
       "Index(['balconies', 'bathroom', 'deposit', 'facing', 'floor', 'furnishingDesc',\n",
       "       'isMaintenance', 'locality', 'maintenanceAmount', 'parking',\n",
       "       'property_size', 'rent_amount', 'type_bhk', 'waterSupply', 'Lift', 'Ac',\n",
       "       'Security', 'Servent', 'Internet'],\n",
       "      dtype='object')"
      ]
     },
     "execution_count": 490,
     "metadata": {},
     "output_type": "execute_result"
    }
   ],
   "source": [
    "df.columns"
   ]
  },
  {
   "cell_type": "code",
   "execution_count": 491,
   "id": "0ea38dcf",
   "metadata": {},
   "outputs": [],
   "source": [
    "df['locality']=df['locality'].fillna(df['locality'].value_counts().index[0])"
   ]
  },
  {
   "cell_type": "code",
   "execution_count": 492,
   "id": "967be989",
   "metadata": {},
   "outputs": [
    {
     "data": {
      "text/plain": [
       "balconies                0\n",
       "bathroom                 0\n",
       "deposit                  0\n",
       "facing               10710\n",
       "floor                    0\n",
       "furnishingDesc           0\n",
       "isMaintenance            0\n",
       "locality                 0\n",
       "maintenanceAmount        0\n",
       "parking                  0\n",
       "property_size            0\n",
       "rent_amount              0\n",
       "type_bhk                 0\n",
       "waterSupply              0\n",
       "Lift                   172\n",
       "Ac                     172\n",
       "Security               172\n",
       "Servent                172\n",
       "Internet               172\n",
       "dtype: int64"
      ]
     },
     "execution_count": 492,
     "metadata": {},
     "output_type": "execute_result"
    }
   ],
   "source": [
    "df.isna().sum()"
   ]
  },
  {
   "cell_type": "code",
   "execution_count": 493,
   "id": "74e7ad6b",
   "metadata": {},
   "outputs": [
    {
     "data": {
      "text/plain": [
       "0.0    13131\n",
       "1.0     5807\n",
       "Name: Lift, dtype: int64"
      ]
     },
     "execution_count": 493,
     "metadata": {},
     "output_type": "execute_result"
    }
   ],
   "source": [
    "df['Lift'].value_counts()"
   ]
  },
  {
   "cell_type": "code",
   "execution_count": 494,
   "id": "1927c6a4",
   "metadata": {},
   "outputs": [],
   "source": [
    "df['Lift']=df['Lift'].fillna(df['Lift'].value_counts().index[0])"
   ]
  },
  {
   "cell_type": "code",
   "execution_count": 495,
   "id": "04bfb0c2",
   "metadata": {},
   "outputs": [],
   "source": [
    "df['Ac']=df['Ac'].fillna(df['Ac'].value_counts().index[0])\n",
    "df['Security']=df['Security'].fillna(df['Security'].value_counts().index[0])\n",
    "df['Servent']=df['Servent'].fillna(df['Servent'].value_counts().index[0])\n",
    "df['Internet']=df['Internet'].fillna(df['Internet'].value_counts().index[0])"
   ]
  },
  {
   "cell_type": "code",
   "execution_count": 496,
   "id": "56e03ee7",
   "metadata": {},
   "outputs": [
    {
     "data": {
      "text/plain": [
       "0.0    4487\n",
       "1.0    1869\n",
       "2.0    1726\n",
       "3.0     318\n",
       "Name: facing, dtype: int64"
      ]
     },
     "execution_count": 496,
     "metadata": {},
     "output_type": "execute_result"
    }
   ],
   "source": [
    "df['facing'].value_counts()"
   ]
  },
  {
   "cell_type": "code",
   "execution_count": 497,
   "id": "c5cb6eac",
   "metadata": {},
   "outputs": [
    {
     "data": {
      "text/plain": [
       "balconies                0\n",
       "bathroom                 0\n",
       "deposit                  0\n",
       "facing               10710\n",
       "floor                    0\n",
       "furnishingDesc           0\n",
       "isMaintenance            0\n",
       "locality                 0\n",
       "maintenanceAmount        0\n",
       "parking                  0\n",
       "property_size            0\n",
       "rent_amount              0\n",
       "type_bhk                 0\n",
       "waterSupply              0\n",
       "Lift                     0\n",
       "Ac                       0\n",
       "Security                 0\n",
       "Servent                  0\n",
       "Internet                 0\n",
       "dtype: int64"
      ]
     },
     "execution_count": 497,
     "metadata": {},
     "output_type": "execute_result"
    }
   ],
   "source": [
    "df.isna().sum()"
   ]
  },
  {
   "cell_type": "code",
   "execution_count": 498,
   "id": "9984708b",
   "metadata": {},
   "outputs": [],
   "source": [
    "df['facing']=df['facing'].fillna(4)"
   ]
  },
  {
   "cell_type": "code",
   "execution_count": 499,
   "id": "a67af8bc",
   "metadata": {},
   "outputs": [
    {
     "data": {
      "text/plain": [
       "Kukatpally        1531\n",
       "Kondapur          1233\n",
       "Gachibowli         716\n",
       "Miyapur            604\n",
       "Hafeezpet          469\n",
       "                  ... \n",
       "Namalagundu          1\n",
       "Medipattanam         1\n",
       "Himayathnagar        1\n",
       "Shilpa Park          1\n",
       "Sikh Village,        1\n",
       "Name: locality, Length: 2638, dtype: int64"
      ]
     },
     "execution_count": 499,
     "metadata": {},
     "output_type": "execute_result"
    }
   ],
   "source": [
    "df['locality'].value_counts()"
   ]
  },
  {
   "cell_type": "code",
   "execution_count": 500,
   "id": "c0e579b0",
   "metadata": {},
   "outputs": [
    {
     "data": {
      "text/plain": [
       "array(['Gachibowli', 'Chandrayangutta', 'Manikonda', ..., ' Tarnaka, ',\n",
       "       'No 5 Road, Kukatpally', 'Sikh Village, '], dtype=object)"
      ]
     },
     "execution_count": 500,
     "metadata": {},
     "output_type": "execute_result"
    }
   ],
   "source": [
    "df['locality'].unique()"
   ]
  },
  {
   "cell_type": "code",
   "execution_count": 501,
   "id": "0cc7f159",
   "metadata": {},
   "outputs": [
    {
     "data": {
      "text/plain": [
       "19110"
      ]
     },
     "execution_count": 501,
     "metadata": {},
     "output_type": "execute_result"
    }
   ],
   "source": [
    "df['locality'].count()"
   ]
  },
  {
   "cell_type": "markdown",
   "id": "56895d6e",
   "metadata": {},
   "source": [
    "##one hot encoding for multiple labels"
   ]
  },
  {
   "cell_type": "code",
   "execution_count": 502,
   "id": "1150a5f5",
   "metadata": {},
   "outputs": [],
   "source": [
    "# for col in df.columns:\n",
    "#     print(col,':',len(df[col].unique()))"
   ]
  },
  {
   "cell_type": "code",
   "execution_count": 503,
   "id": "092f1d1d",
   "metadata": {},
   "outputs": [],
   "source": [
    "# df.locality.value_counts().sort_values(ascending=False).head(20)"
   ]
  },
  {
   "cell_type": "code",
   "execution_count": 504,
   "id": "7c070c1f",
   "metadata": {},
   "outputs": [],
   "source": [
    "# top_10=[x for x in df.locality.value_counts().sort_values(ascending=False).head(10).index]\n",
    "# def one_hot_top_x(df,variable,top_x_labels):\n",
    "#     for label in top_10:\n",
    "#         df[variable+'_'+label]=np.where(df['locality']==label,1,0)\n",
    "# one_hot_top_x(df,'locality',top_10)"
   ]
  },
  {
   "cell_type": "code",
   "execution_count": 505,
   "id": "8e509857",
   "metadata": {},
   "outputs": [],
   "source": [
    "top_10=[x for x in df.locality.value_counts().sort_values(ascending=False).head(10).index]"
   ]
  },
  {
   "cell_type": "code",
   "execution_count": 506,
   "id": "12d1f8ca",
   "metadata": {},
   "outputs": [
    {
     "data": {
      "text/plain": [
       "['Kukatpally',\n",
       " 'Kondapur',\n",
       " 'Gachibowli',\n",
       " 'Miyapur',\n",
       " 'Hafeezpet',\n",
       " 'Nizampet',\n",
       " 'Chanda Nagar',\n",
       " 'Manikonda',\n",
       " 'Madhapur',\n",
       " 'Serilingampally']"
      ]
     },
     "execution_count": 506,
     "metadata": {},
     "output_type": "execute_result"
    }
   ],
   "source": [
    "top_10"
   ]
  },
  {
   "cell_type": "code",
   "execution_count": 507,
   "id": "24aaf4dc",
   "metadata": {},
   "outputs": [],
   "source": [
    "# for label in top_10:\n",
    "#     df[label]=np.where(df['locality']==label,1,0)\n",
    "# df[['locality']+top_10].head(4)"
   ]
  },
  {
   "cell_type": "code",
   "execution_count": 508,
   "id": "1cb60ecb",
   "metadata": {},
   "outputs": [],
   "source": [
    "# def one_hot_top_x(df,variable,top_x_labels):\n",
    "#     for label in top_10:\n",
    "#         df[variable+'_'+label]=np.where(df['locality']==label,1,0)\n",
    "    "
   ]
  },
  {
   "cell_type": "code",
   "execution_count": 509,
   "id": "3cc99919",
   "metadata": {},
   "outputs": [],
   "source": [
    "# one_hot_top_x(df,'locality',top_10)"
   ]
  },
  {
   "cell_type": "code",
   "execution_count": 510,
   "id": "3128e9b1",
   "metadata": {},
   "outputs": [
    {
     "data": {
      "text/html": [
       "<div>\n",
       "<style scoped>\n",
       "    .dataframe tbody tr th:only-of-type {\n",
       "        vertical-align: middle;\n",
       "    }\n",
       "\n",
       "    .dataframe tbody tr th {\n",
       "        vertical-align: top;\n",
       "    }\n",
       "\n",
       "    .dataframe thead th {\n",
       "        text-align: right;\n",
       "    }\n",
       "</style>\n",
       "<table border=\"1\" class=\"dataframe\">\n",
       "  <thead>\n",
       "    <tr style=\"text-align: right;\">\n",
       "      <th></th>\n",
       "      <th>balconies</th>\n",
       "      <th>bathroom</th>\n",
       "      <th>deposit</th>\n",
       "      <th>facing</th>\n",
       "      <th>floor</th>\n",
       "      <th>furnishingDesc</th>\n",
       "      <th>isMaintenance</th>\n",
       "      <th>locality</th>\n",
       "      <th>maintenanceAmount</th>\n",
       "      <th>parking</th>\n",
       "      <th>property_size</th>\n",
       "      <th>rent_amount</th>\n",
       "      <th>type_bhk</th>\n",
       "      <th>waterSupply</th>\n",
       "      <th>Lift</th>\n",
       "      <th>Ac</th>\n",
       "      <th>Security</th>\n",
       "      <th>Servent</th>\n",
       "      <th>Internet</th>\n",
       "    </tr>\n",
       "  </thead>\n",
       "  <tbody>\n",
       "    <tr>\n",
       "      <th>0</th>\n",
       "      <td>3</td>\n",
       "      <td>3</td>\n",
       "      <td>90000</td>\n",
       "      <td>1.0</td>\n",
       "      <td>3</td>\n",
       "      <td>1</td>\n",
       "      <td>1</td>\n",
       "      <td>Gachibowli</td>\n",
       "      <td>2000</td>\n",
       "      <td>BOTH</td>\n",
       "      <td>2200</td>\n",
       "      <td>28000</td>\n",
       "      <td>BHK3</td>\n",
       "      <td>CORP_BORE</td>\n",
       "      <td>1.0</td>\n",
       "      <td>0.0</td>\n",
       "      <td>1.0</td>\n",
       "      <td>0.0</td>\n",
       "      <td>0.0</td>\n",
       "    </tr>\n",
       "    <tr>\n",
       "      <th>1</th>\n",
       "      <td>1</td>\n",
       "      <td>2</td>\n",
       "      <td>45000</td>\n",
       "      <td>0.0</td>\n",
       "      <td>2</td>\n",
       "      <td>2</td>\n",
       "      <td>0</td>\n",
       "      <td>Chandrayangutta</td>\n",
       "      <td>None</td>\n",
       "      <td>TWO_WHEELER</td>\n",
       "      <td>1200</td>\n",
       "      <td>15000</td>\n",
       "      <td>BHK3</td>\n",
       "      <td>BOREWELL</td>\n",
       "      <td>0.0</td>\n",
       "      <td>0.0</td>\n",
       "      <td>0.0</td>\n",
       "      <td>0.0</td>\n",
       "      <td>0.0</td>\n",
       "    </tr>\n",
       "    <tr>\n",
       "      <th>2</th>\n",
       "      <td>3</td>\n",
       "      <td>3</td>\n",
       "      <td>80000</td>\n",
       "      <td>0.0</td>\n",
       "      <td>0</td>\n",
       "      <td>1</td>\n",
       "      <td>1</td>\n",
       "      <td>Manikonda</td>\n",
       "      <td>1000</td>\n",
       "      <td>BOTH</td>\n",
       "      <td>1800</td>\n",
       "      <td>16000</td>\n",
       "      <td>BHK3</td>\n",
       "      <td>CORP_BORE</td>\n",
       "      <td>1.0</td>\n",
       "      <td>0.0</td>\n",
       "      <td>1.0</td>\n",
       "      <td>1.0</td>\n",
       "      <td>0.0</td>\n",
       "    </tr>\n",
       "    <tr>\n",
       "      <th>3</th>\n",
       "      <td>1</td>\n",
       "      <td>2</td>\n",
       "      <td>18000</td>\n",
       "      <td>1.0</td>\n",
       "      <td>2</td>\n",
       "      <td>2</td>\n",
       "      <td>1</td>\n",
       "      <td>LB Nagar</td>\n",
       "      <td>500</td>\n",
       "      <td>BOTH</td>\n",
       "      <td>750</td>\n",
       "      <td>9000</td>\n",
       "      <td>BHK2</td>\n",
       "      <td>CORP_BORE</td>\n",
       "      <td>0.0</td>\n",
       "      <td>0.0</td>\n",
       "      <td>1.0</td>\n",
       "      <td>0.0</td>\n",
       "      <td>0.0</td>\n",
       "    </tr>\n",
       "    <tr>\n",
       "      <th>4</th>\n",
       "      <td>2</td>\n",
       "      <td>2</td>\n",
       "      <td>80000</td>\n",
       "      <td>0.0</td>\n",
       "      <td>2</td>\n",
       "      <td>1</td>\n",
       "      <td>1</td>\n",
       "      <td>HITEC City</td>\n",
       "      <td>2000</td>\n",
       "      <td>BOTH</td>\n",
       "      <td>1250</td>\n",
       "      <td>32500</td>\n",
       "      <td>BHK2</td>\n",
       "      <td>CORP_BORE</td>\n",
       "      <td>1.0</td>\n",
       "      <td>1.0</td>\n",
       "      <td>1.0</td>\n",
       "      <td>0.0</td>\n",
       "      <td>0.0</td>\n",
       "    </tr>\n",
       "  </tbody>\n",
       "</table>\n",
       "</div>"
      ],
      "text/plain": [
       "  balconies  bathroom  deposit  facing  floor  furnishingDesc  isMaintenance  \\\n",
       "0         3         3    90000     1.0      3               1              1   \n",
       "1         1         2    45000     0.0      2               2              0   \n",
       "2         3         3    80000     0.0      0               1              1   \n",
       "3         1         2    18000     1.0      2               2              1   \n",
       "4         2         2    80000     0.0      2               1              1   \n",
       "\n",
       "          locality maintenanceAmount      parking  property_size  rent_amount  \\\n",
       "0       Gachibowli              2000         BOTH           2200        28000   \n",
       "1  Chandrayangutta              None  TWO_WHEELER           1200        15000   \n",
       "2        Manikonda              1000         BOTH           1800        16000   \n",
       "3         LB Nagar               500         BOTH            750         9000   \n",
       "4       HITEC City              2000         BOTH           1250        32500   \n",
       "\n",
       "  type_bhk waterSupply  Lift   Ac  Security  Servent  Internet  \n",
       "0     BHK3   CORP_BORE   1.0  0.0       1.0      0.0       0.0  \n",
       "1     BHK3    BOREWELL   0.0  0.0       0.0      0.0       0.0  \n",
       "2     BHK3   CORP_BORE   1.0  0.0       1.0      1.0       0.0  \n",
       "3     BHK2   CORP_BORE   0.0  0.0       1.0      0.0       0.0  \n",
       "4     BHK2   CORP_BORE   1.0  1.0       1.0      0.0       0.0  "
      ]
     },
     "execution_count": 510,
     "metadata": {},
     "output_type": "execute_result"
    }
   ],
   "source": [
    "df.head(5)"
   ]
  },
  {
   "cell_type": "code",
   "execution_count": 511,
   "id": "3c024d69",
   "metadata": {},
   "outputs": [],
   "source": [
    "df['locality']=df['locality'].map({'Kukatpally':0,'Kondapur':1,'Gachibowli':2,'Miyapur':3,'Hafeezpet':4,'Nizampet':5,'Chanda Nagar':6,'Manikonda':7,'Madhapur':8,'Serilingampally':9})"
   ]
  },
  {
   "cell_type": "code",
   "execution_count": 512,
   "id": "bd9c2446",
   "metadata": {
    "scrolled": true
   },
   "outputs": [
    {
     "data": {
      "text/plain": [
       "Index(['balconies', 'bathroom', 'deposit', 'facing', 'floor', 'furnishingDesc',\n",
       "       'isMaintenance', 'locality', 'maintenanceAmount', 'parking',\n",
       "       'property_size', 'rent_amount', 'type_bhk', 'waterSupply', 'Lift', 'Ac',\n",
       "       'Security', 'Servent', 'Internet'],\n",
       "      dtype='object')"
      ]
     },
     "execution_count": 512,
     "metadata": {},
     "output_type": "execute_result"
    }
   ],
   "source": [
    "df.columns"
   ]
  },
  {
   "cell_type": "code",
   "execution_count": 513,
   "id": "af35dadb",
   "metadata": {},
   "outputs": [],
   "source": [
    "df.drop('deposit',axis=True,inplace=True)"
   ]
  },
  {
   "cell_type": "code",
   "execution_count": 514,
   "id": "caf43986",
   "metadata": {},
   "outputs": [],
   "source": [
    "df.drop('maintenanceAmount',axis=True,inplace=True)"
   ]
  },
  {
   "cell_type": "code",
   "execution_count": 515,
   "id": "56b95c49",
   "metadata": {},
   "outputs": [
    {
     "data": {
      "text/plain": [
       "BOTH            9599\n",
       "TWO_WHEELER     7430\n",
       "FOUR_WHEELER    1131\n",
       "NONE             950\n",
       "Name: parking, dtype: int64"
      ]
     },
     "execution_count": 515,
     "metadata": {},
     "output_type": "execute_result"
    }
   ],
   "source": [
    "df['parking'].value_counts()"
   ]
  },
  {
   "cell_type": "code",
   "execution_count": 516,
   "id": "e5ac623f",
   "metadata": {},
   "outputs": [],
   "source": [
    "df['parking']=df['parking'].map({'BOTH':0,'TWO_WHEELER':1,'FOUR_WHEELER':2,'S':3,'NONE':4})"
   ]
  },
  {
   "cell_type": "code",
   "execution_count": 517,
   "id": "9642263a",
   "metadata": {},
   "outputs": [
    {
     "data": {
      "text/html": [
       "<div>\n",
       "<style scoped>\n",
       "    .dataframe tbody tr th:only-of-type {\n",
       "        vertical-align: middle;\n",
       "    }\n",
       "\n",
       "    .dataframe tbody tr th {\n",
       "        vertical-align: top;\n",
       "    }\n",
       "\n",
       "    .dataframe thead th {\n",
       "        text-align: right;\n",
       "    }\n",
       "</style>\n",
       "<table border=\"1\" class=\"dataframe\">\n",
       "  <thead>\n",
       "    <tr style=\"text-align: right;\">\n",
       "      <th></th>\n",
       "      <th>balconies</th>\n",
       "      <th>bathroom</th>\n",
       "      <th>facing</th>\n",
       "      <th>floor</th>\n",
       "      <th>furnishingDesc</th>\n",
       "      <th>isMaintenance</th>\n",
       "      <th>locality</th>\n",
       "      <th>parking</th>\n",
       "      <th>property_size</th>\n",
       "      <th>rent_amount</th>\n",
       "      <th>type_bhk</th>\n",
       "      <th>waterSupply</th>\n",
       "      <th>Lift</th>\n",
       "      <th>Ac</th>\n",
       "      <th>Security</th>\n",
       "      <th>Servent</th>\n",
       "      <th>Internet</th>\n",
       "    </tr>\n",
       "  </thead>\n",
       "  <tbody>\n",
       "    <tr>\n",
       "      <th>0</th>\n",
       "      <td>3</td>\n",
       "      <td>3</td>\n",
       "      <td>1.0</td>\n",
       "      <td>3</td>\n",
       "      <td>1</td>\n",
       "      <td>1</td>\n",
       "      <td>2.0</td>\n",
       "      <td>0</td>\n",
       "      <td>2200</td>\n",
       "      <td>28000</td>\n",
       "      <td>BHK3</td>\n",
       "      <td>CORP_BORE</td>\n",
       "      <td>1.0</td>\n",
       "      <td>0.0</td>\n",
       "      <td>1.0</td>\n",
       "      <td>0.0</td>\n",
       "      <td>0.0</td>\n",
       "    </tr>\n",
       "    <tr>\n",
       "      <th>1</th>\n",
       "      <td>1</td>\n",
       "      <td>2</td>\n",
       "      <td>0.0</td>\n",
       "      <td>2</td>\n",
       "      <td>2</td>\n",
       "      <td>0</td>\n",
       "      <td>NaN</td>\n",
       "      <td>1</td>\n",
       "      <td>1200</td>\n",
       "      <td>15000</td>\n",
       "      <td>BHK3</td>\n",
       "      <td>BOREWELL</td>\n",
       "      <td>0.0</td>\n",
       "      <td>0.0</td>\n",
       "      <td>0.0</td>\n",
       "      <td>0.0</td>\n",
       "      <td>0.0</td>\n",
       "    </tr>\n",
       "    <tr>\n",
       "      <th>2</th>\n",
       "      <td>3</td>\n",
       "      <td>3</td>\n",
       "      <td>0.0</td>\n",
       "      <td>0</td>\n",
       "      <td>1</td>\n",
       "      <td>1</td>\n",
       "      <td>7.0</td>\n",
       "      <td>0</td>\n",
       "      <td>1800</td>\n",
       "      <td>16000</td>\n",
       "      <td>BHK3</td>\n",
       "      <td>CORP_BORE</td>\n",
       "      <td>1.0</td>\n",
       "      <td>0.0</td>\n",
       "      <td>1.0</td>\n",
       "      <td>1.0</td>\n",
       "      <td>0.0</td>\n",
       "    </tr>\n",
       "    <tr>\n",
       "      <th>3</th>\n",
       "      <td>1</td>\n",
       "      <td>2</td>\n",
       "      <td>1.0</td>\n",
       "      <td>2</td>\n",
       "      <td>2</td>\n",
       "      <td>1</td>\n",
       "      <td>NaN</td>\n",
       "      <td>0</td>\n",
       "      <td>750</td>\n",
       "      <td>9000</td>\n",
       "      <td>BHK2</td>\n",
       "      <td>CORP_BORE</td>\n",
       "      <td>0.0</td>\n",
       "      <td>0.0</td>\n",
       "      <td>1.0</td>\n",
       "      <td>0.0</td>\n",
       "      <td>0.0</td>\n",
       "    </tr>\n",
       "    <tr>\n",
       "      <th>4</th>\n",
       "      <td>2</td>\n",
       "      <td>2</td>\n",
       "      <td>0.0</td>\n",
       "      <td>2</td>\n",
       "      <td>1</td>\n",
       "      <td>1</td>\n",
       "      <td>NaN</td>\n",
       "      <td>0</td>\n",
       "      <td>1250</td>\n",
       "      <td>32500</td>\n",
       "      <td>BHK2</td>\n",
       "      <td>CORP_BORE</td>\n",
       "      <td>1.0</td>\n",
       "      <td>1.0</td>\n",
       "      <td>1.0</td>\n",
       "      <td>0.0</td>\n",
       "      <td>0.0</td>\n",
       "    </tr>\n",
       "  </tbody>\n",
       "</table>\n",
       "</div>"
      ],
      "text/plain": [
       "  balconies  bathroom  facing  floor  furnishingDesc  isMaintenance  locality  \\\n",
       "0         3         3     1.0      3               1              1       2.0   \n",
       "1         1         2     0.0      2               2              0       NaN   \n",
       "2         3         3     0.0      0               1              1       7.0   \n",
       "3         1         2     1.0      2               2              1       NaN   \n",
       "4         2         2     0.0      2               1              1       NaN   \n",
       "\n",
       "   parking  property_size  rent_amount type_bhk waterSupply  Lift   Ac  \\\n",
       "0        0           2200        28000     BHK3   CORP_BORE   1.0  0.0   \n",
       "1        1           1200        15000     BHK3    BOREWELL   0.0  0.0   \n",
       "2        0           1800        16000     BHK3   CORP_BORE   1.0  0.0   \n",
       "3        0            750         9000     BHK2   CORP_BORE   0.0  0.0   \n",
       "4        0           1250        32500     BHK2   CORP_BORE   1.0  1.0   \n",
       "\n",
       "   Security  Servent  Internet  \n",
       "0       1.0      0.0       0.0  \n",
       "1       0.0      0.0       0.0  \n",
       "2       1.0      1.0       0.0  \n",
       "3       1.0      0.0       0.0  \n",
       "4       1.0      0.0       0.0  "
      ]
     },
     "execution_count": 517,
     "metadata": {},
     "output_type": "execute_result"
    }
   ],
   "source": [
    "df.head(5)"
   ]
  },
  {
   "cell_type": "code",
   "execution_count": 518,
   "id": "62e22620",
   "metadata": {},
   "outputs": [
    {
     "data": {
      "text/plain": [
       "Index(['balconies', 'bathroom', 'facing', 'floor', 'furnishingDesc',\n",
       "       'isMaintenance', 'locality', 'parking', 'property_size', 'rent_amount',\n",
       "       'type_bhk', 'waterSupply', 'Lift', 'Ac', 'Security', 'Servent',\n",
       "       'Internet'],\n",
       "      dtype='object')"
      ]
     },
     "execution_count": 518,
     "metadata": {},
     "output_type": "execute_result"
    }
   ],
   "source": [
    "df.columns"
   ]
  },
  {
   "cell_type": "code",
   "execution_count": 519,
   "id": "07e13983",
   "metadata": {},
   "outputs": [
    {
     "data": {
      "text/plain": [
       "0        BHK3\n",
       "1        BHK3\n",
       "2        BHK3\n",
       "3        BHK2\n",
       "4        BHK2\n",
       "         ... \n",
       "19105    BHK1\n",
       "19106    BHK2\n",
       "19107    BHK2\n",
       "19108    BHK1\n",
       "19109    BHK1\n",
       "Name: type_bhk, Length: 19110, dtype: object"
      ]
     },
     "execution_count": 519,
     "metadata": {},
     "output_type": "execute_result"
    }
   ],
   "source": [
    "df['type_bhk']"
   ]
  },
  {
   "cell_type": "code",
   "execution_count": 520,
   "id": "417f90ca",
   "metadata": {},
   "outputs": [],
   "source": [
    "df['bedrooms']=df['type_bhk'].str.split('K').str[1]"
   ]
  },
  {
   "cell_type": "code",
   "execution_count": 521,
   "id": "797e45cb",
   "metadata": {},
   "outputs": [],
   "source": [
    "df.drop('type_bhk',axis=1,inplace=True)"
   ]
  },
  {
   "cell_type": "code",
   "execution_count": 522,
   "id": "3985c275",
   "metadata": {},
   "outputs": [
    {
     "data": {
      "text/plain": [
       "Index(['balconies', 'bathroom', 'facing', 'floor', 'furnishingDesc',\n",
       "       'isMaintenance', 'locality', 'parking', 'property_size', 'rent_amount',\n",
       "       'waterSupply', 'Lift', 'Ac', 'Security', 'Servent', 'Internet',\n",
       "       'bedrooms'],\n",
       "      dtype='object')"
      ]
     },
     "execution_count": 522,
     "metadata": {},
     "output_type": "execute_result"
    }
   ],
   "source": [
    "df.columns"
   ]
  },
  {
   "cell_type": "code",
   "execution_count": 523,
   "id": "1bfa8d91",
   "metadata": {},
   "outputs": [
    {
     "data": {
      "text/plain": [
       "None           9224\n",
       "CORP_BORE      6965\n",
       "CORPORATION    1586\n",
       "BOREWELL       1335\n",
       "Name: waterSupply, dtype: int64"
      ]
     },
     "execution_count": 523,
     "metadata": {},
     "output_type": "execute_result"
    }
   ],
   "source": [
    "df['waterSupply'].value_counts()"
   ]
  },
  {
   "cell_type": "code",
   "execution_count": 524,
   "id": "1cb8f5ae",
   "metadata": {},
   "outputs": [],
   "source": [
    "df['waterSupply']=df['waterSupply'].map({'BOREWELL':0,'CORPORATION':1,'CORP_BORE':2,'None':3})"
   ]
  },
  {
   "cell_type": "code",
   "execution_count": 525,
   "id": "a34f6ac3",
   "metadata": {},
   "outputs": [
    {
     "data": {
      "text/plain": [
       "0"
      ]
     },
     "execution_count": 525,
     "metadata": {},
     "output_type": "execute_result"
    }
   ],
   "source": [
    "df['property_size'].isna().sum()"
   ]
  },
  {
   "cell_type": "code",
   "execution_count": null,
   "id": "530fffcd",
   "metadata": {},
   "outputs": [],
   "source": []
  },
  {
   "cell_type": "code",
   "execution_count": null,
   "id": "aef348d8",
   "metadata": {},
   "outputs": [],
   "source": []
  },
  {
   "cell_type": "code",
   "execution_count": 526,
   "id": "2aa10746",
   "metadata": {},
   "outputs": [
    {
     "data": {
      "text/html": [
       "<div>\n",
       "<style scoped>\n",
       "    .dataframe tbody tr th:only-of-type {\n",
       "        vertical-align: middle;\n",
       "    }\n",
       "\n",
       "    .dataframe tbody tr th {\n",
       "        vertical-align: top;\n",
       "    }\n",
       "\n",
       "    .dataframe thead th {\n",
       "        text-align: right;\n",
       "    }\n",
       "</style>\n",
       "<table border=\"1\" class=\"dataframe\">\n",
       "  <thead>\n",
       "    <tr style=\"text-align: right;\">\n",
       "      <th></th>\n",
       "      <th>balconies</th>\n",
       "      <th>bathroom</th>\n",
       "      <th>facing</th>\n",
       "      <th>floor</th>\n",
       "      <th>furnishingDesc</th>\n",
       "      <th>isMaintenance</th>\n",
       "      <th>locality</th>\n",
       "      <th>parking</th>\n",
       "      <th>property_size</th>\n",
       "      <th>rent_amount</th>\n",
       "      <th>waterSupply</th>\n",
       "      <th>Lift</th>\n",
       "      <th>Ac</th>\n",
       "      <th>Security</th>\n",
       "      <th>Servent</th>\n",
       "      <th>Internet</th>\n",
       "      <th>bedrooms</th>\n",
       "    </tr>\n",
       "  </thead>\n",
       "  <tbody>\n",
       "    <tr>\n",
       "      <th>0</th>\n",
       "      <td>3</td>\n",
       "      <td>3</td>\n",
       "      <td>1.0</td>\n",
       "      <td>3</td>\n",
       "      <td>1</td>\n",
       "      <td>1</td>\n",
       "      <td>2.0</td>\n",
       "      <td>0</td>\n",
       "      <td>2200</td>\n",
       "      <td>28000</td>\n",
       "      <td>2</td>\n",
       "      <td>1.0</td>\n",
       "      <td>0.0</td>\n",
       "      <td>1.0</td>\n",
       "      <td>0.0</td>\n",
       "      <td>0.0</td>\n",
       "      <td>3</td>\n",
       "    </tr>\n",
       "    <tr>\n",
       "      <th>1</th>\n",
       "      <td>1</td>\n",
       "      <td>2</td>\n",
       "      <td>0.0</td>\n",
       "      <td>2</td>\n",
       "      <td>2</td>\n",
       "      <td>0</td>\n",
       "      <td>NaN</td>\n",
       "      <td>1</td>\n",
       "      <td>1200</td>\n",
       "      <td>15000</td>\n",
       "      <td>0</td>\n",
       "      <td>0.0</td>\n",
       "      <td>0.0</td>\n",
       "      <td>0.0</td>\n",
       "      <td>0.0</td>\n",
       "      <td>0.0</td>\n",
       "      <td>3</td>\n",
       "    </tr>\n",
       "    <tr>\n",
       "      <th>2</th>\n",
       "      <td>3</td>\n",
       "      <td>3</td>\n",
       "      <td>0.0</td>\n",
       "      <td>0</td>\n",
       "      <td>1</td>\n",
       "      <td>1</td>\n",
       "      <td>7.0</td>\n",
       "      <td>0</td>\n",
       "      <td>1800</td>\n",
       "      <td>16000</td>\n",
       "      <td>2</td>\n",
       "      <td>1.0</td>\n",
       "      <td>0.0</td>\n",
       "      <td>1.0</td>\n",
       "      <td>1.0</td>\n",
       "      <td>0.0</td>\n",
       "      <td>3</td>\n",
       "    </tr>\n",
       "    <tr>\n",
       "      <th>3</th>\n",
       "      <td>1</td>\n",
       "      <td>2</td>\n",
       "      <td>1.0</td>\n",
       "      <td>2</td>\n",
       "      <td>2</td>\n",
       "      <td>1</td>\n",
       "      <td>NaN</td>\n",
       "      <td>0</td>\n",
       "      <td>750</td>\n",
       "      <td>9000</td>\n",
       "      <td>2</td>\n",
       "      <td>0.0</td>\n",
       "      <td>0.0</td>\n",
       "      <td>1.0</td>\n",
       "      <td>0.0</td>\n",
       "      <td>0.0</td>\n",
       "      <td>2</td>\n",
       "    </tr>\n",
       "    <tr>\n",
       "      <th>4</th>\n",
       "      <td>2</td>\n",
       "      <td>2</td>\n",
       "      <td>0.0</td>\n",
       "      <td>2</td>\n",
       "      <td>1</td>\n",
       "      <td>1</td>\n",
       "      <td>NaN</td>\n",
       "      <td>0</td>\n",
       "      <td>1250</td>\n",
       "      <td>32500</td>\n",
       "      <td>2</td>\n",
       "      <td>1.0</td>\n",
       "      <td>1.0</td>\n",
       "      <td>1.0</td>\n",
       "      <td>0.0</td>\n",
       "      <td>0.0</td>\n",
       "      <td>2</td>\n",
       "    </tr>\n",
       "  </tbody>\n",
       "</table>\n",
       "</div>"
      ],
      "text/plain": [
       "  balconies  bathroom  facing  floor  furnishingDesc  isMaintenance  locality  \\\n",
       "0         3         3     1.0      3               1              1       2.0   \n",
       "1         1         2     0.0      2               2              0       NaN   \n",
       "2         3         3     0.0      0               1              1       7.0   \n",
       "3         1         2     1.0      2               2              1       NaN   \n",
       "4         2         2     0.0      2               1              1       NaN   \n",
       "\n",
       "   parking  property_size  rent_amount  waterSupply  Lift   Ac  Security  \\\n",
       "0        0           2200        28000            2   1.0  0.0       1.0   \n",
       "1        1           1200        15000            0   0.0  0.0       0.0   \n",
       "2        0           1800        16000            2   1.0  0.0       1.0   \n",
       "3        0            750         9000            2   0.0  0.0       1.0   \n",
       "4        0           1250        32500            2   1.0  1.0       1.0   \n",
       "\n",
       "   Servent  Internet bedrooms  \n",
       "0      0.0       0.0        3  \n",
       "1      0.0       0.0        3  \n",
       "2      1.0       0.0        3  \n",
       "3      0.0       0.0        2  \n",
       "4      0.0       0.0        2  "
      ]
     },
     "execution_count": 526,
     "metadata": {},
     "output_type": "execute_result"
    }
   ],
   "source": [
    "df.head(5)"
   ]
  },
  {
   "cell_type": "code",
   "execution_count": null,
   "id": "9da9b06a",
   "metadata": {},
   "outputs": [],
   "source": []
  },
  {
   "cell_type": "code",
   "execution_count": 527,
   "id": "d6e840e7",
   "metadata": {},
   "outputs": [
    {
     "data": {
      "text/html": [
       "<div>\n",
       "<style scoped>\n",
       "    .dataframe tbody tr th:only-of-type {\n",
       "        vertical-align: middle;\n",
       "    }\n",
       "\n",
       "    .dataframe tbody tr th {\n",
       "        vertical-align: top;\n",
       "    }\n",
       "\n",
       "    .dataframe thead th {\n",
       "        text-align: right;\n",
       "    }\n",
       "</style>\n",
       "<table border=\"1\" class=\"dataframe\">\n",
       "  <thead>\n",
       "    <tr style=\"text-align: right;\">\n",
       "      <th></th>\n",
       "      <th>balconies</th>\n",
       "      <th>bathroom</th>\n",
       "      <th>facing</th>\n",
       "      <th>floor</th>\n",
       "      <th>furnishingDesc</th>\n",
       "      <th>isMaintenance</th>\n",
       "      <th>locality</th>\n",
       "      <th>parking</th>\n",
       "      <th>property_size</th>\n",
       "      <th>rent_amount</th>\n",
       "      <th>waterSupply</th>\n",
       "      <th>Lift</th>\n",
       "      <th>Ac</th>\n",
       "      <th>Security</th>\n",
       "      <th>Servent</th>\n",
       "      <th>Internet</th>\n",
       "      <th>bedrooms</th>\n",
       "    </tr>\n",
       "  </thead>\n",
       "  <tbody>\n",
       "    <tr>\n",
       "      <th>0</th>\n",
       "      <td>3</td>\n",
       "      <td>3</td>\n",
       "      <td>1.0</td>\n",
       "      <td>3</td>\n",
       "      <td>1</td>\n",
       "      <td>1</td>\n",
       "      <td>2.0</td>\n",
       "      <td>0</td>\n",
       "      <td>2200</td>\n",
       "      <td>28000</td>\n",
       "      <td>2</td>\n",
       "      <td>1.0</td>\n",
       "      <td>0.0</td>\n",
       "      <td>1.0</td>\n",
       "      <td>0.0</td>\n",
       "      <td>0.0</td>\n",
       "      <td>3</td>\n",
       "    </tr>\n",
       "    <tr>\n",
       "      <th>1</th>\n",
       "      <td>1</td>\n",
       "      <td>2</td>\n",
       "      <td>0.0</td>\n",
       "      <td>2</td>\n",
       "      <td>2</td>\n",
       "      <td>0</td>\n",
       "      <td>NaN</td>\n",
       "      <td>1</td>\n",
       "      <td>1200</td>\n",
       "      <td>15000</td>\n",
       "      <td>0</td>\n",
       "      <td>0.0</td>\n",
       "      <td>0.0</td>\n",
       "      <td>0.0</td>\n",
       "      <td>0.0</td>\n",
       "      <td>0.0</td>\n",
       "      <td>3</td>\n",
       "    </tr>\n",
       "    <tr>\n",
       "      <th>2</th>\n",
       "      <td>3</td>\n",
       "      <td>3</td>\n",
       "      <td>0.0</td>\n",
       "      <td>0</td>\n",
       "      <td>1</td>\n",
       "      <td>1</td>\n",
       "      <td>7.0</td>\n",
       "      <td>0</td>\n",
       "      <td>1800</td>\n",
       "      <td>16000</td>\n",
       "      <td>2</td>\n",
       "      <td>1.0</td>\n",
       "      <td>0.0</td>\n",
       "      <td>1.0</td>\n",
       "      <td>1.0</td>\n",
       "      <td>0.0</td>\n",
       "      <td>3</td>\n",
       "    </tr>\n",
       "    <tr>\n",
       "      <th>3</th>\n",
       "      <td>1</td>\n",
       "      <td>2</td>\n",
       "      <td>1.0</td>\n",
       "      <td>2</td>\n",
       "      <td>2</td>\n",
       "      <td>1</td>\n",
       "      <td>NaN</td>\n",
       "      <td>0</td>\n",
       "      <td>750</td>\n",
       "      <td>9000</td>\n",
       "      <td>2</td>\n",
       "      <td>0.0</td>\n",
       "      <td>0.0</td>\n",
       "      <td>1.0</td>\n",
       "      <td>0.0</td>\n",
       "      <td>0.0</td>\n",
       "      <td>2</td>\n",
       "    </tr>\n",
       "    <tr>\n",
       "      <th>4</th>\n",
       "      <td>2</td>\n",
       "      <td>2</td>\n",
       "      <td>0.0</td>\n",
       "      <td>2</td>\n",
       "      <td>1</td>\n",
       "      <td>1</td>\n",
       "      <td>NaN</td>\n",
       "      <td>0</td>\n",
       "      <td>1250</td>\n",
       "      <td>32500</td>\n",
       "      <td>2</td>\n",
       "      <td>1.0</td>\n",
       "      <td>1.0</td>\n",
       "      <td>1.0</td>\n",
       "      <td>0.0</td>\n",
       "      <td>0.0</td>\n",
       "      <td>2</td>\n",
       "    </tr>\n",
       "  </tbody>\n",
       "</table>\n",
       "</div>"
      ],
      "text/plain": [
       "  balconies  bathroom  facing  floor  furnishingDesc  isMaintenance  locality  \\\n",
       "0         3         3     1.0      3               1              1       2.0   \n",
       "1         1         2     0.0      2               2              0       NaN   \n",
       "2         3         3     0.0      0               1              1       7.0   \n",
       "3         1         2     1.0      2               2              1       NaN   \n",
       "4         2         2     0.0      2               1              1       NaN   \n",
       "\n",
       "   parking  property_size  rent_amount  waterSupply  Lift   Ac  Security  \\\n",
       "0        0           2200        28000            2   1.0  0.0       1.0   \n",
       "1        1           1200        15000            0   0.0  0.0       0.0   \n",
       "2        0           1800        16000            2   1.0  0.0       1.0   \n",
       "3        0            750         9000            2   0.0  0.0       1.0   \n",
       "4        0           1250        32500            2   1.0  1.0       1.0   \n",
       "\n",
       "   Servent  Internet bedrooms  \n",
       "0      0.0       0.0        3  \n",
       "1      0.0       0.0        3  \n",
       "2      1.0       0.0        3  \n",
       "3      0.0       0.0        2  \n",
       "4      0.0       0.0        2  "
      ]
     },
     "execution_count": 527,
     "metadata": {},
     "output_type": "execute_result"
    }
   ],
   "source": [
    "df.head(5)"
   ]
  },
  {
   "cell_type": "code",
   "execution_count": 528,
   "id": "5632cd77",
   "metadata": {},
   "outputs": [
    {
     "data": {
      "text/plain": [
       "0        28000\n",
       "1        15000\n",
       "2        16000\n",
       "3         9000\n",
       "4        32500\n",
       "         ...  \n",
       "19105     8500\n",
       "19106     8500\n",
       "19107    15000\n",
       "19108     7000\n",
       "19109     5500\n",
       "Name: rent_amount, Length: 19110, dtype: int64"
      ]
     },
     "execution_count": 528,
     "metadata": {},
     "output_type": "execute_result"
    }
   ],
   "source": [
    "df['rent_amount']"
   ]
  },
  {
   "cell_type": "code",
   "execution_count": 529,
   "id": "f477ec26",
   "metadata": {},
   "outputs": [
    {
     "data": {
      "text/plain": [
       "balconies             0\n",
       "bathroom              0\n",
       "facing                0\n",
       "floor                 0\n",
       "furnishingDesc        0\n",
       "isMaintenance         0\n",
       "locality          12715\n",
       "parking               0\n",
       "property_size         0\n",
       "rent_amount           0\n",
       "waterSupply           0\n",
       "Lift                  0\n",
       "Ac                    0\n",
       "Security              0\n",
       "Servent               0\n",
       "Internet              0\n",
       "bedrooms              0\n",
       "dtype: int64"
      ]
     },
     "execution_count": 529,
     "metadata": {},
     "output_type": "execute_result"
    }
   ],
   "source": [
    "df.isna().sum()"
   ]
  },
  {
   "cell_type": "code",
   "execution_count": 530,
   "id": "3831bf25",
   "metadata": {},
   "outputs": [
    {
     "name": "stdout",
     "output_type": "stream",
     "text": [
      "<class 'pandas.core.frame.DataFrame'>\n",
      "RangeIndex: 19110 entries, 0 to 19109\n",
      "Data columns (total 17 columns):\n",
      " #   Column          Non-Null Count  Dtype  \n",
      "---  ------          --------------  -----  \n",
      " 0   balconies       19110 non-null  object \n",
      " 1   bathroom        19110 non-null  int64  \n",
      " 2   facing          19110 non-null  float64\n",
      " 3   floor           19110 non-null  int64  \n",
      " 4   furnishingDesc  19110 non-null  int64  \n",
      " 5   isMaintenance   19110 non-null  int64  \n",
      " 6   locality        6395 non-null   float64\n",
      " 7   parking         19110 non-null  int64  \n",
      " 8   property_size   19110 non-null  int64  \n",
      " 9   rent_amount     19110 non-null  int64  \n",
      " 10  waterSupply     19110 non-null  int64  \n",
      " 11  Lift            19110 non-null  float64\n",
      " 12  Ac              19110 non-null  float64\n",
      " 13  Security        19110 non-null  float64\n",
      " 14  Servent         19110 non-null  float64\n",
      " 15  Internet        19110 non-null  float64\n",
      " 16  bedrooms        19110 non-null  object \n",
      "dtypes: float64(7), int64(8), object(2)\n",
      "memory usage: 2.5+ MB\n"
     ]
    }
   ],
   "source": [
    "df.info()"
   ]
  },
  {
   "cell_type": "code",
   "execution_count": 531,
   "id": "ddcd51f9",
   "metadata": {},
   "outputs": [
    {
     "data": {
      "text/plain": [
       "balconies          object\n",
       "bathroom            int64\n",
       "facing            float64\n",
       "floor               int64\n",
       "furnishingDesc      int64\n",
       "isMaintenance       int64\n",
       "locality          float64\n",
       "parking             int64\n",
       "property_size       int64\n",
       "rent_amount         int64\n",
       "waterSupply         int64\n",
       "Lift              float64\n",
       "Ac                float64\n",
       "Security          float64\n",
       "Servent           float64\n",
       "Internet          float64\n",
       "bedrooms           object\n",
       "dtype: object"
      ]
     },
     "execution_count": 531,
     "metadata": {},
     "output_type": "execute_result"
    }
   ],
   "source": [
    "df.dtypes"
   ]
  },
  {
   "cell_type": "code",
   "execution_count": 532,
   "id": "a4b84926",
   "metadata": {},
   "outputs": [
    {
     "data": {
      "text/plain": [
       "None    9536\n",
       "1       4614\n",
       "2       3434\n",
       "0        773\n",
       "3        654\n",
       "4         83\n",
       "5         11\n",
       "110        2\n",
       "120        1\n",
       "12         1\n",
       "6          1\n",
       "Name: balconies, dtype: int64"
      ]
     },
     "execution_count": 532,
     "metadata": {},
     "output_type": "execute_result"
    }
   ],
   "source": [
    "df['balconies'].value_counts()"
   ]
  },
  {
   "cell_type": "code",
   "execution_count": null,
   "id": "babac289",
   "metadata": {},
   "outputs": [],
   "source": []
  },
  {
   "cell_type": "code",
   "execution_count": 533,
   "id": "dec97a58",
   "metadata": {},
   "outputs": [],
   "source": [
    "df['balconies']=df['balconies'].map({'None':1,'1':1,'2':2,'0':0,'4':4,'5':5,'110':110,'120':120,'12':12,'6':6})"
   ]
  },
  {
   "cell_type": "code",
   "execution_count": 534,
   "id": "12903f0c",
   "metadata": {},
   "outputs": [],
   "source": [
    "df['balconies']=pd.to_numeric(df['balconies'],downcast=\"integer\")"
   ]
  },
  {
   "cell_type": "code",
   "execution_count": null,
   "id": "07874df3",
   "metadata": {},
   "outputs": [],
   "source": []
  },
  {
   "cell_type": "code",
   "execution_count": null,
   "id": "45274cd9",
   "metadata": {},
   "outputs": [],
   "source": []
  },
  {
   "cell_type": "code",
   "execution_count": null,
   "id": "f261e7fa",
   "metadata": {},
   "outputs": [],
   "source": []
  },
  {
   "cell_type": "code",
   "execution_count": null,
   "id": "d3296754",
   "metadata": {},
   "outputs": [],
   "source": []
  },
  {
   "cell_type": "code",
   "execution_count": 535,
   "id": "fa6e24cf",
   "metadata": {},
   "outputs": [
    {
     "data": {
      "text/html": [
       "<div>\n",
       "<style scoped>\n",
       "    .dataframe tbody tr th:only-of-type {\n",
       "        vertical-align: middle;\n",
       "    }\n",
       "\n",
       "    .dataframe tbody tr th {\n",
       "        vertical-align: top;\n",
       "    }\n",
       "\n",
       "    .dataframe thead th {\n",
       "        text-align: right;\n",
       "    }\n",
       "</style>\n",
       "<table border=\"1\" class=\"dataframe\">\n",
       "  <thead>\n",
       "    <tr style=\"text-align: right;\">\n",
       "      <th></th>\n",
       "      <th>balconies</th>\n",
       "      <th>bathroom</th>\n",
       "      <th>facing</th>\n",
       "      <th>floor</th>\n",
       "      <th>furnishingDesc</th>\n",
       "      <th>isMaintenance</th>\n",
       "      <th>locality</th>\n",
       "      <th>parking</th>\n",
       "      <th>property_size</th>\n",
       "      <th>rent_amount</th>\n",
       "      <th>waterSupply</th>\n",
       "      <th>Lift</th>\n",
       "      <th>Ac</th>\n",
       "      <th>Security</th>\n",
       "      <th>Servent</th>\n",
       "      <th>Internet</th>\n",
       "      <th>bedrooms</th>\n",
       "    </tr>\n",
       "  </thead>\n",
       "  <tbody>\n",
       "    <tr>\n",
       "      <th>0</th>\n",
       "      <td>NaN</td>\n",
       "      <td>3</td>\n",
       "      <td>1.0</td>\n",
       "      <td>3</td>\n",
       "      <td>1</td>\n",
       "      <td>1</td>\n",
       "      <td>2.0</td>\n",
       "      <td>0</td>\n",
       "      <td>2200</td>\n",
       "      <td>28000</td>\n",
       "      <td>2</td>\n",
       "      <td>1.0</td>\n",
       "      <td>0.0</td>\n",
       "      <td>1.0</td>\n",
       "      <td>0.0</td>\n",
       "      <td>0.0</td>\n",
       "      <td>3</td>\n",
       "    </tr>\n",
       "    <tr>\n",
       "      <th>1</th>\n",
       "      <td>1.0</td>\n",
       "      <td>2</td>\n",
       "      <td>0.0</td>\n",
       "      <td>2</td>\n",
       "      <td>2</td>\n",
       "      <td>0</td>\n",
       "      <td>NaN</td>\n",
       "      <td>1</td>\n",
       "      <td>1200</td>\n",
       "      <td>15000</td>\n",
       "      <td>0</td>\n",
       "      <td>0.0</td>\n",
       "      <td>0.0</td>\n",
       "      <td>0.0</td>\n",
       "      <td>0.0</td>\n",
       "      <td>0.0</td>\n",
       "      <td>3</td>\n",
       "    </tr>\n",
       "    <tr>\n",
       "      <th>2</th>\n",
       "      <td>NaN</td>\n",
       "      <td>3</td>\n",
       "      <td>0.0</td>\n",
       "      <td>0</td>\n",
       "      <td>1</td>\n",
       "      <td>1</td>\n",
       "      <td>7.0</td>\n",
       "      <td>0</td>\n",
       "      <td>1800</td>\n",
       "      <td>16000</td>\n",
       "      <td>2</td>\n",
       "      <td>1.0</td>\n",
       "      <td>0.0</td>\n",
       "      <td>1.0</td>\n",
       "      <td>1.0</td>\n",
       "      <td>0.0</td>\n",
       "      <td>3</td>\n",
       "    </tr>\n",
       "    <tr>\n",
       "      <th>3</th>\n",
       "      <td>1.0</td>\n",
       "      <td>2</td>\n",
       "      <td>1.0</td>\n",
       "      <td>2</td>\n",
       "      <td>2</td>\n",
       "      <td>1</td>\n",
       "      <td>NaN</td>\n",
       "      <td>0</td>\n",
       "      <td>750</td>\n",
       "      <td>9000</td>\n",
       "      <td>2</td>\n",
       "      <td>0.0</td>\n",
       "      <td>0.0</td>\n",
       "      <td>1.0</td>\n",
       "      <td>0.0</td>\n",
       "      <td>0.0</td>\n",
       "      <td>2</td>\n",
       "    </tr>\n",
       "    <tr>\n",
       "      <th>4</th>\n",
       "      <td>2.0</td>\n",
       "      <td>2</td>\n",
       "      <td>0.0</td>\n",
       "      <td>2</td>\n",
       "      <td>1</td>\n",
       "      <td>1</td>\n",
       "      <td>NaN</td>\n",
       "      <td>0</td>\n",
       "      <td>1250</td>\n",
       "      <td>32500</td>\n",
       "      <td>2</td>\n",
       "      <td>1.0</td>\n",
       "      <td>1.0</td>\n",
       "      <td>1.0</td>\n",
       "      <td>0.0</td>\n",
       "      <td>0.0</td>\n",
       "      <td>2</td>\n",
       "    </tr>\n",
       "    <tr>\n",
       "      <th>...</th>\n",
       "      <td>...</td>\n",
       "      <td>...</td>\n",
       "      <td>...</td>\n",
       "      <td>...</td>\n",
       "      <td>...</td>\n",
       "      <td>...</td>\n",
       "      <td>...</td>\n",
       "      <td>...</td>\n",
       "      <td>...</td>\n",
       "      <td>...</td>\n",
       "      <td>...</td>\n",
       "      <td>...</td>\n",
       "      <td>...</td>\n",
       "      <td>...</td>\n",
       "      <td>...</td>\n",
       "      <td>...</td>\n",
       "      <td>...</td>\n",
       "    </tr>\n",
       "    <tr>\n",
       "      <th>19105</th>\n",
       "      <td>1.0</td>\n",
       "      <td>1</td>\n",
       "      <td>4.0</td>\n",
       "      <td>0</td>\n",
       "      <td>2</td>\n",
       "      <td>1</td>\n",
       "      <td>2.0</td>\n",
       "      <td>0</td>\n",
       "      <td>500</td>\n",
       "      <td>8500</td>\n",
       "      <td>3</td>\n",
       "      <td>1.0</td>\n",
       "      <td>0.0</td>\n",
       "      <td>1.0</td>\n",
       "      <td>0.0</td>\n",
       "      <td>0.0</td>\n",
       "      <td>1</td>\n",
       "    </tr>\n",
       "    <tr>\n",
       "      <th>19106</th>\n",
       "      <td>2.0</td>\n",
       "      <td>2</td>\n",
       "      <td>3.0</td>\n",
       "      <td>2</td>\n",
       "      <td>2</td>\n",
       "      <td>1</td>\n",
       "      <td>NaN</td>\n",
       "      <td>0</td>\n",
       "      <td>900</td>\n",
       "      <td>8500</td>\n",
       "      <td>0</td>\n",
       "      <td>0.0</td>\n",
       "      <td>0.0</td>\n",
       "      <td>0.0</td>\n",
       "      <td>0.0</td>\n",
       "      <td>0.0</td>\n",
       "      <td>2</td>\n",
       "    </tr>\n",
       "    <tr>\n",
       "      <th>19107</th>\n",
       "      <td>1.0</td>\n",
       "      <td>3</td>\n",
       "      <td>4.0</td>\n",
       "      <td>3</td>\n",
       "      <td>2</td>\n",
       "      <td>0</td>\n",
       "      <td>NaN</td>\n",
       "      <td>0</td>\n",
       "      <td>1150</td>\n",
       "      <td>15000</td>\n",
       "      <td>3</td>\n",
       "      <td>0.0</td>\n",
       "      <td>0.0</td>\n",
       "      <td>0.0</td>\n",
       "      <td>0.0</td>\n",
       "      <td>0.0</td>\n",
       "      <td>2</td>\n",
       "    </tr>\n",
       "    <tr>\n",
       "      <th>19108</th>\n",
       "      <td>1.0</td>\n",
       "      <td>1</td>\n",
       "      <td>4.0</td>\n",
       "      <td>3</td>\n",
       "      <td>2</td>\n",
       "      <td>0</td>\n",
       "      <td>0.0</td>\n",
       "      <td>1</td>\n",
       "      <td>500</td>\n",
       "      <td>7000</td>\n",
       "      <td>3</td>\n",
       "      <td>0.0</td>\n",
       "      <td>0.0</td>\n",
       "      <td>0.0</td>\n",
       "      <td>0.0</td>\n",
       "      <td>0.0</td>\n",
       "      <td>1</td>\n",
       "    </tr>\n",
       "    <tr>\n",
       "      <th>19109</th>\n",
       "      <td>1.0</td>\n",
       "      <td>1</td>\n",
       "      <td>4.0</td>\n",
       "      <td>1</td>\n",
       "      <td>2</td>\n",
       "      <td>0</td>\n",
       "      <td>NaN</td>\n",
       "      <td>1</td>\n",
       "      <td>400</td>\n",
       "      <td>5500</td>\n",
       "      <td>3</td>\n",
       "      <td>0.0</td>\n",
       "      <td>0.0</td>\n",
       "      <td>0.0</td>\n",
       "      <td>0.0</td>\n",
       "      <td>0.0</td>\n",
       "      <td>1</td>\n",
       "    </tr>\n",
       "  </tbody>\n",
       "</table>\n",
       "<p>19110 rows × 17 columns</p>\n",
       "</div>"
      ],
      "text/plain": [
       "       balconies  bathroom  facing  floor  furnishingDesc  isMaintenance  \\\n",
       "0            NaN         3     1.0      3               1              1   \n",
       "1            1.0         2     0.0      2               2              0   \n",
       "2            NaN         3     0.0      0               1              1   \n",
       "3            1.0         2     1.0      2               2              1   \n",
       "4            2.0         2     0.0      2               1              1   \n",
       "...          ...       ...     ...    ...             ...            ...   \n",
       "19105        1.0         1     4.0      0               2              1   \n",
       "19106        2.0         2     3.0      2               2              1   \n",
       "19107        1.0         3     4.0      3               2              0   \n",
       "19108        1.0         1     4.0      3               2              0   \n",
       "19109        1.0         1     4.0      1               2              0   \n",
       "\n",
       "       locality  parking  property_size  rent_amount  waterSupply  Lift   Ac  \\\n",
       "0           2.0        0           2200        28000            2   1.0  0.0   \n",
       "1           NaN        1           1200        15000            0   0.0  0.0   \n",
       "2           7.0        0           1800        16000            2   1.0  0.0   \n",
       "3           NaN        0            750         9000            2   0.0  0.0   \n",
       "4           NaN        0           1250        32500            2   1.0  1.0   \n",
       "...         ...      ...            ...          ...          ...   ...  ...   \n",
       "19105       2.0        0            500         8500            3   1.0  0.0   \n",
       "19106       NaN        0            900         8500            0   0.0  0.0   \n",
       "19107       NaN        0           1150        15000            3   0.0  0.0   \n",
       "19108       0.0        1            500         7000            3   0.0  0.0   \n",
       "19109       NaN        1            400         5500            3   0.0  0.0   \n",
       "\n",
       "       Security  Servent  Internet bedrooms  \n",
       "0           1.0      0.0       0.0        3  \n",
       "1           0.0      0.0       0.0        3  \n",
       "2           1.0      1.0       0.0        3  \n",
       "3           1.0      0.0       0.0        2  \n",
       "4           1.0      0.0       0.0        2  \n",
       "...         ...      ...       ...      ...  \n",
       "19105       1.0      0.0       0.0        1  \n",
       "19106       0.0      0.0       0.0        2  \n",
       "19107       0.0      0.0       0.0        2  \n",
       "19108       0.0      0.0       0.0        1  \n",
       "19109       0.0      0.0       0.0        1  \n",
       "\n",
       "[19110 rows x 17 columns]"
      ]
     },
     "execution_count": 535,
     "metadata": {},
     "output_type": "execute_result"
    }
   ],
   "source": [
    "df"
   ]
  },
  {
   "cell_type": "code",
   "execution_count": 536,
   "id": "aaef9904",
   "metadata": {},
   "outputs": [],
   "source": [
    "# top_10=[x for x in df.loc_long.value_counts().sort_values(ascending=False).head(10).index]\n",
    "# def one_hot_top_x(df,variable,top_x_labels):\n",
    "#     for label in top_10:\n",
    "#         df[variable+'_'+label]=np.where(df['loc_long']==label,1,0)\n",
    "# one_hot_top_x(df,'loc_long',top_10)\n",
    "\n",
    "# top_10=[x for x in df.loc_lati.value_counts().sort_values(ascending=False).head(10).index]\n",
    "# def one_hot_top_x(df,variable,top_x_labels):\n",
    "#     for label in top_10:\n",
    "#         df[variable+'_'+label]=np.where(df['loc_lati']==label,1,0)\n",
    "# one_hot_top_x(df,'loc_lati',top_10)"
   ]
  },
  {
   "cell_type": "code",
   "execution_count": 537,
   "id": "097a1682",
   "metadata": {},
   "outputs": [],
   "source": [
    "#df.drop(['location','loc_long','loc_lati'],axis=1,inplace=True)"
   ]
  },
  {
   "cell_type": "code",
   "execution_count": 538,
   "id": "ada7d498",
   "metadata": {},
   "outputs": [
    {
     "name": "stdout",
     "output_type": "stream",
     "text": [
      "<class 'pandas.core.frame.DataFrame'>\n",
      "RangeIndex: 19110 entries, 0 to 19109\n",
      "Data columns (total 17 columns):\n",
      " #   Column          Non-Null Count  Dtype  \n",
      "---  ------          --------------  -----  \n",
      " 0   balconies       18456 non-null  float64\n",
      " 1   bathroom        19110 non-null  int64  \n",
      " 2   facing          19110 non-null  float64\n",
      " 3   floor           19110 non-null  int64  \n",
      " 4   furnishingDesc  19110 non-null  int64  \n",
      " 5   isMaintenance   19110 non-null  int64  \n",
      " 6   locality        6395 non-null   float64\n",
      " 7   parking         19110 non-null  int64  \n",
      " 8   property_size   19110 non-null  int64  \n",
      " 9   rent_amount     19110 non-null  int64  \n",
      " 10  waterSupply     19110 non-null  int64  \n",
      " 11  Lift            19110 non-null  float64\n",
      " 12  Ac              19110 non-null  float64\n",
      " 13  Security        19110 non-null  float64\n",
      " 14  Servent         19110 non-null  float64\n",
      " 15  Internet        19110 non-null  float64\n",
      " 16  bedrooms        19110 non-null  object \n",
      "dtypes: float64(8), int64(8), object(1)\n",
      "memory usage: 2.5+ MB\n"
     ]
    }
   ],
   "source": [
    "df.info()"
   ]
  },
  {
   "cell_type": "code",
   "execution_count": 539,
   "id": "6b3d7970",
   "metadata": {},
   "outputs": [
    {
     "data": {
      "text/plain": [
       "0"
      ]
     },
     "execution_count": 539,
     "metadata": {},
     "output_type": "execute_result"
    }
   ],
   "source": [
    "df.bedrooms.isna().sum()"
   ]
  },
  {
   "cell_type": "code",
   "execution_count": 540,
   "id": "780c1b99",
   "metadata": {},
   "outputs": [
    {
     "data": {
      "text/plain": [
       "2        9242\n",
       "1        5370\n",
       "3        4229\n",
       "4         211\n",
       "4PLUS      58\n",
       "Name: bedrooms, dtype: int64"
      ]
     },
     "execution_count": 540,
     "metadata": {},
     "output_type": "execute_result"
    }
   ],
   "source": [
    "df.bedrooms.value_counts()"
   ]
  },
  {
   "cell_type": "code",
   "execution_count": 541,
   "id": "98d93e07",
   "metadata": {},
   "outputs": [],
   "source": [
    "df.bedrooms=df.bedrooms.map({'1':1,'2':2,'3':3,'4':4,'4PLUS':5})"
   ]
  },
  {
   "cell_type": "code",
   "execution_count": 542,
   "id": "dfbed2c6",
   "metadata": {},
   "outputs": [],
   "source": [
    "df.bedrooms=pd.to_numeric(df.bedrooms,downcast=\"integer\")"
   ]
  },
  {
   "cell_type": "code",
   "execution_count": 543,
   "id": "f36debaf",
   "metadata": {},
   "outputs": [
    {
     "name": "stdout",
     "output_type": "stream",
     "text": [
      "<class 'pandas.core.frame.DataFrame'>\n",
      "RangeIndex: 19110 entries, 0 to 19109\n",
      "Data columns (total 17 columns):\n",
      " #   Column          Non-Null Count  Dtype  \n",
      "---  ------          --------------  -----  \n",
      " 0   balconies       18456 non-null  float64\n",
      " 1   bathroom        19110 non-null  int64  \n",
      " 2   facing          19110 non-null  float64\n",
      " 3   floor           19110 non-null  int64  \n",
      " 4   furnishingDesc  19110 non-null  int64  \n",
      " 5   isMaintenance   19110 non-null  int64  \n",
      " 6   locality        6395 non-null   float64\n",
      " 7   parking         19110 non-null  int64  \n",
      " 8   property_size   19110 non-null  int64  \n",
      " 9   rent_amount     19110 non-null  int64  \n",
      " 10  waterSupply     19110 non-null  int64  \n",
      " 11  Lift            19110 non-null  float64\n",
      " 12  Ac              19110 non-null  float64\n",
      " 13  Security        19110 non-null  float64\n",
      " 14  Servent         19110 non-null  float64\n",
      " 15  Internet        19110 non-null  float64\n",
      " 16  bedrooms        19110 non-null  int8   \n",
      "dtypes: float64(8), int64(8), int8(1)\n",
      "memory usage: 2.4 MB\n"
     ]
    }
   ],
   "source": [
    "df.info()"
   ]
  },
  {
   "cell_type": "code",
   "execution_count": 544,
   "id": "9319bb35",
   "metadata": {},
   "outputs": [
    {
     "data": {
      "text/plain": [
       "balconies           654\n",
       "bathroom              0\n",
       "facing                0\n",
       "floor                 0\n",
       "furnishingDesc        0\n",
       "isMaintenance         0\n",
       "locality          12715\n",
       "parking               0\n",
       "property_size         0\n",
       "rent_amount           0\n",
       "waterSupply           0\n",
       "Lift                  0\n",
       "Ac                    0\n",
       "Security              0\n",
       "Servent               0\n",
       "Internet              0\n",
       "bedrooms              0\n",
       "dtype: int64"
      ]
     },
     "execution_count": 544,
     "metadata": {},
     "output_type": "execute_result"
    }
   ],
   "source": [
    "df.isnull().sum()"
   ]
  },
  {
   "cell_type": "code",
   "execution_count": 545,
   "id": "6391b2b5",
   "metadata": {},
   "outputs": [],
   "source": [
    "df.balconies=df.balconies.fillna(df.balconies.value_counts().index[0])"
   ]
  },
  {
   "cell_type": "code",
   "execution_count": 546,
   "id": "c0800997",
   "metadata": {},
   "outputs": [],
   "source": [
    "df['locality']=df['locality'].fillna(df.locality.value_counts().index[0])\n",
    "# df['locality']=np.round_(df.locality)"
   ]
  },
  {
   "cell_type": "code",
   "execution_count": 547,
   "id": "75fccf00",
   "metadata": {},
   "outputs": [
    {
     "data": {
      "text/html": [
       "<div>\n",
       "<style scoped>\n",
       "    .dataframe tbody tr th:only-of-type {\n",
       "        vertical-align: middle;\n",
       "    }\n",
       "\n",
       "    .dataframe tbody tr th {\n",
       "        vertical-align: top;\n",
       "    }\n",
       "\n",
       "    .dataframe thead th {\n",
       "        text-align: right;\n",
       "    }\n",
       "</style>\n",
       "<table border=\"1\" class=\"dataframe\">\n",
       "  <thead>\n",
       "    <tr style=\"text-align: right;\">\n",
       "      <th></th>\n",
       "      <th>balconies</th>\n",
       "      <th>bathroom</th>\n",
       "      <th>facing</th>\n",
       "      <th>floor</th>\n",
       "      <th>furnishingDesc</th>\n",
       "      <th>isMaintenance</th>\n",
       "      <th>locality</th>\n",
       "      <th>parking</th>\n",
       "      <th>property_size</th>\n",
       "      <th>rent_amount</th>\n",
       "      <th>waterSupply</th>\n",
       "      <th>Lift</th>\n",
       "      <th>Ac</th>\n",
       "      <th>Security</th>\n",
       "      <th>Servent</th>\n",
       "      <th>Internet</th>\n",
       "      <th>bedrooms</th>\n",
       "    </tr>\n",
       "  </thead>\n",
       "  <tbody>\n",
       "    <tr>\n",
       "      <th>0</th>\n",
       "      <td>1.0</td>\n",
       "      <td>3</td>\n",
       "      <td>1.0</td>\n",
       "      <td>3</td>\n",
       "      <td>1</td>\n",
       "      <td>1</td>\n",
       "      <td>2.0</td>\n",
       "      <td>0</td>\n",
       "      <td>2200</td>\n",
       "      <td>28000</td>\n",
       "      <td>2</td>\n",
       "      <td>1.0</td>\n",
       "      <td>0.0</td>\n",
       "      <td>1.0</td>\n",
       "      <td>0.0</td>\n",
       "      <td>0.0</td>\n",
       "      <td>3</td>\n",
       "    </tr>\n",
       "    <tr>\n",
       "      <th>1</th>\n",
       "      <td>1.0</td>\n",
       "      <td>2</td>\n",
       "      <td>0.0</td>\n",
       "      <td>2</td>\n",
       "      <td>2</td>\n",
       "      <td>0</td>\n",
       "      <td>0.0</td>\n",
       "      <td>1</td>\n",
       "      <td>1200</td>\n",
       "      <td>15000</td>\n",
       "      <td>0</td>\n",
       "      <td>0.0</td>\n",
       "      <td>0.0</td>\n",
       "      <td>0.0</td>\n",
       "      <td>0.0</td>\n",
       "      <td>0.0</td>\n",
       "      <td>3</td>\n",
       "    </tr>\n",
       "    <tr>\n",
       "      <th>2</th>\n",
       "      <td>1.0</td>\n",
       "      <td>3</td>\n",
       "      <td>0.0</td>\n",
       "      <td>0</td>\n",
       "      <td>1</td>\n",
       "      <td>1</td>\n",
       "      <td>7.0</td>\n",
       "      <td>0</td>\n",
       "      <td>1800</td>\n",
       "      <td>16000</td>\n",
       "      <td>2</td>\n",
       "      <td>1.0</td>\n",
       "      <td>0.0</td>\n",
       "      <td>1.0</td>\n",
       "      <td>1.0</td>\n",
       "      <td>0.0</td>\n",
       "      <td>3</td>\n",
       "    </tr>\n",
       "    <tr>\n",
       "      <th>3</th>\n",
       "      <td>1.0</td>\n",
       "      <td>2</td>\n",
       "      <td>1.0</td>\n",
       "      <td>2</td>\n",
       "      <td>2</td>\n",
       "      <td>1</td>\n",
       "      <td>0.0</td>\n",
       "      <td>0</td>\n",
       "      <td>750</td>\n",
       "      <td>9000</td>\n",
       "      <td>2</td>\n",
       "      <td>0.0</td>\n",
       "      <td>0.0</td>\n",
       "      <td>1.0</td>\n",
       "      <td>0.0</td>\n",
       "      <td>0.0</td>\n",
       "      <td>2</td>\n",
       "    </tr>\n",
       "    <tr>\n",
       "      <th>4</th>\n",
       "      <td>2.0</td>\n",
       "      <td>2</td>\n",
       "      <td>0.0</td>\n",
       "      <td>2</td>\n",
       "      <td>1</td>\n",
       "      <td>1</td>\n",
       "      <td>0.0</td>\n",
       "      <td>0</td>\n",
       "      <td>1250</td>\n",
       "      <td>32500</td>\n",
       "      <td>2</td>\n",
       "      <td>1.0</td>\n",
       "      <td>1.0</td>\n",
       "      <td>1.0</td>\n",
       "      <td>0.0</td>\n",
       "      <td>0.0</td>\n",
       "      <td>2</td>\n",
       "    </tr>\n",
       "  </tbody>\n",
       "</table>\n",
       "</div>"
      ],
      "text/plain": [
       "   balconies  bathroom  facing  floor  furnishingDesc  isMaintenance  \\\n",
       "0        1.0         3     1.0      3               1              1   \n",
       "1        1.0         2     0.0      2               2              0   \n",
       "2        1.0         3     0.0      0               1              1   \n",
       "3        1.0         2     1.0      2               2              1   \n",
       "4        2.0         2     0.0      2               1              1   \n",
       "\n",
       "   locality  parking  property_size  rent_amount  waterSupply  Lift   Ac  \\\n",
       "0       2.0        0           2200        28000            2   1.0  0.0   \n",
       "1       0.0        1           1200        15000            0   0.0  0.0   \n",
       "2       7.0        0           1800        16000            2   1.0  0.0   \n",
       "3       0.0        0            750         9000            2   0.0  0.0   \n",
       "4       0.0        0           1250        32500            2   1.0  1.0   \n",
       "\n",
       "   Security  Servent  Internet  bedrooms  \n",
       "0       1.0      0.0       0.0         3  \n",
       "1       0.0      0.0       0.0         3  \n",
       "2       1.0      1.0       0.0         3  \n",
       "3       1.0      0.0       0.0         2  \n",
       "4       1.0      0.0       0.0         2  "
      ]
     },
     "execution_count": 547,
     "metadata": {},
     "output_type": "execute_result"
    }
   ],
   "source": [
    "df.head()"
   ]
  },
  {
   "cell_type": "code",
   "execution_count": 548,
   "id": "c11bec2a",
   "metadata": {},
   "outputs": [],
   "source": [
    "import matplotlib.pyplot as plt\n",
    "import seaborn as sns\n",
    "%matplotlib inline"
   ]
  },
  {
   "cell_type": "code",
   "execution_count": 549,
   "id": "301518d8",
   "metadata": {},
   "outputs": [
    {
     "data": {
      "text/plain": [
       "Index(['balconies', 'bathroom', 'facing', 'floor', 'furnishingDesc',\n",
       "       'isMaintenance', 'locality', 'parking', 'property_size', 'rent_amount',\n",
       "       'waterSupply', 'Lift', 'Ac', 'Security', 'Servent', 'Internet',\n",
       "       'bedrooms'],\n",
       "      dtype='object')"
      ]
     },
     "execution_count": 549,
     "metadata": {},
     "output_type": "execute_result"
    }
   ],
   "source": [
    "df.columns"
   ]
  },
  {
   "cell_type": "markdown",
   "id": "9441abb2",
   "metadata": {},
   "source": [
    "## Transformation"
   ]
  },
  {
   "cell_type": "code",
   "execution_count": 550,
   "id": "a8c94a63",
   "metadata": {},
   "outputs": [],
   "source": [
    "# df.balconies=1/(df['balconies'])\n",
    "# df.balconies=np.round_(df.balconies,decimals=3)"
   ]
  },
  {
   "cell_type": "code",
   "execution_count": 551,
   "id": "022e257b",
   "metadata": {},
   "outputs": [],
   "source": [
    "# df.balconies=df.balconies**(1/2)\n",
    "# df.balconies=np.round_(df.balconies,decimals=3)"
   ]
  },
  {
   "cell_type": "code",
   "execution_count": 552,
   "id": "d10038d5",
   "metadata": {},
   "outputs": [],
   "source": [
    "# df.balconies=df.balconies**(1/1.2)\n",
    "# df.balconies=np.round_(df.balconies,decimals=3)"
   ]
  },
  {
   "cell_type": "code",
   "execution_count": 553,
   "id": "370654a7",
   "metadata": {},
   "outputs": [],
   "source": [
    "# df.balconies,parameters=stat.boxcox(df.balconies)\n",
    "# df.balconies=np.round_(df.balconies,decimals=3)"
   ]
  },
  {
   "cell_type": "code",
   "execution_count": 554,
   "id": "7ef9eb76",
   "metadata": {},
   "outputs": [
    {
     "data": {
      "text/plain": [
       "0        2.0\n",
       "1        0.0\n",
       "2        7.0\n",
       "3        0.0\n",
       "4        0.0\n",
       "        ... \n",
       "19105    2.0\n",
       "19106    0.0\n",
       "19107    0.0\n",
       "19108    0.0\n",
       "19109    0.0\n",
       "Name: locality, Length: 19110, dtype: float64"
      ]
     },
     "execution_count": 554,
     "metadata": {},
     "output_type": "execute_result"
    }
   ],
   "source": [
    "df['locality']"
   ]
  },
  {
   "cell_type": "code",
   "execution_count": null,
   "id": "741a69f9",
   "metadata": {},
   "outputs": [],
   "source": []
  },
  {
   "cell_type": "code",
   "execution_count": 555,
   "id": "b3d5fb51",
   "metadata": {},
   "outputs": [],
   "source": [
    "# from sklearn.preprocessing import RobustScaler\n",
    "# scaler3=RobustScaler()\n",
    "# df['Scaled_Balconies']=scaler3.fit_transform(df[['balconies']])"
   ]
  },
  {
   "cell_type": "code",
   "execution_count": 556,
   "id": "3655063d",
   "metadata": {},
   "outputs": [],
   "source": [
    "# df.drop('balconies',axis=1,inplace=True)"
   ]
  },
  {
   "cell_type": "code",
   "execution_count": null,
   "id": "4c72442d",
   "metadata": {},
   "outputs": [],
   "source": []
  },
  {
   "cell_type": "code",
   "execution_count": 557,
   "id": "44cd57b3",
   "metadata": {},
   "outputs": [],
   "source": [
    "import scipy.stats as stat\n",
    "import pylab\n",
    "def plot_data(df,feature):\n",
    "    plt.figure(figsize=(10,6))\n",
    "    plt.subplot(1,2,1)\n",
    "    df[feature].hist()\n",
    "    plt.subplot(1,2,2)\n",
    "    stat.probplot(df[feature],dist='norm',plot=pylab)\n",
    "    plt.show()\n"
   ]
  },
  {
   "cell_type": "code",
   "execution_count": 558,
   "id": "ef3337ec",
   "metadata": {},
   "outputs": [
    {
     "data": {
      "image/png": "[encoded data removed]",
      "text/plain": [
       "<Figure size 1000x600 with 2 Axes>"
      ]
     },
     "metadata": {},
     "output_type": "display_data"
    }
   ],
   "source": [
    "plot_data(df,'bathroom')"
   ]
  },
  {
   "cell_type": "code",
   "execution_count": 559,
   "id": "784db36d",
   "metadata": {},
   "outputs": [],
   "source": [
    "\n",
    "# df['Scaled_Balconies']"
   ]
  },
  {
   "cell_type": "code",
   "execution_count": null,
   "id": "4575b2d4",
   "metadata": {},
   "outputs": [],
   "source": []
  },
  {
   "cell_type": "code",
   "execution_count": null,
   "id": "51de59ad",
   "metadata": {},
   "outputs": [],
   "source": []
  },
  {
   "cell_type": "code",
   "execution_count": null,
   "id": "52fa3407",
   "metadata": {},
   "outputs": [],
   "source": []
  },
  {
   "cell_type": "code",
   "execution_count": 560,
   "id": "2a84449c",
   "metadata": {},
   "outputs": [],
   "source": [
    "#df['Scaled_Balconies']"
   ]
  },
  {
   "cell_type": "code",
   "execution_count": 561,
   "id": "b3918fb8",
   "metadata": {},
   "outputs": [
    {
     "data": {
      "text/html": [
       "<div>\n",
       "<style scoped>\n",
       "    .dataframe tbody tr th:only-of-type {\n",
       "        vertical-align: middle;\n",
       "    }\n",
       "\n",
       "    .dataframe tbody tr th {\n",
       "        vertical-align: top;\n",
       "    }\n",
       "\n",
       "    .dataframe thead th {\n",
       "        text-align: right;\n",
       "    }\n",
       "</style>\n",
       "<table border=\"1\" class=\"dataframe\">\n",
       "  <thead>\n",
       "    <tr style=\"text-align: right;\">\n",
       "      <th></th>\n",
       "      <th>balconies</th>\n",
       "      <th>bathroom</th>\n",
       "      <th>facing</th>\n",
       "      <th>floor</th>\n",
       "      <th>furnishingDesc</th>\n",
       "      <th>isMaintenance</th>\n",
       "      <th>locality</th>\n",
       "      <th>parking</th>\n",
       "      <th>property_size</th>\n",
       "      <th>rent_amount</th>\n",
       "      <th>waterSupply</th>\n",
       "      <th>Lift</th>\n",
       "      <th>Ac</th>\n",
       "      <th>Security</th>\n",
       "      <th>Servent</th>\n",
       "      <th>Internet</th>\n",
       "      <th>bedrooms</th>\n",
       "    </tr>\n",
       "  </thead>\n",
       "  <tbody>\n",
       "    <tr>\n",
       "      <th>0</th>\n",
       "      <td>1.0</td>\n",
       "      <td>3</td>\n",
       "      <td>1.0</td>\n",
       "      <td>3</td>\n",
       "      <td>1</td>\n",
       "      <td>1</td>\n",
       "      <td>2.0</td>\n",
       "      <td>0</td>\n",
       "      <td>2200</td>\n",
       "      <td>28000</td>\n",
       "      <td>2</td>\n",
       "      <td>1.0</td>\n",
       "      <td>0.0</td>\n",
       "      <td>1.0</td>\n",
       "      <td>0.0</td>\n",
       "      <td>0.0</td>\n",
       "      <td>3</td>\n",
       "    </tr>\n",
       "    <tr>\n",
       "      <th>1</th>\n",
       "      <td>1.0</td>\n",
       "      <td>2</td>\n",
       "      <td>0.0</td>\n",
       "      <td>2</td>\n",
       "      <td>2</td>\n",
       "      <td>0</td>\n",
       "      <td>0.0</td>\n",
       "      <td>1</td>\n",
       "      <td>1200</td>\n",
       "      <td>15000</td>\n",
       "      <td>0</td>\n",
       "      <td>0.0</td>\n",
       "      <td>0.0</td>\n",
       "      <td>0.0</td>\n",
       "      <td>0.0</td>\n",
       "      <td>0.0</td>\n",
       "      <td>3</td>\n",
       "    </tr>\n",
       "    <tr>\n",
       "      <th>2</th>\n",
       "      <td>1.0</td>\n",
       "      <td>3</td>\n",
       "      <td>0.0</td>\n",
       "      <td>0</td>\n",
       "      <td>1</td>\n",
       "      <td>1</td>\n",
       "      <td>7.0</td>\n",
       "      <td>0</td>\n",
       "      <td>1800</td>\n",
       "      <td>16000</td>\n",
       "      <td>2</td>\n",
       "      <td>1.0</td>\n",
       "      <td>0.0</td>\n",
       "      <td>1.0</td>\n",
       "      <td>1.0</td>\n",
       "      <td>0.0</td>\n",
       "      <td>3</td>\n",
       "    </tr>\n",
       "    <tr>\n",
       "      <th>3</th>\n",
       "      <td>1.0</td>\n",
       "      <td>2</td>\n",
       "      <td>1.0</td>\n",
       "      <td>2</td>\n",
       "      <td>2</td>\n",
       "      <td>1</td>\n",
       "      <td>0.0</td>\n",
       "      <td>0</td>\n",
       "      <td>750</td>\n",
       "      <td>9000</td>\n",
       "      <td>2</td>\n",
       "      <td>0.0</td>\n",
       "      <td>0.0</td>\n",
       "      <td>1.0</td>\n",
       "      <td>0.0</td>\n",
       "      <td>0.0</td>\n",
       "      <td>2</td>\n",
       "    </tr>\n",
       "    <tr>\n",
       "      <th>4</th>\n",
       "      <td>2.0</td>\n",
       "      <td>2</td>\n",
       "      <td>0.0</td>\n",
       "      <td>2</td>\n",
       "      <td>1</td>\n",
       "      <td>1</td>\n",
       "      <td>0.0</td>\n",
       "      <td>0</td>\n",
       "      <td>1250</td>\n",
       "      <td>32500</td>\n",
       "      <td>2</td>\n",
       "      <td>1.0</td>\n",
       "      <td>1.0</td>\n",
       "      <td>1.0</td>\n",
       "      <td>0.0</td>\n",
       "      <td>0.0</td>\n",
       "      <td>2</td>\n",
       "    </tr>\n",
       "  </tbody>\n",
       "</table>\n",
       "</div>"
      ],
      "text/plain": [
       "   balconies  bathroom  facing  floor  furnishingDesc  isMaintenance  \\\n",
       "0        1.0         3     1.0      3               1              1   \n",
       "1        1.0         2     0.0      2               2              0   \n",
       "2        1.0         3     0.0      0               1              1   \n",
       "3        1.0         2     1.0      2               2              1   \n",
       "4        2.0         2     0.0      2               1              1   \n",
       "\n",
       "   locality  parking  property_size  rent_amount  waterSupply  Lift   Ac  \\\n",
       "0       2.0        0           2200        28000            2   1.0  0.0   \n",
       "1       0.0        1           1200        15000            0   0.0  0.0   \n",
       "2       7.0        0           1800        16000            2   1.0  0.0   \n",
       "3       0.0        0            750         9000            2   0.0  0.0   \n",
       "4       0.0        0           1250        32500            2   1.0  1.0   \n",
       "\n",
       "   Security  Servent  Internet  bedrooms  \n",
       "0       1.0      0.0       0.0         3  \n",
       "1       0.0      0.0       0.0         3  \n",
       "2       1.0      1.0       0.0         3  \n",
       "3       1.0      0.0       0.0         2  \n",
       "4       1.0      0.0       0.0         2  "
      ]
     },
     "execution_count": 561,
     "metadata": {},
     "output_type": "execute_result"
    }
   ],
   "source": [
    "df.head()"
   ]
  },
  {
   "cell_type": "code",
   "execution_count": 562,
   "id": "f1fa4621",
   "metadata": {},
   "outputs": [],
   "source": [
    "#np.bathroom=np.log(df.bathroom)"
   ]
  },
  {
   "cell_type": "code",
   "execution_count": 563,
   "id": "fff5b108",
   "metadata": {},
   "outputs": [],
   "source": [
    "# plot_data(df,'bathroom')"
   ]
  },
  {
   "cell_type": "code",
   "execution_count": 564,
   "id": "f6f7d0fc",
   "metadata": {},
   "outputs": [],
   "source": [
    "# df.bathroom=df.bathroom**(1/2)"
   ]
  },
  {
   "cell_type": "code",
   "execution_count": 565,
   "id": "1f46128d",
   "metadata": {},
   "outputs": [],
   "source": [
    "# plot_data(df,'bathroom')"
   ]
  },
  {
   "cell_type": "code",
   "execution_count": 566,
   "id": "daba3092",
   "metadata": {},
   "outputs": [],
   "source": [
    "# np.bathroom=df.bathroom**(1/2)\n",
    "# plot_data(df,'bathroom')"
   ]
  },
  {
   "cell_type": "code",
   "execution_count": 567,
   "id": "dca781a8",
   "metadata": {},
   "outputs": [],
   "source": [
    "# np.bathroom=df.bathroom**(1/1.2)\n",
    "# plot_data(df,'bathroom')"
   ]
  },
  {
   "cell_type": "code",
   "execution_count": 568,
   "id": "958f8d78",
   "metadata": {},
   "outputs": [],
   "source": [
    "# np.bathroom,parameters=stat.boxcox(df.bathroom)\n",
    "# plot_data(df,'bathroom')"
   ]
  },
  {
   "cell_type": "markdown",
   "id": "559b57a2",
   "metadata": {},
   "source": []
  },
  {
   "cell_type": "code",
   "execution_count": 569,
   "id": "2ef0b5d6",
   "metadata": {},
   "outputs": [],
   "source": [
    "# df['Scaled_Bathroom']=scaler3.fit_transform(df[['bathroom']])\n",
    "# df.drop('bathroom',axis=1,inplace=True)"
   ]
  },
  {
   "cell_type": "code",
   "execution_count": 570,
   "id": "c39f0c0f",
   "metadata": {
    "scrolled": true
   },
   "outputs": [],
   "source": [
    "# df.facing=np.round_(df.facing,decimals=3)\n",
    "# plot_data(df,'facing')"
   ]
  },
  {
   "cell_type": "code",
   "execution_count": 571,
   "id": "b1d52aae",
   "metadata": {},
   "outputs": [],
   "source": [
    "# np.facing=np.log(df.facing)\n",
    "# plot_data(df,'facing')"
   ]
  },
  {
   "cell_type": "code",
   "execution_count": 572,
   "id": "a14ec7e2",
   "metadata": {
    "scrolled": false
   },
   "outputs": [],
   "source": [
    "# df.facing=1/df.facing\n",
    "# df.facing=np.round_(df.facing,decimals=3)\n",
    "# plot_data(df,'facing')"
   ]
  },
  {
   "cell_type": "code",
   "execution_count": null,
   "id": "6fd5af4d",
   "metadata": {},
   "outputs": [],
   "source": []
  },
  {
   "cell_type": "code",
   "execution_count": 573,
   "id": "35061707",
   "metadata": {},
   "outputs": [],
   "source": [
    "# np.facing=df.facing**(1/2)\n",
    "# plot_data(df,'facing')"
   ]
  },
  {
   "cell_type": "code",
   "execution_count": 574,
   "id": "012fc26c",
   "metadata": {},
   "outputs": [],
   "source": [
    "# np.facing=df.facing**(1/1.2)\n",
    "# plot_data(df,'facing')"
   ]
  },
  {
   "cell_type": "code",
   "execution_count": 575,
   "id": "4ebbc3bd",
   "metadata": {},
   "outputs": [],
   "source": [
    "# df.facing,parameters=stat.boxcox(df.facing)\n",
    "# plot_data(df,'facing')"
   ]
  },
  {
   "cell_type": "code",
   "execution_count": 576,
   "id": "4ca44344",
   "metadata": {},
   "outputs": [],
   "source": [
    "# from sklearn.preprocessing import MinMaxScaler\n",
    "# scaler2=MinMaxScaler()\n",
    "# df['Scaled_Facing']=scaler2.fit_transform(df[['facing']])\n",
    "# df.drop('facing',axis=1,inplace=True)"
   ]
  },
  {
   "cell_type": "code",
   "execution_count": 577,
   "id": "f57382ca",
   "metadata": {},
   "outputs": [
    {
     "data": {
      "text/html": [
       "<div>\n",
       "<style scoped>\n",
       "    .dataframe tbody tr th:only-of-type {\n",
       "        vertical-align: middle;\n",
       "    }\n",
       "\n",
       "    .dataframe tbody tr th {\n",
       "        vertical-align: top;\n",
       "    }\n",
       "\n",
       "    .dataframe thead th {\n",
       "        text-align: right;\n",
       "    }\n",
       "</style>\n",
       "<table border=\"1\" class=\"dataframe\">\n",
       "  <thead>\n",
       "    <tr style=\"text-align: right;\">\n",
       "      <th></th>\n",
       "      <th>balconies</th>\n",
       "      <th>bathroom</th>\n",
       "      <th>facing</th>\n",
       "      <th>floor</th>\n",
       "      <th>furnishingDesc</th>\n",
       "      <th>isMaintenance</th>\n",
       "      <th>locality</th>\n",
       "      <th>parking</th>\n",
       "      <th>property_size</th>\n",
       "      <th>rent_amount</th>\n",
       "      <th>waterSupply</th>\n",
       "      <th>Lift</th>\n",
       "      <th>Ac</th>\n",
       "      <th>Security</th>\n",
       "      <th>Servent</th>\n",
       "      <th>Internet</th>\n",
       "      <th>bedrooms</th>\n",
       "    </tr>\n",
       "  </thead>\n",
       "  <tbody>\n",
       "    <tr>\n",
       "      <th>0</th>\n",
       "      <td>1.0</td>\n",
       "      <td>3</td>\n",
       "      <td>1.0</td>\n",
       "      <td>3</td>\n",
       "      <td>1</td>\n",
       "      <td>1</td>\n",
       "      <td>2.0</td>\n",
       "      <td>0</td>\n",
       "      <td>2200</td>\n",
       "      <td>28000</td>\n",
       "      <td>2</td>\n",
       "      <td>1.0</td>\n",
       "      <td>0.0</td>\n",
       "      <td>1.0</td>\n",
       "      <td>0.0</td>\n",
       "      <td>0.0</td>\n",
       "      <td>3</td>\n",
       "    </tr>\n",
       "    <tr>\n",
       "      <th>1</th>\n",
       "      <td>1.0</td>\n",
       "      <td>2</td>\n",
       "      <td>0.0</td>\n",
       "      <td>2</td>\n",
       "      <td>2</td>\n",
       "      <td>0</td>\n",
       "      <td>0.0</td>\n",
       "      <td>1</td>\n",
       "      <td>1200</td>\n",
       "      <td>15000</td>\n",
       "      <td>0</td>\n",
       "      <td>0.0</td>\n",
       "      <td>0.0</td>\n",
       "      <td>0.0</td>\n",
       "      <td>0.0</td>\n",
       "      <td>0.0</td>\n",
       "      <td>3</td>\n",
       "    </tr>\n",
       "    <tr>\n",
       "      <th>2</th>\n",
       "      <td>1.0</td>\n",
       "      <td>3</td>\n",
       "      <td>0.0</td>\n",
       "      <td>0</td>\n",
       "      <td>1</td>\n",
       "      <td>1</td>\n",
       "      <td>7.0</td>\n",
       "      <td>0</td>\n",
       "      <td>1800</td>\n",
       "      <td>16000</td>\n",
       "      <td>2</td>\n",
       "      <td>1.0</td>\n",
       "      <td>0.0</td>\n",
       "      <td>1.0</td>\n",
       "      <td>1.0</td>\n",
       "      <td>0.0</td>\n",
       "      <td>3</td>\n",
       "    </tr>\n",
       "    <tr>\n",
       "      <th>3</th>\n",
       "      <td>1.0</td>\n",
       "      <td>2</td>\n",
       "      <td>1.0</td>\n",
       "      <td>2</td>\n",
       "      <td>2</td>\n",
       "      <td>1</td>\n",
       "      <td>0.0</td>\n",
       "      <td>0</td>\n",
       "      <td>750</td>\n",
       "      <td>9000</td>\n",
       "      <td>2</td>\n",
       "      <td>0.0</td>\n",
       "      <td>0.0</td>\n",
       "      <td>1.0</td>\n",
       "      <td>0.0</td>\n",
       "      <td>0.0</td>\n",
       "      <td>2</td>\n",
       "    </tr>\n",
       "    <tr>\n",
       "      <th>4</th>\n",
       "      <td>2.0</td>\n",
       "      <td>2</td>\n",
       "      <td>0.0</td>\n",
       "      <td>2</td>\n",
       "      <td>1</td>\n",
       "      <td>1</td>\n",
       "      <td>0.0</td>\n",
       "      <td>0</td>\n",
       "      <td>1250</td>\n",
       "      <td>32500</td>\n",
       "      <td>2</td>\n",
       "      <td>1.0</td>\n",
       "      <td>1.0</td>\n",
       "      <td>1.0</td>\n",
       "      <td>0.0</td>\n",
       "      <td>0.0</td>\n",
       "      <td>2</td>\n",
       "    </tr>\n",
       "    <tr>\n",
       "      <th>...</th>\n",
       "      <td>...</td>\n",
       "      <td>...</td>\n",
       "      <td>...</td>\n",
       "      <td>...</td>\n",
       "      <td>...</td>\n",
       "      <td>...</td>\n",
       "      <td>...</td>\n",
       "      <td>...</td>\n",
       "      <td>...</td>\n",
       "      <td>...</td>\n",
       "      <td>...</td>\n",
       "      <td>...</td>\n",
       "      <td>...</td>\n",
       "      <td>...</td>\n",
       "      <td>...</td>\n",
       "      <td>...</td>\n",
       "      <td>...</td>\n",
       "    </tr>\n",
       "    <tr>\n",
       "      <th>19105</th>\n",
       "      <td>1.0</td>\n",
       "      <td>1</td>\n",
       "      <td>4.0</td>\n",
       "      <td>0</td>\n",
       "      <td>2</td>\n",
       "      <td>1</td>\n",
       "      <td>2.0</td>\n",
       "      <td>0</td>\n",
       "      <td>500</td>\n",
       "      <td>8500</td>\n",
       "      <td>3</td>\n",
       "      <td>1.0</td>\n",
       "      <td>0.0</td>\n",
       "      <td>1.0</td>\n",
       "      <td>0.0</td>\n",
       "      <td>0.0</td>\n",
       "      <td>1</td>\n",
       "    </tr>\n",
       "    <tr>\n",
       "      <th>19106</th>\n",
       "      <td>2.0</td>\n",
       "      <td>2</td>\n",
       "      <td>3.0</td>\n",
       "      <td>2</td>\n",
       "      <td>2</td>\n",
       "      <td>1</td>\n",
       "      <td>0.0</td>\n",
       "      <td>0</td>\n",
       "      <td>900</td>\n",
       "      <td>8500</td>\n",
       "      <td>0</td>\n",
       "      <td>0.0</td>\n",
       "      <td>0.0</td>\n",
       "      <td>0.0</td>\n",
       "      <td>0.0</td>\n",
       "      <td>0.0</td>\n",
       "      <td>2</td>\n",
       "    </tr>\n",
       "    <tr>\n",
       "      <th>19107</th>\n",
       "      <td>1.0</td>\n",
       "      <td>3</td>\n",
       "      <td>4.0</td>\n",
       "      <td>3</td>\n",
       "      <td>2</td>\n",
       "      <td>0</td>\n",
       "      <td>0.0</td>\n",
       "      <td>0</td>\n",
       "      <td>1150</td>\n",
       "      <td>15000</td>\n",
       "      <td>3</td>\n",
       "      <td>0.0</td>\n",
       "      <td>0.0</td>\n",
       "      <td>0.0</td>\n",
       "      <td>0.0</td>\n",
       "      <td>0.0</td>\n",
       "      <td>2</td>\n",
       "    </tr>\n",
       "    <tr>\n",
       "      <th>19108</th>\n",
       "      <td>1.0</td>\n",
       "      <td>1</td>\n",
       "      <td>4.0</td>\n",
       "      <td>3</td>\n",
       "      <td>2</td>\n",
       "      <td>0</td>\n",
       "      <td>0.0</td>\n",
       "      <td>1</td>\n",
       "      <td>500</td>\n",
       "      <td>7000</td>\n",
       "      <td>3</td>\n",
       "      <td>0.0</td>\n",
       "      <td>0.0</td>\n",
       "      <td>0.0</td>\n",
       "      <td>0.0</td>\n",
       "      <td>0.0</td>\n",
       "      <td>1</td>\n",
       "    </tr>\n",
       "    <tr>\n",
       "      <th>19109</th>\n",
       "      <td>1.0</td>\n",
       "      <td>1</td>\n",
       "      <td>4.0</td>\n",
       "      <td>1</td>\n",
       "      <td>2</td>\n",
       "      <td>0</td>\n",
       "      <td>0.0</td>\n",
       "      <td>1</td>\n",
       "      <td>400</td>\n",
       "      <td>5500</td>\n",
       "      <td>3</td>\n",
       "      <td>0.0</td>\n",
       "      <td>0.0</td>\n",
       "      <td>0.0</td>\n",
       "      <td>0.0</td>\n",
       "      <td>0.0</td>\n",
       "      <td>1</td>\n",
       "    </tr>\n",
       "  </tbody>\n",
       "</table>\n",
       "<p>19110 rows × 17 columns</p>\n",
       "</div>"
      ],
      "text/plain": [
       "       balconies  bathroom  facing  floor  furnishingDesc  isMaintenance  \\\n",
       "0            1.0         3     1.0      3               1              1   \n",
       "1            1.0         2     0.0      2               2              0   \n",
       "2            1.0         3     0.0      0               1              1   \n",
       "3            1.0         2     1.0      2               2              1   \n",
       "4            2.0         2     0.0      2               1              1   \n",
       "...          ...       ...     ...    ...             ...            ...   \n",
       "19105        1.0         1     4.0      0               2              1   \n",
       "19106        2.0         2     3.0      2               2              1   \n",
       "19107        1.0         3     4.0      3               2              0   \n",
       "19108        1.0         1     4.0      3               2              0   \n",
       "19109        1.0         1     4.0      1               2              0   \n",
       "\n",
       "       locality  parking  property_size  rent_amount  waterSupply  Lift   Ac  \\\n",
       "0           2.0        0           2200        28000            2   1.0  0.0   \n",
       "1           0.0        1           1200        15000            0   0.0  0.0   \n",
       "2           7.0        0           1800        16000            2   1.0  0.0   \n",
       "3           0.0        0            750         9000            2   0.0  0.0   \n",
       "4           0.0        0           1250        32500            2   1.0  1.0   \n",
       "...         ...      ...            ...          ...          ...   ...  ...   \n",
       "19105       2.0        0            500         8500            3   1.0  0.0   \n",
       "19106       0.0        0            900         8500            0   0.0  0.0   \n",
       "19107       0.0        0           1150        15000            3   0.0  0.0   \n",
       "19108       0.0        1            500         7000            3   0.0  0.0   \n",
       "19109       0.0        1            400         5500            3   0.0  0.0   \n",
       "\n",
       "       Security  Servent  Internet  bedrooms  \n",
       "0           1.0      0.0       0.0         3  \n",
       "1           0.0      0.0       0.0         3  \n",
       "2           1.0      1.0       0.0         3  \n",
       "3           1.0      0.0       0.0         2  \n",
       "4           1.0      0.0       0.0         2  \n",
       "...         ...      ...       ...       ...  \n",
       "19105       1.0      0.0       0.0         1  \n",
       "19106       0.0      0.0       0.0         2  \n",
       "19107       0.0      0.0       0.0         2  \n",
       "19108       0.0      0.0       0.0         1  \n",
       "19109       0.0      0.0       0.0         1  \n",
       "\n",
       "[19110 rows x 17 columns]"
      ]
     },
     "execution_count": 577,
     "metadata": {},
     "output_type": "execute_result"
    }
   ],
   "source": [
    "df"
   ]
  },
  {
   "cell_type": "code",
   "execution_count": 578,
   "id": "9d824b29",
   "metadata": {},
   "outputs": [
    {
     "data": {
      "text/plain": [
       "1     4735\n",
       "2     4678\n",
       "0     3908\n",
       "3     2785\n",
       "4     1424\n",
       "5      830\n",
       "6      157\n",
       "7      113\n",
       "8       80\n",
       "9       66\n",
       "11      54\n",
       "10      39\n",
       "12      38\n",
       "14      35\n",
       "13      28\n",
       "18      21\n",
       "16      18\n",
       "15      17\n",
       "20      13\n",
       "19      13\n",
       "21      10\n",
       "17      10\n",
       "23       9\n",
       "22       6\n",
       "25       6\n",
       "24       6\n",
       "28       4\n",
       "29       3\n",
       "26       2\n",
       "31       1\n",
       "30       1\n",
       "Name: floor, dtype: int64"
      ]
     },
     "execution_count": 578,
     "metadata": {},
     "output_type": "execute_result"
    }
   ],
   "source": [
    "df.floor.value_counts()"
   ]
  },
  {
   "cell_type": "code",
   "execution_count": 579,
   "id": "c3b9e159",
   "metadata": {},
   "outputs": [],
   "source": [
    "import scipy.stats as stat\n",
    "import pylab\n",
    "def plot_data(df,feature):\n",
    "    plt.figure(figsize=(10,6))\n",
    "    plt.subplot(1,2,1)\n",
    "    df[feature].hist()\n",
    "    plt.subplot(1,2,2)\n",
    "    stat.probplot(df[feature],dist='norm',plot=pylab)\n",
    "    plt.show()\n"
   ]
  },
  {
   "cell_type": "code",
   "execution_count": 580,
   "id": "e3c949e4",
   "metadata": {
    "scrolled": false
   },
   "outputs": [
    {
     "data": {
      "text/plain": [
       "8"
      ]
     },
     "execution_count": 580,
     "metadata": {},
     "output_type": "execute_result"
    }
   ],
   "source": [
    "# import matplotlib.pyplot as plt\n",
    "# plt.hist(df['floor'],bins=100)\n",
    "# plt.show()\n",
    "5+3"
   ]
  },
  {
   "cell_type": "code",
   "execution_count": 581,
   "id": "16c8d95e",
   "metadata": {
    "scrolled": false
   },
   "outputs": [],
   "source": [
    "# plot_data(df,'furnishingDesc')"
   ]
  },
  {
   "cell_type": "code",
   "execution_count": 582,
   "id": "996e17aa",
   "metadata": {},
   "outputs": [],
   "source": [
    "# df.floor=np.log(df['floor'])\n",
    "# df.floor=np.round_(df.floor,decimals=3)\n",
    "# plot_data(df,'floor')"
   ]
  },
  {
   "cell_type": "code",
   "execution_count": 583,
   "id": "18e7f371",
   "metadata": {
    "scrolled": false
   },
   "outputs": [],
   "source": [
    "# df.floor=1/df.floor\n",
    "# #df.floor=np.round_(df.floor,decimals=3)\n",
    "# plot_data(df,'floor')"
   ]
  },
  {
   "cell_type": "code",
   "execution_count": 584,
   "id": "d14096db",
   "metadata": {
    "scrolled": false
   },
   "outputs": [
    {
     "data": {
      "text/plain": [
       "1     4735\n",
       "2     4678\n",
       "0     3908\n",
       "3     2785\n",
       "4     1424\n",
       "5      830\n",
       "6      157\n",
       "7      113\n",
       "8       80\n",
       "9       66\n",
       "11      54\n",
       "10      39\n",
       "12      38\n",
       "14      35\n",
       "13      28\n",
       "18      21\n",
       "16      18\n",
       "15      17\n",
       "20      13\n",
       "19      13\n",
       "21      10\n",
       "17      10\n",
       "23       9\n",
       "22       6\n",
       "25       6\n",
       "24       6\n",
       "28       4\n",
       "29       3\n",
       "26       2\n",
       "31       1\n",
       "30       1\n",
       "Name: floor, dtype: int64"
      ]
     },
     "execution_count": 584,
     "metadata": {},
     "output_type": "execute_result"
    }
   ],
   "source": [
    "# df.floor=df['floor']**(1/2)\n",
    "# plot_data(df,'floor')\n",
    "df.floor.value_counts()"
   ]
  },
  {
   "cell_type": "code",
   "execution_count": 585,
   "id": "d384f42c",
   "metadata": {},
   "outputs": [],
   "source": [
    "#df['Scaled_Floor']=scaler3.fit_transform(df[['floor']])"
   ]
  },
  {
   "cell_type": "code",
   "execution_count": 586,
   "id": "e5ddc2b5",
   "metadata": {},
   "outputs": [],
   "source": [
    "#df.drop('floor',axis=1,inplace=True)"
   ]
  },
  {
   "cell_type": "code",
   "execution_count": 587,
   "id": "79863f8f",
   "metadata": {},
   "outputs": [
    {
     "name": "stdout",
     "output_type": "stream",
     "text": [
      "<class 'pandas.core.frame.DataFrame'>\n",
      "RangeIndex: 19110 entries, 0 to 19109\n",
      "Data columns (total 17 columns):\n",
      " #   Column          Non-Null Count  Dtype  \n",
      "---  ------          --------------  -----  \n",
      " 0   balconies       19110 non-null  float64\n",
      " 1   bathroom        19110 non-null  int64  \n",
      " 2   facing          19110 non-null  float64\n",
      " 3   floor           19110 non-null  int64  \n",
      " 4   furnishingDesc  19110 non-null  int64  \n",
      " 5   isMaintenance   19110 non-null  int64  \n",
      " 6   locality        19110 non-null  float64\n",
      " 7   parking         19110 non-null  int64  \n",
      " 8   property_size   19110 non-null  int64  \n",
      " 9   rent_amount     19110 non-null  int64  \n",
      " 10  waterSupply     19110 non-null  int64  \n",
      " 11  Lift            19110 non-null  float64\n",
      " 12  Ac              19110 non-null  float64\n",
      " 13  Security        19110 non-null  float64\n",
      " 14  Servent         19110 non-null  float64\n",
      " 15  Internet        19110 non-null  float64\n",
      " 16  bedrooms        19110 non-null  int8   \n",
      "dtypes: float64(8), int64(8), int8(1)\n",
      "memory usage: 2.4 MB\n"
     ]
    }
   ],
   "source": [
    "df.info()\n"
   ]
  },
  {
   "cell_type": "code",
   "execution_count": 588,
   "id": "4e553b96",
   "metadata": {},
   "outputs": [
    {
     "data": {
      "text/plain": [
       "2    8885\n",
       "1    8689\n",
       "0    1536\n",
       "Name: furnishingDesc, dtype: int64"
      ]
     },
     "execution_count": 588,
     "metadata": {},
     "output_type": "execute_result"
    }
   ],
   "source": [
    "df.furnishingDesc.value_counts()"
   ]
  },
  {
   "cell_type": "code",
   "execution_count": 589,
   "id": "8a9214c7",
   "metadata": {},
   "outputs": [],
   "source": [
    "# from sklearn.preprocessing import StandardScaler\n",
    "# scaler1=StandardScaler()\n",
    "# from sklearn.preprocessing import PowerTransformer\n",
    "# scaler6=PowerTransformer(method='yeo-johnson')"
   ]
  },
  {
   "cell_type": "code",
   "execution_count": 590,
   "id": "e160eeca",
   "metadata": {},
   "outputs": [],
   "source": [
    "#df['Scaled_Furnishing']=scaler6.fit_transform(df[['furnishingDesc']])"
   ]
  },
  {
   "cell_type": "code",
   "execution_count": 591,
   "id": "65310edd",
   "metadata": {},
   "outputs": [],
   "source": [
    "#df.drop('furnishingDesc',axis=1,inplace=True)"
   ]
  },
  {
   "cell_type": "code",
   "execution_count": 592,
   "id": "b7d1426e",
   "metadata": {},
   "outputs": [],
   "source": [
    "#df['isMaintenance'].value_counts()"
   ]
  },
  {
   "cell_type": "code",
   "execution_count": 593,
   "id": "e083091e",
   "metadata": {},
   "outputs": [],
   "source": [
    "#df['Scaled_Maintenance']=scaler6.fit_transform(df[['isMaintenance']])"
   ]
  },
  {
   "cell_type": "code",
   "execution_count": 594,
   "id": "4b7367f5",
   "metadata": {},
   "outputs": [],
   "source": [
    "#df.drop('isMaintenance',axis=1,inplace=True)"
   ]
  },
  {
   "cell_type": "code",
   "execution_count": 595,
   "id": "f23cf0a3",
   "metadata": {},
   "outputs": [],
   "source": [
    "#df['parking'].value_counts()"
   ]
  },
  {
   "cell_type": "code",
   "execution_count": null,
   "id": "dbe199d7",
   "metadata": {},
   "outputs": [],
   "source": []
  },
  {
   "cell_type": "code",
   "execution_count": 596,
   "id": "1ec82234",
   "metadata": {},
   "outputs": [],
   "source": [
    "# df['Scaled_Parking']=scaler6.fit_transform(df[['parking']])\n",
    "# df.drop('parking',axis=1,inplace=True)"
   ]
  },
  {
   "cell_type": "code",
   "execution_count": 597,
   "id": "e17423f1",
   "metadata": {},
   "outputs": [],
   "source": [
    "#df['property_size'].value_counts()"
   ]
  },
  {
   "cell_type": "code",
   "execution_count": 598,
   "id": "210857a1",
   "metadata": {
    "scrolled": false
   },
   "outputs": [],
   "source": [
    "# from sklearn.preprocessing import QuantileTransformer\n",
    "# scaler5=QuantileTransformer()"
   ]
  },
  {
   "cell_type": "code",
   "execution_count": 599,
   "id": "daaf6ad1",
   "metadata": {},
   "outputs": [],
   "source": [
    "# df['Scaled_Plotsize']=scaler5.fit_transform(df[['property_size']])"
   ]
  },
  {
   "cell_type": "code",
   "execution_count": 600,
   "id": "f6cd5de6",
   "metadata": {},
   "outputs": [],
   "source": [
    "# df.drop('property_size',axis=1,inplace=True)"
   ]
  },
  {
   "cell_type": "code",
   "execution_count": 601,
   "id": "182c9f8a",
   "metadata": {},
   "outputs": [
    {
     "name": "stdout",
     "output_type": "stream",
     "text": [
      "<class 'pandas.core.frame.DataFrame'>\n",
      "RangeIndex: 19110 entries, 0 to 19109\n",
      "Data columns (total 17 columns):\n",
      " #   Column          Non-Null Count  Dtype  \n",
      "---  ------          --------------  -----  \n",
      " 0   balconies       19110 non-null  float64\n",
      " 1   bathroom        19110 non-null  int64  \n",
      " 2   facing          19110 non-null  float64\n",
      " 3   floor           19110 non-null  int64  \n",
      " 4   furnishingDesc  19110 non-null  int64  \n",
      " 5   isMaintenance   19110 non-null  int64  \n",
      " 6   locality        19110 non-null  float64\n",
      " 7   parking         19110 non-null  int64  \n",
      " 8   property_size   19110 non-null  int64  \n",
      " 9   rent_amount     19110 non-null  int64  \n",
      " 10  waterSupply     19110 non-null  int64  \n",
      " 11  Lift            19110 non-null  float64\n",
      " 12  Ac              19110 non-null  float64\n",
      " 13  Security        19110 non-null  float64\n",
      " 14  Servent         19110 non-null  float64\n",
      " 15  Internet        19110 non-null  float64\n",
      " 16  bedrooms        19110 non-null  int8   \n",
      "dtypes: float64(8), int64(8), int8(1)\n",
      "memory usage: 2.4 MB\n"
     ]
    }
   ],
   "source": [
    "df.info()"
   ]
  },
  {
   "cell_type": "code",
   "execution_count": 602,
   "id": "22e5edca",
   "metadata": {},
   "outputs": [
    {
     "data": {
      "text/html": [
       "<div>\n",
       "<style scoped>\n",
       "    .dataframe tbody tr th:only-of-type {\n",
       "        vertical-align: middle;\n",
       "    }\n",
       "\n",
       "    .dataframe tbody tr th {\n",
       "        vertical-align: top;\n",
       "    }\n",
       "\n",
       "    .dataframe thead th {\n",
       "        text-align: right;\n",
       "    }\n",
       "</style>\n",
       "<table border=\"1\" class=\"dataframe\">\n",
       "  <thead>\n",
       "    <tr style=\"text-align: right;\">\n",
       "      <th></th>\n",
       "      <th>balconies</th>\n",
       "      <th>bathroom</th>\n",
       "      <th>facing</th>\n",
       "      <th>floor</th>\n",
       "      <th>furnishingDesc</th>\n",
       "      <th>isMaintenance</th>\n",
       "      <th>locality</th>\n",
       "      <th>parking</th>\n",
       "      <th>property_size</th>\n",
       "      <th>rent_amount</th>\n",
       "      <th>waterSupply</th>\n",
       "      <th>Lift</th>\n",
       "      <th>Ac</th>\n",
       "      <th>Security</th>\n",
       "      <th>Servent</th>\n",
       "      <th>Internet</th>\n",
       "      <th>bedrooms</th>\n",
       "    </tr>\n",
       "  </thead>\n",
       "  <tbody>\n",
       "    <tr>\n",
       "      <th>0</th>\n",
       "      <td>1.0</td>\n",
       "      <td>3</td>\n",
       "      <td>1.0</td>\n",
       "      <td>3</td>\n",
       "      <td>1</td>\n",
       "      <td>1</td>\n",
       "      <td>2.0</td>\n",
       "      <td>0</td>\n",
       "      <td>2200</td>\n",
       "      <td>28000</td>\n",
       "      <td>2</td>\n",
       "      <td>1.0</td>\n",
       "      <td>0.0</td>\n",
       "      <td>1.0</td>\n",
       "      <td>0.0</td>\n",
       "      <td>0.0</td>\n",
       "      <td>3</td>\n",
       "    </tr>\n",
       "    <tr>\n",
       "      <th>1</th>\n",
       "      <td>1.0</td>\n",
       "      <td>2</td>\n",
       "      <td>0.0</td>\n",
       "      <td>2</td>\n",
       "      <td>2</td>\n",
       "      <td>0</td>\n",
       "      <td>0.0</td>\n",
       "      <td>1</td>\n",
       "      <td>1200</td>\n",
       "      <td>15000</td>\n",
       "      <td>0</td>\n",
       "      <td>0.0</td>\n",
       "      <td>0.0</td>\n",
       "      <td>0.0</td>\n",
       "      <td>0.0</td>\n",
       "      <td>0.0</td>\n",
       "      <td>3</td>\n",
       "    </tr>\n",
       "    <tr>\n",
       "      <th>2</th>\n",
       "      <td>1.0</td>\n",
       "      <td>3</td>\n",
       "      <td>0.0</td>\n",
       "      <td>0</td>\n",
       "      <td>1</td>\n",
       "      <td>1</td>\n",
       "      <td>7.0</td>\n",
       "      <td>0</td>\n",
       "      <td>1800</td>\n",
       "      <td>16000</td>\n",
       "      <td>2</td>\n",
       "      <td>1.0</td>\n",
       "      <td>0.0</td>\n",
       "      <td>1.0</td>\n",
       "      <td>1.0</td>\n",
       "      <td>0.0</td>\n",
       "      <td>3</td>\n",
       "    </tr>\n",
       "    <tr>\n",
       "      <th>3</th>\n",
       "      <td>1.0</td>\n",
       "      <td>2</td>\n",
       "      <td>1.0</td>\n",
       "      <td>2</td>\n",
       "      <td>2</td>\n",
       "      <td>1</td>\n",
       "      <td>0.0</td>\n",
       "      <td>0</td>\n",
       "      <td>750</td>\n",
       "      <td>9000</td>\n",
       "      <td>2</td>\n",
       "      <td>0.0</td>\n",
       "      <td>0.0</td>\n",
       "      <td>1.0</td>\n",
       "      <td>0.0</td>\n",
       "      <td>0.0</td>\n",
       "      <td>2</td>\n",
       "    </tr>\n",
       "    <tr>\n",
       "      <th>4</th>\n",
       "      <td>2.0</td>\n",
       "      <td>2</td>\n",
       "      <td>0.0</td>\n",
       "      <td>2</td>\n",
       "      <td>1</td>\n",
       "      <td>1</td>\n",
       "      <td>0.0</td>\n",
       "      <td>0</td>\n",
       "      <td>1250</td>\n",
       "      <td>32500</td>\n",
       "      <td>2</td>\n",
       "      <td>1.0</td>\n",
       "      <td>1.0</td>\n",
       "      <td>1.0</td>\n",
       "      <td>0.0</td>\n",
       "      <td>0.0</td>\n",
       "      <td>2</td>\n",
       "    </tr>\n",
       "  </tbody>\n",
       "</table>\n",
       "</div>"
      ],
      "text/plain": [
       "   balconies  bathroom  facing  floor  furnishingDesc  isMaintenance  \\\n",
       "0        1.0         3     1.0      3               1              1   \n",
       "1        1.0         2     0.0      2               2              0   \n",
       "2        1.0         3     0.0      0               1              1   \n",
       "3        1.0         2     1.0      2               2              1   \n",
       "4        2.0         2     0.0      2               1              1   \n",
       "\n",
       "   locality  parking  property_size  rent_amount  waterSupply  Lift   Ac  \\\n",
       "0       2.0        0           2200        28000            2   1.0  0.0   \n",
       "1       0.0        1           1200        15000            0   0.0  0.0   \n",
       "2       7.0        0           1800        16000            2   1.0  0.0   \n",
       "3       0.0        0            750         9000            2   0.0  0.0   \n",
       "4       0.0        0           1250        32500            2   1.0  1.0   \n",
       "\n",
       "   Security  Servent  Internet  bedrooms  \n",
       "0       1.0      0.0       0.0         3  \n",
       "1       0.0      0.0       0.0         3  \n",
       "2       1.0      1.0       0.0         3  \n",
       "3       1.0      0.0       0.0         2  \n",
       "4       1.0      0.0       0.0         2  "
      ]
     },
     "execution_count": 602,
     "metadata": {},
     "output_type": "execute_result"
    }
   ],
   "source": [
    "df.head()"
   ]
  },
  {
   "cell_type": "code",
   "execution_count": 603,
   "id": "65df72dc",
   "metadata": {},
   "outputs": [],
   "source": [
    "# df['waterSupply'].value_counts()"
   ]
  },
  {
   "cell_type": "code",
   "execution_count": 604,
   "id": "e2811ec0",
   "metadata": {},
   "outputs": [],
   "source": [
    "# df['Scaled_WaterSupply']=scaler6.fit_transform(df[['waterSupply']])"
   ]
  },
  {
   "cell_type": "code",
   "execution_count": 605,
   "id": "33dd4516",
   "metadata": {},
   "outputs": [],
   "source": [
    "# df.drop('waterSupply',axis=1,inplace=True)"
   ]
  },
  {
   "cell_type": "code",
   "execution_count": 606,
   "id": "b06300b9",
   "metadata": {},
   "outputs": [],
   "source": [
    "#df['Lift'].value_counts()"
   ]
  },
  {
   "cell_type": "code",
   "execution_count": 607,
   "id": "7571c6b8",
   "metadata": {},
   "outputs": [],
   "source": [
    "# df['Scaled_Lift']=scaler6.fit_transform(df[['Lift']])\n",
    "# df.drop('Lift',axis=1,inplace=True)"
   ]
  },
  {
   "cell_type": "code",
   "execution_count": 608,
   "id": "02a99ad5",
   "metadata": {},
   "outputs": [],
   "source": [
    "# df['Ac'].value_counts()"
   ]
  },
  {
   "cell_type": "code",
   "execution_count": 609,
   "id": "8ac060db",
   "metadata": {},
   "outputs": [],
   "source": [
    "# df['Scaled_Ac']=scaler6.fit_transform(df[['Ac']])\n",
    "# df.drop('Ac',axis=1,inplace=True)"
   ]
  },
  {
   "cell_type": "code",
   "execution_count": 610,
   "id": "8dda91b8",
   "metadata": {},
   "outputs": [],
   "source": [
    "# df['Security'].value_counts()"
   ]
  },
  {
   "cell_type": "code",
   "execution_count": 611,
   "id": "f9589fec",
   "metadata": {},
   "outputs": [],
   "source": [
    "# df['Scaled_Security']=scaler6.fit_transform(df[['Security']])\n",
    "# df.drop('Security',axis=1,inplace=True)"
   ]
  },
  {
   "cell_type": "code",
   "execution_count": 612,
   "id": "7e7f3e27",
   "metadata": {},
   "outputs": [],
   "source": [
    "#df['Servent'].value_counts()"
   ]
  },
  {
   "cell_type": "code",
   "execution_count": 613,
   "id": "96095eca",
   "metadata": {},
   "outputs": [],
   "source": [
    "# df['Scaled_Servent']=scaler6.fit_transform(df[['Servent']])\n",
    "# df.drop('Servent',axis=1,inplace=True)"
   ]
  },
  {
   "cell_type": "code",
   "execution_count": 614,
   "id": "e1ec7631",
   "metadata": {},
   "outputs": [],
   "source": [
    "# df['Internet'].value_counts()\n"
   ]
  },
  {
   "cell_type": "code",
   "execution_count": 615,
   "id": "ba13e1e0",
   "metadata": {},
   "outputs": [],
   "source": [
    "# df['Scaled_Internet']=scaler6.fit_transform(df[['Internet']])\n",
    "# df.drop('Internet',axis=1,inplace=True)"
   ]
  },
  {
   "cell_type": "code",
   "execution_count": 616,
   "id": "107b13c1",
   "metadata": {},
   "outputs": [
    {
     "name": "stdout",
     "output_type": "stream",
     "text": [
      "<class 'pandas.core.frame.DataFrame'>\n",
      "RangeIndex: 19110 entries, 0 to 19109\n",
      "Data columns (total 17 columns):\n",
      " #   Column          Non-Null Count  Dtype  \n",
      "---  ------          --------------  -----  \n",
      " 0   balconies       19110 non-null  float64\n",
      " 1   bathroom        19110 non-null  int64  \n",
      " 2   facing          19110 non-null  float64\n",
      " 3   floor           19110 non-null  int64  \n",
      " 4   furnishingDesc  19110 non-null  int64  \n",
      " 5   isMaintenance   19110 non-null  int64  \n",
      " 6   locality        19110 non-null  float64\n",
      " 7   parking         19110 non-null  int64  \n",
      " 8   property_size   19110 non-null  int64  \n",
      " 9   rent_amount     19110 non-null  int64  \n",
      " 10  waterSupply     19110 non-null  int64  \n",
      " 11  Lift            19110 non-null  float64\n",
      " 12  Ac              19110 non-null  float64\n",
      " 13  Security        19110 non-null  float64\n",
      " 14  Servent         19110 non-null  float64\n",
      " 15  Internet        19110 non-null  float64\n",
      " 16  bedrooms        19110 non-null  int8   \n",
      "dtypes: float64(8), int64(8), int8(1)\n",
      "memory usage: 2.4 MB\n"
     ]
    }
   ],
   "source": [
    "df.info()"
   ]
  },
  {
   "cell_type": "code",
   "execution_count": 617,
   "id": "15a9a2b2",
   "metadata": {},
   "outputs": [
    {
     "data": {
      "text/plain": [
       "2    9242\n",
       "1    5370\n",
       "3    4229\n",
       "4     211\n",
       "5      58\n",
       "Name: bedrooms, dtype: int64"
      ]
     },
     "execution_count": 617,
     "metadata": {},
     "output_type": "execute_result"
    }
   ],
   "source": [
    "df.bedrooms.value_counts()"
   ]
  },
  {
   "cell_type": "code",
   "execution_count": 618,
   "id": "786c4a84",
   "metadata": {},
   "outputs": [],
   "source": [
    "# df['Scaled_Bedrooms']=scaler1.fit_transform(df[['bedrooms']])\n",
    "# df.drop('bedrooms',axis=1,inplace=True)"
   ]
  },
  {
   "cell_type": "code",
   "execution_count": 619,
   "id": "85e0f339",
   "metadata": {
    "scrolled": false
   },
   "outputs": [],
   "source": [
    "# plot_data(df,'loc_lati_78.358810000000000000')"
   ]
  },
  {
   "cell_type": "code",
   "execution_count": null,
   "id": "11c9d380",
   "metadata": {},
   "outputs": [],
   "source": []
  },
  {
   "cell_type": "code",
   "execution_count": null,
   "id": "a0cdf3ae",
   "metadata": {},
   "outputs": [],
   "source": []
  },
  {
   "cell_type": "code",
   "execution_count": null,
   "id": "94d188b1",
   "metadata": {},
   "outputs": [],
   "source": []
  },
  {
   "cell_type": "code",
   "execution_count": null,
   "id": "ac660a85",
   "metadata": {},
   "outputs": [],
   "source": []
  },
  {
   "cell_type": "code",
   "execution_count": 620,
   "id": "210ff693",
   "metadata": {},
   "outputs": [
    {
     "name": "stdout",
     "output_type": "stream",
     "text": [
      "<class 'pandas.core.frame.DataFrame'>\n",
      "RangeIndex: 19110 entries, 0 to 19109\n",
      "Data columns (total 17 columns):\n",
      " #   Column          Non-Null Count  Dtype  \n",
      "---  ------          --------------  -----  \n",
      " 0   balconies       19110 non-null  float64\n",
      " 1   bathroom        19110 non-null  int64  \n",
      " 2   facing          19110 non-null  float64\n",
      " 3   floor           19110 non-null  int64  \n",
      " 4   furnishingDesc  19110 non-null  int64  \n",
      " 5   isMaintenance   19110 non-null  int64  \n",
      " 6   locality        19110 non-null  float64\n",
      " 7   parking         19110 non-null  int64  \n",
      " 8   property_size   19110 non-null  int64  \n",
      " 9   rent_amount     19110 non-null  int64  \n",
      " 10  waterSupply     19110 non-null  int64  \n",
      " 11  Lift            19110 non-null  float64\n",
      " 12  Ac              19110 non-null  float64\n",
      " 13  Security        19110 non-null  float64\n",
      " 14  Servent         19110 non-null  float64\n",
      " 15  Internet        19110 non-null  float64\n",
      " 16  bedrooms        19110 non-null  int8   \n",
      "dtypes: float64(8), int64(8), int8(1)\n",
      "memory usage: 2.4 MB\n"
     ]
    }
   ],
   "source": [
    "df.info()"
   ]
  },
  {
   "cell_type": "code",
   "execution_count": 621,
   "id": "6bd19d8f",
   "metadata": {},
   "outputs": [],
   "source": [
    "#df.locality_Kukatpally.value_counts()"
   ]
  },
  {
   "cell_type": "code",
   "execution_count": null,
   "id": "18cc575c",
   "metadata": {},
   "outputs": [],
   "source": []
  },
  {
   "cell_type": "code",
   "execution_count": 622,
   "id": "ef08bcf3",
   "metadata": {},
   "outputs": [],
   "source": [
    "# df.Scaled_Parking.values"
   ]
  },
  {
   "cell_type": "code",
   "execution_count": 623,
   "id": "2aed2477",
   "metadata": {},
   "outputs": [],
   "source": [
    "# j=0\n",
    "# def outlier_norm(df,list1):\n",
    "#     for feature in list1:\n",
    "#         new=[]\n",
    "#         upper_bound=df[feature].mean()+3*df[feature].std()\n",
    "#         lower_bound=df[feature].mean()-3*df[feature].std()\n",
    "#         for i in df[feature].values:\n",
    "#             if i>lower_bound and i<upper_bound:\n",
    "#                 new.append(i)\n",
    "#         df[feature_j]=new\n",
    "#         j=j+1\n",
    "#         df.reset_index(drop=True,inplace=True)\n",
    "#     return df[feature]\n"
   ]
  },
  {
   "cell_type": "code",
   "execution_count": 624,
   "id": "f820d914",
   "metadata": {},
   "outputs": [],
   "source": [
    "# def outlier_skewed(df,list2):\n",
    "#     for feature in list2:\n",
    "#         new1=[]\n",
    "#         IQR=df[feature].quantile(0.75)-df[feature].quantile(0.25)\n",
    "#         upper_fence=df[feature].quantile(0.25)-(IQR*1.5)\n",
    "#         lower_fence=df[feature].quantile(0.25)+(IQR*1.5)    \n",
    "#         for i in df[feature].values:\n",
    "#             if i>lower_fence and i<upper_fence:\n",
    "#                 new1.append(i)\n",
    "#             else:\n",
    "#                 new1.append(111)\n",
    "#         df[feature]==np.new1.T\n",
    "#         return df[feature]"
   ]
  },
  {
   "cell_type": "code",
   "execution_count": 625,
   "id": "93673228",
   "metadata": {},
   "outputs": [],
   "source": [
    "# list1=['Scaled_Furnishing','Scaled_Maintenance','Scaled_Parking','Scaled_WaterSupply','Scaled_Lift','Scaled_Ac','Scaled_Security','Scaled_Servent','Scaled_Internet','Scaled_Bedrooms']\n",
    "# list3=['locality_Kukatpally','locality_Kondapur','locality_Gachibowli','locality_Miyapur','locality_Hafeezpet','locality_Nizampet','locality_Chanda Nagar','locality_Manikonda','locality_Madhapur','locality_Serilingampally']\n",
    "# list4=['loc_long_17.423441796248294000','loc_long_17.469857700000000000','loc_long_17.432393000000000000','loc_long_17.417501000000000000','loc_long_17.398790601277767000','loc_long_17.481881000000000000','loc_long_17.416459800000000000','loc_long_17.406215500000000000','loc_long_17.392495200000000000','loc_long_17.484030000000000000','loc_lati_78.341291944094050000','loc_lati_78.376348600000000000','loc_lati_78.355477387731550000','loc_lati_78.395001000000000000','loc_lati_78.331047000000000000','loc_lati_78.357824600000000000','loc_lati_78.302776000000000000','loc_lati_78.390638000000000000','loc_lati_78.369447499999990000','loc_lati_78.358810000000000000']\n",
    "\n",
    "# list2=['Scaled_Balconies','Scaled_Bathroom','Scaled_Facing','Scaled_Floor','Scaled_Plotsize']"
   ]
  },
  {
   "cell_type": "code",
   "execution_count": 626,
   "id": "fa36ce29",
   "metadata": {},
   "outputs": [],
   "source": [
    "# outlier_skewed(df,list2)"
   ]
  },
  {
   "cell_type": "code",
   "execution_count": 627,
   "id": "cf89cd19",
   "metadata": {},
   "outputs": [],
   "source": [
    "# j=0\n",
    "# def outlier_norm(df,feature):\n",
    "#         new=[]\n",
    "#         upper_bound=df[feature].mean()+3*df[feature].std()\n",
    "#         lower_bound=df[feature].mean()-3*df[feature].std()\n",
    "#         for i in df[feature].values:\n",
    "#             if i>lower_bound and i<upper_bound:\n",
    "#                 new.append(i)\n",
    "#         df[feature_]=new\n",
    "#         return df[feature]\n"
   ]
  },
  {
   "cell_type": "code",
   "execution_count": 628,
   "id": "9417157e",
   "metadata": {},
   "outputs": [],
   "source": [
    "# outlier_norm(df,'Scaled_Parking')"
   ]
  },
  {
   "cell_type": "code",
   "execution_count": null,
   "id": "99550e56",
   "metadata": {},
   "outputs": [],
   "source": []
  },
  {
   "cell_type": "code",
   "execution_count": 629,
   "id": "54339fa1",
   "metadata": {},
   "outputs": [],
   "source": [
    "# outlier_norm(df,list1)\n",
    "\n",
    "# outlier_norm(df,list3)\n",
    "# outlier_norm(df,list4)"
   ]
  },
  {
   "cell_type": "code",
   "execution_count": 630,
   "id": "5ebe138e",
   "metadata": {},
   "outputs": [],
   "source": [
    "# def outlier_norm(df,feature):\n",
    "#     upper_bound=df[feature].mean()+3*df[feature].std()\n",
    "#     lower_bound=df[feature].mean()-3*df[feature].std()\n",
    "#     for i in df[feature].values:\n",
    "#         df[feature]=np.where((i>lower_bound) & (i<upper_bound))\n",
    "    \n",
    "    "
   ]
  },
  {
   "cell_type": "code",
   "execution_count": 631,
   "id": "cb45a32e",
   "metadata": {},
   "outputs": [],
   "source": [
    "\n",
    "# def outlier_norm(df,list1):\n",
    "#     for feature in list1:\n",
    "#         upper_bound=df[feature].mean()+3*df[feature].std()\n",
    "#         lower_bound=df[feature].mean()-3*df[feature].std()\n",
    "#         df[feature] = [x for x in df[feature] if (x>lower_bound) and (x<upper_bound)]\n",
    "#     df[feature+'_']=df[feature]"
   ]
  },
  {
   "cell_type": "code",
   "execution_count": 632,
   "id": "66469bce",
   "metadata": {
    "scrolled": false
   },
   "outputs": [],
   "source": [
    "# outlier_norm(df,list1)"
   ]
  },
  {
   "cell_type": "code",
   "execution_count": 633,
   "id": "8ce4cb68",
   "metadata": {},
   "outputs": [
    {
     "name": "stdout",
     "output_type": "stream",
     "text": [
      "<class 'pandas.core.frame.DataFrame'>\n",
      "RangeIndex: 19110 entries, 0 to 19109\n",
      "Data columns (total 17 columns):\n",
      " #   Column          Non-Null Count  Dtype  \n",
      "---  ------          --------------  -----  \n",
      " 0   balconies       19110 non-null  float64\n",
      " 1   bathroom        19110 non-null  int64  \n",
      " 2   facing          19110 non-null  float64\n",
      " 3   floor           19110 non-null  int64  \n",
      " 4   furnishingDesc  19110 non-null  int64  \n",
      " 5   isMaintenance   19110 non-null  int64  \n",
      " 6   locality        19110 non-null  float64\n",
      " 7   parking         19110 non-null  int64  \n",
      " 8   property_size   19110 non-null  int64  \n",
      " 9   rent_amount     19110 non-null  int64  \n",
      " 10  waterSupply     19110 non-null  int64  \n",
      " 11  Lift            19110 non-null  float64\n",
      " 12  Ac              19110 non-null  float64\n",
      " 13  Security        19110 non-null  float64\n",
      " 14  Servent         19110 non-null  float64\n",
      " 15  Internet        19110 non-null  float64\n",
      " 16  bedrooms        19110 non-null  int8   \n",
      "dtypes: float64(8), int64(8), int8(1)\n",
      "memory usage: 2.4 MB\n"
     ]
    }
   ],
   "source": [
    "df.info()"
   ]
  },
  {
   "cell_type": "code",
   "execution_count": 634,
   "id": "7baf5db2",
   "metadata": {},
   "outputs": [],
   "source": [
    "# new=[]\n",
    "# upper_bound=df['Scaled_Balconies'].mean()+3*df['Scaled_Balconies'].std()\n",
    "# lower_bound=df['Scaled_Balconies'].mean()-3*df['Scaled_Balconies'].std()\n",
    "# for i in df['Scaled_Balconies'].values:\n",
    "#     if i>lower_bound and i<upper_bound:\n",
    "#         new.append(i)\n",
    "# new=DataFrame([new])    "
   ]
  },
  {
   "cell_type": "code",
   "execution_count": 635,
   "id": "6cd92d4a",
   "metadata": {},
   "outputs": [],
   "source": [
    "# df['_'+'Scaled_Balconies']=new.reshape(df['Scaled_Balconies'].shape[0],1)"
   ]
  },
  {
   "cell_type": "code",
   "execution_count": null,
   "id": "d2175973",
   "metadata": {},
   "outputs": [],
   "source": []
  },
  {
   "cell_type": "code",
   "execution_count": 636,
   "id": "1a6ea911",
   "metadata": {},
   "outputs": [],
   "source": [
    "# df['_'+'Scaled_Balconies']=np.where(df['Scaled_Balconies']==new,i,10)"
   ]
  },
  {
   "cell_type": "code",
   "execution_count": 637,
   "id": "0246c422",
   "metadata": {},
   "outputs": [],
   "source": [
    "# df['_'+'Scaled_Balconies']=df['Scaled_Balconies']^new"
   ]
  },
  {
   "cell_type": "code",
   "execution_count": 638,
   "id": "a0c9b675",
   "metadata": {},
   "outputs": [],
   "source": [
    "# def outlier_skewed(dataframe):\n",
    "#     for feature in dataframe.columns:\n",
    "#         new=[]\n",
    "#         IQR=pd.to_numeric(df[feature].quantile(0.75),downcast=\"integer\")-pd.to_numeric(df[feature].quantile(0.25),downcast=\"integer\")\n",
    "#         upper_fence=pd.to_numeric(df[feature].quantile(0.25),downcast=\"integer\")-pd.to_numeric(IQR*1.5,downcast=\"integer\")\n",
    "#         lower_fence=df[feature].quantile(0.25)+(IQR*1.5)    \n",
    "#         for i in df[feature].values:\n",
    "#             if i>lower_fence and i<upper_fence:\n",
    "#                 new.append(i)\n",
    "#             else:\n",
    "#                 new.append(100)\n",
    "#         new=pd.Series(new)\n",
    "#         new=new.T\n",
    "#         df[feature]=new\n",
    "#     return df[feature]       \n"
   ]
  },
  {
   "cell_type": "code",
   "execution_count": 639,
   "id": "c6703efe",
   "metadata": {},
   "outputs": [],
   "source": [
    "# outlier_skewed(df)"
   ]
  },
  {
   "cell_type": "code",
   "execution_count": 640,
   "id": "e73b072e",
   "metadata": {},
   "outputs": [
    {
     "data": {
      "text/plain": [
       "Index(['balconies', 'bathroom', 'facing', 'floor', 'furnishingDesc',\n",
       "       'isMaintenance', 'locality', 'parking', 'property_size', 'rent_amount',\n",
       "       'waterSupply', 'Lift', 'Ac', 'Security', 'Servent', 'Internet',\n",
       "       'bedrooms'],\n",
       "      dtype='object')"
      ]
     },
     "execution_count": 640,
     "metadata": {},
     "output_type": "execute_result"
    }
   ],
   "source": [
    "df.columns"
   ]
  },
  {
   "cell_type": "code",
   "execution_count": 641,
   "id": "efb4de94",
   "metadata": {},
   "outputs": [],
   "source": [
    "# def outlier_norm(df):\n",
    "#     for feature in df:\n",
    "#         new=[]\n",
    "#         upper_bound=df[feature].mean()+3*df[feature].std()\n",
    "#         lower_bound=df[feature].mean()-3*df[feature].std()\n",
    "#         for i in df[feature]:\n",
    "#             if i>lower_bound and i<upper_bound:\n",
    "#                 new.append(i)\n",
    "            \n",
    "#         df[feature]=new\n",
    "#         return df[feature]\n"
   ]
  },
  {
   "cell_type": "code",
   "execution_count": 642,
   "id": "1a582438",
   "metadata": {},
   "outputs": [],
   "source": [
    "# outlier_norm(df)"
   ]
  },
  {
   "cell_type": "code",
   "execution_count": null,
   "id": "609cd7f1",
   "metadata": {},
   "outputs": [],
   "source": []
  },
  {
   "cell_type": "code",
   "execution_count": null,
   "id": "d07ddf2c",
   "metadata": {},
   "outputs": [],
   "source": []
  },
  {
   "cell_type": "code",
   "execution_count": null,
   "id": "1c6f56c6",
   "metadata": {},
   "outputs": [],
   "source": []
  },
  {
   "cell_type": "code",
   "execution_count": null,
   "id": "baca50c3",
   "metadata": {},
   "outputs": [],
   "source": []
  },
  {
   "cell_type": "code",
   "execution_count": 643,
   "id": "e6c2aef0",
   "metadata": {},
   "outputs": [],
   "source": [
    "# def outlier_norm(df):\n",
    "# #     for feature in df:\n",
    "# #         new=[]\n",
    "# #         upper_bound=df[feature].mean()+3*df[feature].std()\n",
    "# #         lower_bound=df[feature].mean()-3*df[feature].std()\n",
    "# #         for i in df[feature]:\n",
    "# #             if i>lower_bound and i<upper_bound:\n",
    "# #                 new.append(i)\n",
    "            \n",
    "# #         df[feature]=new\n",
    "# #         return df[feature]\n"
   ]
  },
  {
   "cell_type": "markdown",
   "id": "b5e38eee",
   "metadata": {},
   "source": [
    "# Feature Selection"
   ]
  },
  {
   "cell_type": "code",
   "execution_count": 644,
   "id": "5991c4e9",
   "metadata": {},
   "outputs": [
    {
     "data": {
      "text/html": [
       "<div>\n",
       "<style scoped>\n",
       "    .dataframe tbody tr th:only-of-type {\n",
       "        vertical-align: middle;\n",
       "    }\n",
       "\n",
       "    .dataframe tbody tr th {\n",
       "        vertical-align: top;\n",
       "    }\n",
       "\n",
       "    .dataframe thead th {\n",
       "        text-align: right;\n",
       "    }\n",
       "</style>\n",
       "<table border=\"1\" class=\"dataframe\">\n",
       "  <thead>\n",
       "    <tr style=\"text-align: right;\">\n",
       "      <th></th>\n",
       "      <th>balconies</th>\n",
       "      <th>bathroom</th>\n",
       "      <th>facing</th>\n",
       "      <th>floor</th>\n",
       "      <th>furnishingDesc</th>\n",
       "      <th>isMaintenance</th>\n",
       "      <th>locality</th>\n",
       "      <th>parking</th>\n",
       "      <th>property_size</th>\n",
       "      <th>rent_amount</th>\n",
       "      <th>waterSupply</th>\n",
       "      <th>Lift</th>\n",
       "      <th>Ac</th>\n",
       "      <th>Security</th>\n",
       "      <th>Servent</th>\n",
       "      <th>Internet</th>\n",
       "      <th>bedrooms</th>\n",
       "    </tr>\n",
       "  </thead>\n",
       "  <tbody>\n",
       "    <tr>\n",
       "      <th>0</th>\n",
       "      <td>1.0</td>\n",
       "      <td>3</td>\n",
       "      <td>1.0</td>\n",
       "      <td>3</td>\n",
       "      <td>1</td>\n",
       "      <td>1</td>\n",
       "      <td>2.0</td>\n",
       "      <td>0</td>\n",
       "      <td>2200</td>\n",
       "      <td>28000</td>\n",
       "      <td>2</td>\n",
       "      <td>1.0</td>\n",
       "      <td>0.0</td>\n",
       "      <td>1.0</td>\n",
       "      <td>0.0</td>\n",
       "      <td>0.0</td>\n",
       "      <td>3</td>\n",
       "    </tr>\n",
       "    <tr>\n",
       "      <th>1</th>\n",
       "      <td>1.0</td>\n",
       "      <td>2</td>\n",
       "      <td>0.0</td>\n",
       "      <td>2</td>\n",
       "      <td>2</td>\n",
       "      <td>0</td>\n",
       "      <td>0.0</td>\n",
       "      <td>1</td>\n",
       "      <td>1200</td>\n",
       "      <td>15000</td>\n",
       "      <td>0</td>\n",
       "      <td>0.0</td>\n",
       "      <td>0.0</td>\n",
       "      <td>0.0</td>\n",
       "      <td>0.0</td>\n",
       "      <td>0.0</td>\n",
       "      <td>3</td>\n",
       "    </tr>\n",
       "    <tr>\n",
       "      <th>2</th>\n",
       "      <td>1.0</td>\n",
       "      <td>3</td>\n",
       "      <td>0.0</td>\n",
       "      <td>0</td>\n",
       "      <td>1</td>\n",
       "      <td>1</td>\n",
       "      <td>7.0</td>\n",
       "      <td>0</td>\n",
       "      <td>1800</td>\n",
       "      <td>16000</td>\n",
       "      <td>2</td>\n",
       "      <td>1.0</td>\n",
       "      <td>0.0</td>\n",
       "      <td>1.0</td>\n",
       "      <td>1.0</td>\n",
       "      <td>0.0</td>\n",
       "      <td>3</td>\n",
       "    </tr>\n",
       "    <tr>\n",
       "      <th>3</th>\n",
       "      <td>1.0</td>\n",
       "      <td>2</td>\n",
       "      <td>1.0</td>\n",
       "      <td>2</td>\n",
       "      <td>2</td>\n",
       "      <td>1</td>\n",
       "      <td>0.0</td>\n",
       "      <td>0</td>\n",
       "      <td>750</td>\n",
       "      <td>9000</td>\n",
       "      <td>2</td>\n",
       "      <td>0.0</td>\n",
       "      <td>0.0</td>\n",
       "      <td>1.0</td>\n",
       "      <td>0.0</td>\n",
       "      <td>0.0</td>\n",
       "      <td>2</td>\n",
       "    </tr>\n",
       "    <tr>\n",
       "      <th>4</th>\n",
       "      <td>2.0</td>\n",
       "      <td>2</td>\n",
       "      <td>0.0</td>\n",
       "      <td>2</td>\n",
       "      <td>1</td>\n",
       "      <td>1</td>\n",
       "      <td>0.0</td>\n",
       "      <td>0</td>\n",
       "      <td>1250</td>\n",
       "      <td>32500</td>\n",
       "      <td>2</td>\n",
       "      <td>1.0</td>\n",
       "      <td>1.0</td>\n",
       "      <td>1.0</td>\n",
       "      <td>0.0</td>\n",
       "      <td>0.0</td>\n",
       "      <td>2</td>\n",
       "    </tr>\n",
       "  </tbody>\n",
       "</table>\n",
       "</div>"
      ],
      "text/plain": [
       "   balconies  bathroom  facing  floor  furnishingDesc  isMaintenance  \\\n",
       "0        1.0         3     1.0      3               1              1   \n",
       "1        1.0         2     0.0      2               2              0   \n",
       "2        1.0         3     0.0      0               1              1   \n",
       "3        1.0         2     1.0      2               2              1   \n",
       "4        2.0         2     0.0      2               1              1   \n",
       "\n",
       "   locality  parking  property_size  rent_amount  waterSupply  Lift   Ac  \\\n",
       "0       2.0        0           2200        28000            2   1.0  0.0   \n",
       "1       0.0        1           1200        15000            0   0.0  0.0   \n",
       "2       7.0        0           1800        16000            2   1.0  0.0   \n",
       "3       0.0        0            750         9000            2   0.0  0.0   \n",
       "4       0.0        0           1250        32500            2   1.0  1.0   \n",
       "\n",
       "   Security  Servent  Internet  bedrooms  \n",
       "0       1.0      0.0       0.0         3  \n",
       "1       0.0      0.0       0.0         3  \n",
       "2       1.0      1.0       0.0         3  \n",
       "3       1.0      0.0       0.0         2  \n",
       "4       1.0      0.0       0.0         2  "
      ]
     },
     "execution_count": 644,
     "metadata": {},
     "output_type": "execute_result"
    }
   ],
   "source": [
    "df.head()"
   ]
  },
  {
   "cell_type": "code",
   "execution_count": 645,
   "id": "8bc38743",
   "metadata": {},
   "outputs": [],
   "source": [
    "df_X=df.drop('rent_amount',axis=1)\n",
    "df_y=df['rent_amount']"
   ]
  },
  {
   "cell_type": "code",
   "execution_count": 646,
   "id": "e1614eaf",
   "metadata": {},
   "outputs": [
    {
     "data": {
      "text/plain": [
       "0        28000\n",
       "1        15000\n",
       "2        16000\n",
       "3         9000\n",
       "4        32500\n",
       "         ...  \n",
       "19105     8500\n",
       "19106     8500\n",
       "19107    15000\n",
       "19108     7000\n",
       "19109     5500\n",
       "Name: rent_amount, Length: 19110, dtype: int64"
      ]
     },
     "execution_count": 646,
     "metadata": {},
     "output_type": "execute_result"
    }
   ],
   "source": [
    "df_y"
   ]
  },
  {
   "cell_type": "code",
   "execution_count": 647,
   "id": "317fc9de",
   "metadata": {},
   "outputs": [],
   "source": [
    "from sklearn.model_selection import train_test_split\n",
    "X_train,X_test,y_train,y_test=train_test_split(df_X,df_y,test_size=0.2)"
   ]
  },
  {
   "cell_type": "code",
   "execution_count": 648,
   "id": "0468df4b",
   "metadata": {},
   "outputs": [
    {
     "data": {
      "text/html": [
       "<div>\n",
       "<style scoped>\n",
       "    .dataframe tbody tr th:only-of-type {\n",
       "        vertical-align: middle;\n",
       "    }\n",
       "\n",
       "    .dataframe tbody tr th {\n",
       "        vertical-align: top;\n",
       "    }\n",
       "\n",
       "    .dataframe thead th {\n",
       "        text-align: right;\n",
       "    }\n",
       "</style>\n",
       "<table border=\"1\" class=\"dataframe\">\n",
       "  <thead>\n",
       "    <tr style=\"text-align: right;\">\n",
       "      <th></th>\n",
       "      <th>balconies</th>\n",
       "      <th>bathroom</th>\n",
       "      <th>facing</th>\n",
       "      <th>floor</th>\n",
       "      <th>furnishingDesc</th>\n",
       "      <th>isMaintenance</th>\n",
       "      <th>locality</th>\n",
       "      <th>parking</th>\n",
       "      <th>property_size</th>\n",
       "      <th>waterSupply</th>\n",
       "      <th>Lift</th>\n",
       "      <th>Ac</th>\n",
       "      <th>Security</th>\n",
       "      <th>Servent</th>\n",
       "      <th>Internet</th>\n",
       "      <th>bedrooms</th>\n",
       "    </tr>\n",
       "  </thead>\n",
       "  <tbody>\n",
       "    <tr>\n",
       "      <th>11178</th>\n",
       "      <td>1.0</td>\n",
       "      <td>1</td>\n",
       "      <td>2.0</td>\n",
       "      <td>1</td>\n",
       "      <td>2</td>\n",
       "      <td>0</td>\n",
       "      <td>0.0</td>\n",
       "      <td>0</td>\n",
       "      <td>420</td>\n",
       "      <td>0</td>\n",
       "      <td>0.0</td>\n",
       "      <td>0.0</td>\n",
       "      <td>0.0</td>\n",
       "      <td>0.0</td>\n",
       "      <td>0.0</td>\n",
       "      <td>1</td>\n",
       "    </tr>\n",
       "    <tr>\n",
       "      <th>15372</th>\n",
       "      <td>1.0</td>\n",
       "      <td>2</td>\n",
       "      <td>4.0</td>\n",
       "      <td>3</td>\n",
       "      <td>1</td>\n",
       "      <td>1</td>\n",
       "      <td>0.0</td>\n",
       "      <td>0</td>\n",
       "      <td>1300</td>\n",
       "      <td>3</td>\n",
       "      <td>1.0</td>\n",
       "      <td>0.0</td>\n",
       "      <td>1.0</td>\n",
       "      <td>0.0</td>\n",
       "      <td>0.0</td>\n",
       "      <td>2</td>\n",
       "    </tr>\n",
       "    <tr>\n",
       "      <th>3051</th>\n",
       "      <td>1.0</td>\n",
       "      <td>2</td>\n",
       "      <td>2.0</td>\n",
       "      <td>2</td>\n",
       "      <td>1</td>\n",
       "      <td>0</td>\n",
       "      <td>0.0</td>\n",
       "      <td>0</td>\n",
       "      <td>600</td>\n",
       "      <td>2</td>\n",
       "      <td>0.0</td>\n",
       "      <td>0.0</td>\n",
       "      <td>0.0</td>\n",
       "      <td>0.0</td>\n",
       "      <td>0.0</td>\n",
       "      <td>1</td>\n",
       "    </tr>\n",
       "    <tr>\n",
       "      <th>143</th>\n",
       "      <td>2.0</td>\n",
       "      <td>2</td>\n",
       "      <td>0.0</td>\n",
       "      <td>1</td>\n",
       "      <td>2</td>\n",
       "      <td>1</td>\n",
       "      <td>0.0</td>\n",
       "      <td>1</td>\n",
       "      <td>1300</td>\n",
       "      <td>2</td>\n",
       "      <td>0.0</td>\n",
       "      <td>0.0</td>\n",
       "      <td>0.0</td>\n",
       "      <td>0.0</td>\n",
       "      <td>0.0</td>\n",
       "      <td>2</td>\n",
       "    </tr>\n",
       "    <tr>\n",
       "      <th>1333</th>\n",
       "      <td>2.0</td>\n",
       "      <td>2</td>\n",
       "      <td>0.0</td>\n",
       "      <td>4</td>\n",
       "      <td>2</td>\n",
       "      <td>1</td>\n",
       "      <td>0.0</td>\n",
       "      <td>2</td>\n",
       "      <td>1475</td>\n",
       "      <td>2</td>\n",
       "      <td>0.0</td>\n",
       "      <td>0.0</td>\n",
       "      <td>0.0</td>\n",
       "      <td>0.0</td>\n",
       "      <td>0.0</td>\n",
       "      <td>3</td>\n",
       "    </tr>\n",
       "  </tbody>\n",
       "</table>\n",
       "</div>"
      ],
      "text/plain": [
       "       balconies  bathroom  facing  floor  furnishingDesc  isMaintenance  \\\n",
       "11178        1.0         1     2.0      1               2              0   \n",
       "15372        1.0         2     4.0      3               1              1   \n",
       "3051         1.0         2     2.0      2               1              0   \n",
       "143          2.0         2     0.0      1               2              1   \n",
       "1333         2.0         2     0.0      4               2              1   \n",
       "\n",
       "       locality  parking  property_size  waterSupply  Lift   Ac  Security  \\\n",
       "11178       0.0        0            420            0   0.0  0.0       0.0   \n",
       "15372       0.0        0           1300            3   1.0  0.0       1.0   \n",
       "3051        0.0        0            600            2   0.0  0.0       0.0   \n",
       "143         0.0        1           1300            2   0.0  0.0       0.0   \n",
       "1333        0.0        2           1475            2   0.0  0.0       0.0   \n",
       "\n",
       "       Servent  Internet  bedrooms  \n",
       "11178      0.0       0.0         1  \n",
       "15372      0.0       0.0         2  \n",
       "3051       0.0       0.0         1  \n",
       "143        0.0       0.0         2  \n",
       "1333       0.0       0.0         3  "
      ]
     },
     "execution_count": 648,
     "metadata": {},
     "output_type": "execute_result"
    }
   ],
   "source": [
    "X_train.head(5)"
   ]
  },
  {
   "cell_type": "code",
   "execution_count": null,
   "id": "4d606699",
   "metadata": {},
   "outputs": [],
   "source": []
  },
  {
   "cell_type": "code",
   "execution_count": 649,
   "id": "2056f987",
   "metadata": {},
   "outputs": [],
   "source": [
    "# def correlation(dataset,threshold):\n",
    "#     col_corr=set()\n",
    "#     corr_matrix=dataset.corr()\n",
    "#     for i in range(len(corr_matrix.columns)):\n",
    "#         for j in range(i):\n",
    "#             if abs(corr_matrix.iloc[i,j]>threshold):\n",
    "#                 colname=corr_matrix.columns[i]\n",
    "#                 col_corr.add(colname)\n",
    "#         return col_corr"
   ]
  },
  {
   "cell_type": "code",
   "execution_count": null,
   "id": "8a068e87",
   "metadata": {},
   "outputs": [],
   "source": []
  },
  {
   "cell_type": "code",
   "execution_count": 650,
   "id": "c5cf19d9",
   "metadata": {},
   "outputs": [],
   "source": [
    "# corr_features=correlation(X_train,0.4)\n"
   ]
  },
  {
   "cell_type": "code",
   "execution_count": 651,
   "id": "043b56f3",
   "metadata": {},
   "outputs": [],
   "source": [
    "# corr_features"
   ]
  },
  {
   "cell_type": "code",
   "execution_count": 652,
   "id": "1ea51203",
   "metadata": {},
   "outputs": [],
   "source": [
    "# from sklearn.feature_extraction.text import CountVectorizer\n",
    "# cvw=CountVectorizer()"
   ]
  },
  {
   "cell_type": "code",
   "execution_count": 653,
   "id": "988b88ce",
   "metadata": {},
   "outputs": [],
   "source": [
    "# X_train=cvw.fit_transform(X_train)"
   ]
  },
  {
   "cell_type": "code",
   "execution_count": 654,
   "id": "0bbd0e9a",
   "metadata": {},
   "outputs": [],
   "source": [
    "# X_train.toarray()[:3]"
   ]
  },
  {
   "cell_type": "code",
   "execution_count": 655,
   "id": "b6a44c14",
   "metadata": {},
   "outputs": [
    {
     "data": {
      "text/plain": [
       "Index(['balconies', 'bathroom', 'facing', 'floor', 'furnishingDesc',\n",
       "       'isMaintenance', 'locality', 'parking', 'property_size', 'waterSupply',\n",
       "       'Lift', 'Ac', 'Security', 'Servent', 'Internet', 'bedrooms'],\n",
       "      dtype='object')"
      ]
     },
     "execution_count": 655,
     "metadata": {},
     "output_type": "execute_result"
    }
   ],
   "source": [
    "# X_train.drop(['Area'],axis=1,inplace=True)\n",
    "X_train.columns"
   ]
  },
  {
   "cell_type": "code",
   "execution_count": 656,
   "id": "612e3a54",
   "metadata": {
    "scrolled": false
   },
   "outputs": [
    {
     "data": {
      "text/html": [
       "<div>\n",
       "<style scoped>\n",
       "    .dataframe tbody tr th:only-of-type {\n",
       "        vertical-align: middle;\n",
       "    }\n",
       "\n",
       "    .dataframe tbody tr th {\n",
       "        vertical-align: top;\n",
       "    }\n",
       "\n",
       "    .dataframe thead th {\n",
       "        text-align: right;\n",
       "    }\n",
       "</style>\n",
       "<table border=\"1\" class=\"dataframe\">\n",
       "  <thead>\n",
       "    <tr style=\"text-align: right;\">\n",
       "      <th></th>\n",
       "      <th>balconies</th>\n",
       "      <th>bathroom</th>\n",
       "      <th>facing</th>\n",
       "      <th>floor</th>\n",
       "      <th>furnishingDesc</th>\n",
       "      <th>isMaintenance</th>\n",
       "      <th>locality</th>\n",
       "      <th>parking</th>\n",
       "      <th>property_size</th>\n",
       "      <th>waterSupply</th>\n",
       "      <th>Lift</th>\n",
       "      <th>Ac</th>\n",
       "      <th>Security</th>\n",
       "      <th>Servent</th>\n",
       "      <th>Internet</th>\n",
       "      <th>bedrooms</th>\n",
       "    </tr>\n",
       "  </thead>\n",
       "  <tbody>\n",
       "    <tr>\n",
       "      <th>11178</th>\n",
       "      <td>1.0</td>\n",
       "      <td>1</td>\n",
       "      <td>2.0</td>\n",
       "      <td>1</td>\n",
       "      <td>2</td>\n",
       "      <td>0</td>\n",
       "      <td>0.0</td>\n",
       "      <td>0</td>\n",
       "      <td>420</td>\n",
       "      <td>0</td>\n",
       "      <td>0.0</td>\n",
       "      <td>0.0</td>\n",
       "      <td>0.0</td>\n",
       "      <td>0.0</td>\n",
       "      <td>0.0</td>\n",
       "      <td>1</td>\n",
       "    </tr>\n",
       "    <tr>\n",
       "      <th>15372</th>\n",
       "      <td>1.0</td>\n",
       "      <td>2</td>\n",
       "      <td>4.0</td>\n",
       "      <td>3</td>\n",
       "      <td>1</td>\n",
       "      <td>1</td>\n",
       "      <td>0.0</td>\n",
       "      <td>0</td>\n",
       "      <td>1300</td>\n",
       "      <td>3</td>\n",
       "      <td>1.0</td>\n",
       "      <td>0.0</td>\n",
       "      <td>1.0</td>\n",
       "      <td>0.0</td>\n",
       "      <td>0.0</td>\n",
       "      <td>2</td>\n",
       "    </tr>\n",
       "    <tr>\n",
       "      <th>3051</th>\n",
       "      <td>1.0</td>\n",
       "      <td>2</td>\n",
       "      <td>2.0</td>\n",
       "      <td>2</td>\n",
       "      <td>1</td>\n",
       "      <td>0</td>\n",
       "      <td>0.0</td>\n",
       "      <td>0</td>\n",
       "      <td>600</td>\n",
       "      <td>2</td>\n",
       "      <td>0.0</td>\n",
       "      <td>0.0</td>\n",
       "      <td>0.0</td>\n",
       "      <td>0.0</td>\n",
       "      <td>0.0</td>\n",
       "      <td>1</td>\n",
       "    </tr>\n",
       "    <tr>\n",
       "      <th>143</th>\n",
       "      <td>2.0</td>\n",
       "      <td>2</td>\n",
       "      <td>0.0</td>\n",
       "      <td>1</td>\n",
       "      <td>2</td>\n",
       "      <td>1</td>\n",
       "      <td>0.0</td>\n",
       "      <td>1</td>\n",
       "      <td>1300</td>\n",
       "      <td>2</td>\n",
       "      <td>0.0</td>\n",
       "      <td>0.0</td>\n",
       "      <td>0.0</td>\n",
       "      <td>0.0</td>\n",
       "      <td>0.0</td>\n",
       "      <td>2</td>\n",
       "    </tr>\n",
       "    <tr>\n",
       "      <th>1333</th>\n",
       "      <td>2.0</td>\n",
       "      <td>2</td>\n",
       "      <td>0.0</td>\n",
       "      <td>4</td>\n",
       "      <td>2</td>\n",
       "      <td>1</td>\n",
       "      <td>0.0</td>\n",
       "      <td>2</td>\n",
       "      <td>1475</td>\n",
       "      <td>2</td>\n",
       "      <td>0.0</td>\n",
       "      <td>0.0</td>\n",
       "      <td>0.0</td>\n",
       "      <td>0.0</td>\n",
       "      <td>0.0</td>\n",
       "      <td>3</td>\n",
       "    </tr>\n",
       "  </tbody>\n",
       "</table>\n",
       "</div>"
      ],
      "text/plain": [
       "       balconies  bathroom  facing  floor  furnishingDesc  isMaintenance  \\\n",
       "11178        1.0         1     2.0      1               2              0   \n",
       "15372        1.0         2     4.0      3               1              1   \n",
       "3051         1.0         2     2.0      2               1              0   \n",
       "143          2.0         2     0.0      1               2              1   \n",
       "1333         2.0         2     0.0      4               2              1   \n",
       "\n",
       "       locality  parking  property_size  waterSupply  Lift   Ac  Security  \\\n",
       "11178       0.0        0            420            0   0.0  0.0       0.0   \n",
       "15372       0.0        0           1300            3   1.0  0.0       1.0   \n",
       "3051        0.0        0            600            2   0.0  0.0       0.0   \n",
       "143         0.0        1           1300            2   0.0  0.0       0.0   \n",
       "1333        0.0        2           1475            2   0.0  0.0       0.0   \n",
       "\n",
       "       Servent  Internet  bedrooms  \n",
       "11178      0.0       0.0         1  \n",
       "15372      0.0       0.0         2  \n",
       "3051       0.0       0.0         1  \n",
       "143        0.0       0.0         2  \n",
       "1333       0.0       0.0         3  "
      ]
     },
     "execution_count": 656,
     "metadata": {},
     "output_type": "execute_result"
    }
   ],
   "source": [
    "X_train.head()"
   ]
  },
  {
   "cell_type": "code",
   "execution_count": 657,
   "id": "bc8272ff",
   "metadata": {},
   "outputs": [],
   "source": [
    "# X_train.drop('propertyTitle',axis=1,inplace=True)"
   ]
  },
  {
   "cell_type": "code",
   "execution_count": 658,
   "id": "b6bfeb36",
   "metadata": {},
   "outputs": [],
   "source": [
    "# df['locality']=df['locality'].fillna(df['locality'].value_counts().index[0])"
   ]
  },
  {
   "cell_type": "code",
   "execution_count": 659,
   "id": "edf7ca34",
   "metadata": {},
   "outputs": [],
   "source": [
    "#df['locality']=df['locality'].map({'':0})"
   ]
  },
  {
   "cell_type": "code",
   "execution_count": 660,
   "id": "3234dbc1",
   "metadata": {},
   "outputs": [
    {
     "data": {
      "text/plain": [
       "array([2., 0., 7., 1., 3., 4., 6., 8., 9., 5.])"
      ]
     },
     "execution_count": 660,
     "metadata": {},
     "output_type": "execute_result"
    }
   ],
   "source": [
    "df['locality'].unique()"
   ]
  },
  {
   "cell_type": "code",
   "execution_count": 661,
   "id": "b7cb1aeb",
   "metadata": {},
   "outputs": [],
   "source": [
    "from  sklearn.feature_selection import mutual_info_regression\n",
    "mutual_info=mutual_info_regression(X_train,y_train)"
   ]
  },
  {
   "cell_type": "code",
   "execution_count": 662,
   "id": "c91dc682",
   "metadata": {},
   "outputs": [
    {
     "data": {
      "text/plain": [
       "balconies         0\n",
       "bathroom          0\n",
       "facing            0\n",
       "floor             0\n",
       "furnishingDesc    0\n",
       "isMaintenance     0\n",
       "locality          0\n",
       "parking           0\n",
       "property_size     0\n",
       "waterSupply       0\n",
       "Lift              0\n",
       "Ac                0\n",
       "Security          0\n",
       "Servent           0\n",
       "Internet          0\n",
       "bedrooms          0\n",
       "dtype: int64"
      ]
     },
     "execution_count": 662,
     "metadata": {},
     "output_type": "execute_result"
    }
   ],
   "source": [
    "X_train.isna().sum()"
   ]
  },
  {
   "cell_type": "code",
   "execution_count": 663,
   "id": "84a96321",
   "metadata": {},
   "outputs": [
    {
     "data": {
      "text/plain": [
       "property_size     0.532279\n",
       "bedrooms          0.446022\n",
       "bathroom          0.384318\n",
       "furnishingDesc    0.186823\n",
       "parking           0.169097\n",
       "Lift              0.118118\n",
       "Security          0.104728\n",
       "floor             0.103621\n",
       "isMaintenance     0.079388\n",
       "locality          0.076082\n",
       "Ac                0.060249\n",
       "balconies         0.035857\n",
       "Internet          0.029807\n",
       "waterSupply       0.026409\n",
       "facing            0.020291\n",
       "Servent           0.009585\n",
       "dtype: float64"
      ]
     },
     "execution_count": 663,
     "metadata": {},
     "output_type": "execute_result"
    }
   ],
   "source": [
    "mutual_info=pd.Series(mutual_info)\n",
    "mutual_info.index=X_train.columns\n",
    "mutual_info.sort_values(ascending=False)"
   ]
  },
  {
   "cell_type": "code",
   "execution_count": 664,
   "id": "b3fee66c",
   "metadata": {},
   "outputs": [],
   "source": [
    "column=['property_size','bedrooms','bathroom','furnishingDesc','parking','Lift','Security','locality']\n",
    "X_train=X_train[column]\n",
    "X_test=X_test[column]"
   ]
  },
  {
   "cell_type": "code",
   "execution_count": 667,
   "id": "5e39c359",
   "metadata": {},
   "outputs": [
    {
     "data": {
      "text/html": [
       "<div>\n",
       "<style scoped>\n",
       "    .dataframe tbody tr th:only-of-type {\n",
       "        vertical-align: middle;\n",
       "    }\n",
       "\n",
       "    .dataframe tbody tr th {\n",
       "        vertical-align: top;\n",
       "    }\n",
       "\n",
       "    .dataframe thead th {\n",
       "        text-align: right;\n",
       "    }\n",
       "</style>\n",
       "<table border=\"1\" class=\"dataframe\">\n",
       "  <thead>\n",
       "    <tr style=\"text-align: right;\">\n",
       "      <th></th>\n",
       "      <th>property_size</th>\n",
       "      <th>bedrooms</th>\n",
       "      <th>bathroom</th>\n",
       "      <th>furnishingDesc</th>\n",
       "      <th>parking</th>\n",
       "      <th>Lift</th>\n",
       "      <th>Security</th>\n",
       "      <th>locality</th>\n",
       "    </tr>\n",
       "  </thead>\n",
       "  <tbody>\n",
       "    <tr>\n",
       "      <th>11178</th>\n",
       "      <td>420</td>\n",
       "      <td>1</td>\n",
       "      <td>1</td>\n",
       "      <td>2</td>\n",
       "      <td>0</td>\n",
       "      <td>0.0</td>\n",
       "      <td>0.0</td>\n",
       "      <td>0.0</td>\n",
       "    </tr>\n",
       "    <tr>\n",
       "      <th>15372</th>\n",
       "      <td>1300</td>\n",
       "      <td>2</td>\n",
       "      <td>2</td>\n",
       "      <td>1</td>\n",
       "      <td>0</td>\n",
       "      <td>1.0</td>\n",
       "      <td>1.0</td>\n",
       "      <td>0.0</td>\n",
       "    </tr>\n",
       "    <tr>\n",
       "      <th>3051</th>\n",
       "      <td>600</td>\n",
       "      <td>1</td>\n",
       "      <td>2</td>\n",
       "      <td>1</td>\n",
       "      <td>0</td>\n",
       "      <td>0.0</td>\n",
       "      <td>0.0</td>\n",
       "      <td>0.0</td>\n",
       "    </tr>\n",
       "    <tr>\n",
       "      <th>143</th>\n",
       "      <td>1300</td>\n",
       "      <td>2</td>\n",
       "      <td>2</td>\n",
       "      <td>2</td>\n",
       "      <td>1</td>\n",
       "      <td>0.0</td>\n",
       "      <td>0.0</td>\n",
       "      <td>0.0</td>\n",
       "    </tr>\n",
       "    <tr>\n",
       "      <th>1333</th>\n",
       "      <td>1475</td>\n",
       "      <td>3</td>\n",
       "      <td>2</td>\n",
       "      <td>2</td>\n",
       "      <td>2</td>\n",
       "      <td>0.0</td>\n",
       "      <td>0.0</td>\n",
       "      <td>0.0</td>\n",
       "    </tr>\n",
       "    <tr>\n",
       "      <th>...</th>\n",
       "      <td>...</td>\n",
       "      <td>...</td>\n",
       "      <td>...</td>\n",
       "      <td>...</td>\n",
       "      <td>...</td>\n",
       "      <td>...</td>\n",
       "      <td>...</td>\n",
       "      <td>...</td>\n",
       "    </tr>\n",
       "    <tr>\n",
       "      <th>14471</th>\n",
       "      <td>450</td>\n",
       "      <td>1</td>\n",
       "      <td>1</td>\n",
       "      <td>2</td>\n",
       "      <td>1</td>\n",
       "      <td>0.0</td>\n",
       "      <td>0.0</td>\n",
       "      <td>0.0</td>\n",
       "    </tr>\n",
       "    <tr>\n",
       "      <th>12628</th>\n",
       "      <td>1200</td>\n",
       "      <td>2</td>\n",
       "      <td>2</td>\n",
       "      <td>2</td>\n",
       "      <td>0</td>\n",
       "      <td>0.0</td>\n",
       "      <td>0.0</td>\n",
       "      <td>0.0</td>\n",
       "    </tr>\n",
       "    <tr>\n",
       "      <th>12904</th>\n",
       "      <td>1500</td>\n",
       "      <td>3</td>\n",
       "      <td>3</td>\n",
       "      <td>0</td>\n",
       "      <td>0</td>\n",
       "      <td>0.0</td>\n",
       "      <td>0.0</td>\n",
       "      <td>0.0</td>\n",
       "    </tr>\n",
       "    <tr>\n",
       "      <th>11916</th>\n",
       "      <td>1050</td>\n",
       "      <td>2</td>\n",
       "      <td>2</td>\n",
       "      <td>1</td>\n",
       "      <td>1</td>\n",
       "      <td>0.0</td>\n",
       "      <td>0.0</td>\n",
       "      <td>0.0</td>\n",
       "    </tr>\n",
       "    <tr>\n",
       "      <th>16545</th>\n",
       "      <td>950</td>\n",
       "      <td>2</td>\n",
       "      <td>2</td>\n",
       "      <td>0</td>\n",
       "      <td>0</td>\n",
       "      <td>1.0</td>\n",
       "      <td>0.0</td>\n",
       "      <td>7.0</td>\n",
       "    </tr>\n",
       "  </tbody>\n",
       "</table>\n",
       "<p>15288 rows × 8 columns</p>\n",
       "</div>"
      ],
      "text/plain": [
       "       property_size  bedrooms  bathroom  furnishingDesc  parking  Lift  \\\n",
       "11178            420         1         1               2        0   0.0   \n",
       "15372           1300         2         2               1        0   1.0   \n",
       "3051             600         1         2               1        0   0.0   \n",
       "143             1300         2         2               2        1   0.0   \n",
       "1333            1475         3         2               2        2   0.0   \n",
       "...              ...       ...       ...             ...      ...   ...   \n",
       "14471            450         1         1               2        1   0.0   \n",
       "12628           1200         2         2               2        0   0.0   \n",
       "12904           1500         3         3               0        0   0.0   \n",
       "11916           1050         2         2               1        1   0.0   \n",
       "16545            950         2         2               0        0   1.0   \n",
       "\n",
       "       Security  locality  \n",
       "11178       0.0       0.0  \n",
       "15372       1.0       0.0  \n",
       "3051        0.0       0.0  \n",
       "143         0.0       0.0  \n",
       "1333        0.0       0.0  \n",
       "...         ...       ...  \n",
       "14471       0.0       0.0  \n",
       "12628       0.0       0.0  \n",
       "12904       0.0       0.0  \n",
       "11916       0.0       0.0  \n",
       "16545       0.0       7.0  \n",
       "\n",
       "[15288 rows x 8 columns]"
      ]
     },
     "execution_count": 667,
     "metadata": {},
     "output_type": "execute_result"
    }
   ],
   "source": [
    "# from sklearn.feature_selection import SelectPercentile\n",
    "# select_top_columns=SelectPercentile(mutual_info_regression,percentile=30)\n",
    "# select_top_columns.fit(X_train,y_train)\n",
    "# colum=X_train.columns[select_top_columns.get_support()]\n",
    "# #X_train1['locality']=X_train['locality']\n",
    "# X_train=X_train[colum]\n",
    "# colum\n",
    "X_train"
   ]
  },
  {
   "cell_type": "code",
   "execution_count": 668,
   "id": "b8aaf90a",
   "metadata": {},
   "outputs": [],
   "source": [
    "# from sklearn.ensemble import ExtraTreesClassifier\n",
    "# model=ExtraTreesClassifier()\n",
    "# model.fit(X_train,y_train)\n",
    "# model.feature_importances_.sort_values(ascending=False)\n",
    "#X_train1['locality']=X_train['locality']"
   ]
  },
  {
   "cell_type": "code",
   "execution_count": 669,
   "id": "bc88072b",
   "metadata": {},
   "outputs": [],
   "source": [
    "from sklearn.ensemble import RandomForestRegressor\n",
    "rf = RandomForestRegressor()\n",
    "from sklearn.model_selection import KFold\n",
    "from sklearn.model_selection import RandomizedSearchCV"
   ]
  },
  {
   "cell_type": "code",
   "execution_count": 670,
   "id": "0f01add9",
   "metadata": {},
   "outputs": [],
   "source": [
    "# Number of trees in random forest\n",
    "n_estimators = [int(x) for x in np.linspace(start = 100, stop = 1200, num = 12)]\n",
    "# Number of features to consider at every split\n",
    "max_features = ['auto', 'sqrt']\n",
    "# Maximum number of levels in tree\n",
    "max_depth = [int(x) for x in np.linspace(5, 30, num = 6)]\n",
    "# max_depth.append(None)\n",
    "# Minimum number of samples required to split a node\n",
    "min_samples_split = [2, 5, 10, 15, 100]\n",
    "# Minimum number of samples required at each leaf node\n",
    "min_samples_leaf = [1, 2, 5, 10]\n",
    "cv=KFold(n_splits=5,random_state=None,shuffle=False)"
   ]
  },
  {
   "cell_type": "code",
   "execution_count": 671,
   "id": "2711839a",
   "metadata": {},
   "outputs": [],
   "source": [
    "random_grid = {'n_estimators': n_estimators,\n",
    "               'max_features': max_features,\n",
    "               'max_depth': max_depth,\n",
    "               'min_samples_split': min_samples_split,\n",
    "               'min_samples_leaf': min_samples_leaf}\n"
   ]
  },
  {
   "cell_type": "code",
   "execution_count": 672,
   "id": "b97ec684",
   "metadata": {
    "scrolled": false
   },
   "outputs": [
    {
     "name": "stdout",
     "output_type": "stream",
     "text": [
      "Fitting 5 folds for each of 10 candidates, totalling 50 fits\n",
      "[CV] END max_depth=10, max_features=sqrt, min_samples_leaf=5, min_samples_split=5, n_estimators=900; total time=   5.7s\n",
      "[CV] END max_depth=10, max_features=sqrt, min_samples_leaf=5, min_samples_split=5, n_estimators=900; total time=   5.5s\n",
      "[CV] END max_depth=10, max_features=sqrt, min_samples_leaf=5, min_samples_split=5, n_estimators=900; total time=   5.3s\n",
      "[CV] END max_depth=10, max_features=sqrt, min_samples_leaf=5, min_samples_split=5, n_estimators=900; total time=   6.2s\n",
      "[CV] END max_depth=10, max_features=sqrt, min_samples_leaf=5, min_samples_split=5, n_estimators=900; total time=   5.5s\n",
      "[CV] END max_depth=15, max_features=sqrt, min_samples_leaf=2, min_samples_split=10, n_estimators=1100; total time=   8.5s\n",
      "[CV] END max_depth=15, max_features=sqrt, min_samples_leaf=2, min_samples_split=10, n_estimators=1100; total time=   8.5s\n",
      "[CV] END max_depth=15, max_features=sqrt, min_samples_leaf=2, min_samples_split=10, n_estimators=1100; total time=   8.6s\n",
      "[CV] END max_depth=15, max_features=sqrt, min_samples_leaf=2, min_samples_split=10, n_estimators=1100; total time=   8.4s\n",
      "[CV] END max_depth=15, max_features=sqrt, min_samples_leaf=2, min_samples_split=10, n_estimators=1100; total time=   8.7s\n",
      "[CV] END max_depth=15, max_features=auto, min_samples_leaf=5, min_samples_split=100, n_estimators=300; total time=   3.5s\n",
      "[CV] END max_depth=15, max_features=auto, min_samples_leaf=5, min_samples_split=100, n_estimators=300; total time=   3.6s\n",
      "[CV] END max_depth=15, max_features=auto, min_samples_leaf=5, min_samples_split=100, n_estimators=300; total time=   3.6s\n",
      "[CV] END max_depth=15, max_features=auto, min_samples_leaf=5, min_samples_split=100, n_estimators=300; total time=   4.2s\n",
      "[CV] END max_depth=15, max_features=auto, min_samples_leaf=5, min_samples_split=100, n_estimators=300; total time=   4.4s\n",
      "[CV] END max_depth=15, max_features=auto, min_samples_leaf=5, min_samples_split=5, n_estimators=400; total time=   6.4s\n",
      "[CV] END max_depth=15, max_features=auto, min_samples_leaf=5, min_samples_split=5, n_estimators=400; total time=   6.2s\n",
      "[CV] END max_depth=15, max_features=auto, min_samples_leaf=5, min_samples_split=5, n_estimators=400; total time=   6.1s\n",
      "[CV] END max_depth=15, max_features=auto, min_samples_leaf=5, min_samples_split=5, n_estimators=400; total time=   6.1s\n",
      "[CV] END max_depth=15, max_features=auto, min_samples_leaf=5, min_samples_split=5, n_estimators=400; total time=   6.1s\n",
      "[CV] END max_depth=20, max_features=auto, min_samples_leaf=10, min_samples_split=5, n_estimators=700; total time=   9.8s\n",
      "[CV] END max_depth=20, max_features=auto, min_samples_leaf=10, min_samples_split=5, n_estimators=700; total time=   9.9s\n",
      "[CV] END max_depth=20, max_features=auto, min_samples_leaf=10, min_samples_split=5, n_estimators=700; total time=  12.5s\n",
      "[CV] END max_depth=20, max_features=auto, min_samples_leaf=10, min_samples_split=5, n_estimators=700; total time=   9.8s\n",
      "[CV] END max_depth=20, max_features=auto, min_samples_leaf=10, min_samples_split=5, n_estimators=700; total time=   9.8s\n",
      "[CV] END max_depth=25, max_features=sqrt, min_samples_leaf=1, min_samples_split=2, n_estimators=1000; total time=  12.6s\n",
      "[CV] END max_depth=25, max_features=sqrt, min_samples_leaf=1, min_samples_split=2, n_estimators=1000; total time=  14.7s\n",
      "[CV] END max_depth=25, max_features=sqrt, min_samples_leaf=1, min_samples_split=2, n_estimators=1000; total time=  12.8s\n",
      "[CV] END max_depth=25, max_features=sqrt, min_samples_leaf=1, min_samples_split=2, n_estimators=1000; total time=  12.4s\n",
      "[CV] END max_depth=25, max_features=sqrt, min_samples_leaf=1, min_samples_split=2, n_estimators=1000; total time=  12.6s\n",
      "[CV] END max_depth=5, max_features=sqrt, min_samples_leaf=10, min_samples_split=15, n_estimators=1100; total time=   4.5s\n",
      "[CV] END max_depth=5, max_features=sqrt, min_samples_leaf=10, min_samples_split=15, n_estimators=1100; total time=   4.5s\n",
      "[CV] END max_depth=5, max_features=sqrt, min_samples_leaf=10, min_samples_split=15, n_estimators=1100; total time=   4.4s\n",
      "[CV] END max_depth=5, max_features=sqrt, min_samples_leaf=10, min_samples_split=15, n_estimators=1100; total time=   4.5s\n",
      "[CV] END max_depth=5, max_features=sqrt, min_samples_leaf=10, min_samples_split=15, n_estimators=1100; total time=   4.5s\n",
      "[CV] END max_depth=15, max_features=sqrt, min_samples_leaf=1, min_samples_split=15, n_estimators=300; total time=   2.3s\n",
      "[CV] END max_depth=15, max_features=sqrt, min_samples_leaf=1, min_samples_split=15, n_estimators=300; total time=   2.3s\n",
      "[CV] END max_depth=15, max_features=sqrt, min_samples_leaf=1, min_samples_split=15, n_estimators=300; total time=   2.3s\n",
      "[CV] END max_depth=15, max_features=sqrt, min_samples_leaf=1, min_samples_split=15, n_estimators=300; total time=   2.4s\n",
      "[CV] END max_depth=15, max_features=sqrt, min_samples_leaf=1, min_samples_split=15, n_estimators=300; total time=   2.3s\n",
      "[CV] END max_depth=5, max_features=sqrt, min_samples_leaf=2, min_samples_split=10, n_estimators=700; total time=   2.8s\n",
      "[CV] END max_depth=5, max_features=sqrt, min_samples_leaf=2, min_samples_split=10, n_estimators=700; total time=   2.8s\n",
      "[CV] END max_depth=5, max_features=sqrt, min_samples_leaf=2, min_samples_split=10, n_estimators=700; total time=   2.8s\n",
      "[CV] END max_depth=5, max_features=sqrt, min_samples_leaf=2, min_samples_split=10, n_estimators=700; total time=   2.8s\n",
      "[CV] END max_depth=5, max_features=sqrt, min_samples_leaf=2, min_samples_split=10, n_estimators=700; total time=   3.2s\n",
      "[CV] END max_depth=20, max_features=auto, min_samples_leaf=1, min_samples_split=15, n_estimators=700; total time=  12.1s\n",
      "[CV] END max_depth=20, max_features=auto, min_samples_leaf=1, min_samples_split=15, n_estimators=700; total time=  11.5s\n",
      "[CV] END max_depth=20, max_features=auto, min_samples_leaf=1, min_samples_split=15, n_estimators=700; total time=  11.6s\n",
      "[CV] END max_depth=20, max_features=auto, min_samples_leaf=1, min_samples_split=15, n_estimators=700; total time=  11.9s\n",
      "[CV] END max_depth=20, max_features=auto, min_samples_leaf=1, min_samples_split=15, n_estimators=700; total time=  11.5s\n"
     ]
    },
    {
     "data": {
      "text/plain": [
       "RandomizedSearchCV(cv=KFold(n_splits=5, random_state=None, shuffle=False),\n",
       "                   estimator=RandomForestRegressor(), n_jobs=1,\n",
       "                   param_distributions={'max_depth': [5, 10, 15, 20, 25, 30],\n",
       "                                        'max_features': ['auto', 'sqrt'],\n",
       "                                        'min_samples_leaf': [1, 2, 5, 10],\n",
       "                                        'min_samples_split': [2, 5, 10, 15,\n",
       "                                                              100],\n",
       "                                        'n_estimators': [100, 200, 300, 400,\n",
       "                                                         500, 600, 700, 800,\n",
       "                                                         900, 1000, 1100,\n",
       "                                                         1200]},\n",
       "                   random_state=42, scoring='neg_mean_squared_error',\n",
       "                   verbose=2)"
      ]
     },
     "execution_count": 672,
     "metadata": {},
     "output_type": "execute_result"
    }
   ],
   "source": [
    "\n",
    "# Random search of parameters, using 3 fold cross validation, \n",
    "# search across 100 different combinations\n",
    "rf_random = RandomizedSearchCV(estimator = rf, param_distributions = random_grid,scoring='neg_mean_squared_error', n_iter = 10, cv = cv, verbose=2, random_state=42, n_jobs = 1)\n",
    "rf_random.fit(X_train,y_train)"
   ]
  },
  {
   "cell_type": "code",
   "execution_count": 673,
   "id": "c873d833",
   "metadata": {},
   "outputs": [
    {
     "data": {
      "text/plain": [
       "(15288, 8)"
      ]
     },
     "execution_count": 673,
     "metadata": {},
     "output_type": "execute_result"
    }
   ],
   "source": [
    "X_train.shape"
   ]
  },
  {
   "cell_type": "code",
   "execution_count": 674,
   "id": "c874c41b",
   "metadata": {},
   "outputs": [
    {
     "data": {
      "text/plain": [
       "(15288,)"
      ]
     },
     "execution_count": 674,
     "metadata": {},
     "output_type": "execute_result"
    }
   ],
   "source": [
    "y_train.shape"
   ]
  },
  {
   "cell_type": "code",
   "execution_count": 675,
   "id": "8ed7e07f",
   "metadata": {},
   "outputs": [
    {
     "data": {
      "text/plain": [
       "(3822, 8)"
      ]
     },
     "execution_count": 675,
     "metadata": {},
     "output_type": "execute_result"
    }
   ],
   "source": [
    "X_test.shape"
   ]
  },
  {
   "cell_type": "code",
   "execution_count": 676,
   "id": "6a34c817",
   "metadata": {},
   "outputs": [
    {
     "data": {
      "text/plain": [
       "(3822,)"
      ]
     },
     "execution_count": 676,
     "metadata": {},
     "output_type": "execute_result"
    }
   ],
   "source": [
    "y_test.shape"
   ]
  },
  {
   "cell_type": "code",
   "execution_count": 677,
   "id": "e6ced747",
   "metadata": {},
   "outputs": [
    {
     "data": {
      "text/html": [
       "<div>\n",
       "<style scoped>\n",
       "    .dataframe tbody tr th:only-of-type {\n",
       "        vertical-align: middle;\n",
       "    }\n",
       "\n",
       "    .dataframe tbody tr th {\n",
       "        vertical-align: top;\n",
       "    }\n",
       "\n",
       "    .dataframe thead th {\n",
       "        text-align: right;\n",
       "    }\n",
       "</style>\n",
       "<table border=\"1\" class=\"dataframe\">\n",
       "  <thead>\n",
       "    <tr style=\"text-align: right;\">\n",
       "      <th></th>\n",
       "      <th>property_size</th>\n",
       "      <th>bedrooms</th>\n",
       "      <th>bathroom</th>\n",
       "      <th>furnishingDesc</th>\n",
       "      <th>parking</th>\n",
       "      <th>Lift</th>\n",
       "      <th>Security</th>\n",
       "      <th>locality</th>\n",
       "    </tr>\n",
       "  </thead>\n",
       "  <tbody>\n",
       "    <tr>\n",
       "      <th>8774</th>\n",
       "      <td>992</td>\n",
       "      <td>2</td>\n",
       "      <td>2</td>\n",
       "      <td>1</td>\n",
       "      <td>0</td>\n",
       "      <td>0.0</td>\n",
       "      <td>0.0</td>\n",
       "      <td>0.0</td>\n",
       "    </tr>\n",
       "    <tr>\n",
       "      <th>4053</th>\n",
       "      <td>1000</td>\n",
       "      <td>2</td>\n",
       "      <td>2</td>\n",
       "      <td>1</td>\n",
       "      <td>4</td>\n",
       "      <td>0.0</td>\n",
       "      <td>0.0</td>\n",
       "      <td>0.0</td>\n",
       "    </tr>\n",
       "    <tr>\n",
       "      <th>12218</th>\n",
       "      <td>1070</td>\n",
       "      <td>2</td>\n",
       "      <td>2</td>\n",
       "      <td>1</td>\n",
       "      <td>1</td>\n",
       "      <td>0.0</td>\n",
       "      <td>1.0</td>\n",
       "      <td>0.0</td>\n",
       "    </tr>\n",
       "    <tr>\n",
       "      <th>8281</th>\n",
       "      <td>1000</td>\n",
       "      <td>2</td>\n",
       "      <td>3</td>\n",
       "      <td>1</td>\n",
       "      <td>0</td>\n",
       "      <td>0.0</td>\n",
       "      <td>0.0</td>\n",
       "      <td>0.0</td>\n",
       "    </tr>\n",
       "    <tr>\n",
       "      <th>767</th>\n",
       "      <td>1000</td>\n",
       "      <td>2</td>\n",
       "      <td>2</td>\n",
       "      <td>2</td>\n",
       "      <td>0</td>\n",
       "      <td>0.0</td>\n",
       "      <td>0.0</td>\n",
       "      <td>0.0</td>\n",
       "    </tr>\n",
       "  </tbody>\n",
       "</table>\n",
       "</div>"
      ],
      "text/plain": [
       "       property_size  bedrooms  bathroom  furnishingDesc  parking  Lift  \\\n",
       "8774             992         2         2               1        0   0.0   \n",
       "4053            1000         2         2               1        4   0.0   \n",
       "12218           1070         2         2               1        1   0.0   \n",
       "8281            1000         2         3               1        0   0.0   \n",
       "767             1000         2         2               2        0   0.0   \n",
       "\n",
       "       Security  locality  \n",
       "8774        0.0       0.0  \n",
       "4053        0.0       0.0  \n",
       "12218       1.0       0.0  \n",
       "8281        0.0       0.0  \n",
       "767         0.0       0.0  "
      ]
     },
     "execution_count": 677,
     "metadata": {},
     "output_type": "execute_result"
    }
   ],
   "source": [
    "X_test.head()"
   ]
  },
  {
   "cell_type": "code",
   "execution_count": 678,
   "id": "6cd6f180",
   "metadata": {},
   "outputs": [
    {
     "data": {
      "text/plain": [
       "<bound method Series.unique of 2    1824\n",
       "1    1114\n",
       "3     827\n",
       "4      44\n",
       "5      13\n",
       "Name: bedrooms, dtype: int64>"
      ]
     },
     "execution_count": 678,
     "metadata": {},
     "output_type": "execute_result"
    }
   ],
   "source": [
    "X_test['bedrooms'].value_counts().unique"
   ]
  },
  {
   "cell_type": "code",
   "execution_count": 679,
   "id": "0e15f1e2",
   "metadata": {},
   "outputs": [
    {
     "data": {
      "text/plain": [
       "<bound method Series.unique of 2    7418\n",
       "1    4256\n",
       "3    3402\n",
       "4     167\n",
       "5      45\n",
       "Name: bedrooms, dtype: int64>"
      ]
     },
     "execution_count": 679,
     "metadata": {},
     "output_type": "execute_result"
    }
   ],
   "source": [
    "X_train['bedrooms'].value_counts().unique"
   ]
  },
  {
   "cell_type": "code",
   "execution_count": 680,
   "id": "ce0ec323",
   "metadata": {},
   "outputs": [
    {
     "data": {
      "text/plain": [
       "Index(['property_size', 'bedrooms', 'bathroom', 'furnishingDesc', 'parking',\n",
       "       'Lift', 'Security', 'locality'],\n",
       "      dtype='object')"
      ]
     },
     "execution_count": 680,
     "metadata": {},
     "output_type": "execute_result"
    }
   ],
   "source": [
    "X_test.columns"
   ]
  },
  {
   "cell_type": "code",
   "execution_count": 681,
   "id": "b054d360",
   "metadata": {},
   "outputs": [],
   "source": [
    "predictions=rf_random.predict(X_test)"
   ]
  },
  {
   "cell_type": "code",
   "execution_count": 682,
   "id": "6e110e43",
   "metadata": {},
   "outputs": [
    {
     "name": "stdout",
     "output_type": "stream",
     "text": [
      "MAE: 3124.3056721757357\n",
      "MSE: 24965671.64887421\n",
      "RMSE: 4996.56598564196\n"
     ]
    }
   ],
   "source": [
    "from sklearn import metrics\n",
    "print('MAE:', metrics.mean_absolute_error(y_test, predictions))\n",
    "print('MSE:', metrics.mean_squared_error(y_test, predictions))\n",
    "print('RMSE:', np.sqrt(metrics.mean_squared_error(y_test, predictions)))"
   ]
  },
  {
   "cell_type": "code",
   "execution_count": 683,
   "id": "c0821713",
   "metadata": {},
   "outputs": [],
   "source": [
    "import pickle\n",
    "# open a file, where you ant to store the data\n",
    "file = open('random_forest_regression_model.pkl', 'wb')\n",
    "\n",
    "# dump information to that file\n",
    "pickle.dump(rf_random, file)"
   ]
  },
  {
   "cell_type": "code",
   "execution_count": 684,
   "id": "5fdf6323",
   "metadata": {},
   "outputs": [
    {
     "data": {
      "text/plain": [
       "array([15035.24019627])"
      ]
     },
     "execution_count": 684,
     "metadata": {},
     "output_type": "execute_result"
    }
   ],
   "source": [
    "rf_random.predict([[1500,2,2,2,4,1,0,0]])"
   ]
  },
  {
   "cell_type": "code",
   "execution_count": 685,
   "id": "76081b7a",
   "metadata": {},
   "outputs": [
    {
     "data": {
      "text/plain": [
       "<bound method Series.unique of property_size  bedrooms  bathroom  furnishingDesc  parking  Lift  Security  locality\n",
       "500            1         1         2               1        0.0   0.0       0.0         312\n",
       "1000           2         2         2               1        0.0   0.0       0.0         216\n",
       "600            1         1         2               1        0.0   0.0       0.0         135\n",
       "550            1         1         2               1        0.0   0.0       0.0         121\n",
       "900            2         2         2               1        0.0   0.0       0.0         108\n",
       "                                                                                       ... \n",
       "1085           2         2         1               0        1.0   1.0       0.0           1\n",
       "                                                                  0.0       0.0           1\n",
       "                                                            0.0   0.0       0.0           1\n",
       "1083           2         2         2               0        0.0   1.0       0.0           1\n",
       "12000          1         1         0               0        1.0   1.0       2.0           1\n",
       "Length: 6340, dtype: int64>"
      ]
     },
     "execution_count": 685,
     "metadata": {},
     "output_type": "execute_result"
    }
   ],
   "source": [
    "X_train.value_counts().unique"
   ]
  },
  {
   "cell_type": "code",
   "execution_count": null,
   "id": "c8c61f3c",
   "metadata": {},
   "outputs": [],
   "source": []
  },
  {
   "cell_type": "code",
   "execution_count": null,
   "id": "f5f0bb45",
   "metadata": {},
   "outputs": [],
   "source": []
  }
 ],
 "metadata": {
  "kernelspec": {
   "display_name": "Python 3 (ipykernel)",
   "language": "python",
   "name": "python3"
  },
  "language_info": {
   "codemirror_mode": {
    "name": "ipython",
    "version": 3
   },
   "file_extension": ".py",
   "mimetype": "text/x-python",
   "name": "python",
   "nbconvert_exporter": "python",
   "pygments_lexer": "ipython3",
   "version": "3.9.13"
  }
 },
 "nbformat": 4,
 "nbformat_minor": 5
}
